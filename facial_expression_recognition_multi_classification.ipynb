{
  "cells": [
    {
      "cell_type": "markdown",
      "metadata": {
        "id": "view-in-github",
        "colab_type": "text"
      },
      "source": [
        "<a href=\"https://colab.research.google.com/github/ilhamaqsham/Hello-Project---Ilham-Aqsha-Metrylia/blob/main/facial_expression_recognition_multi_classification.ipynb\" target=\"_parent\"><img src=\"https://colab.research.google.com/assets/colab-badge.svg\" alt=\"Open In Colab\"/></a>"
      ]
    },
    {
      "cell_type": "markdown",
      "id": "c9b9fcf3",
      "metadata": {
        "papermill": {
          "duration": 0.009868,
          "end_time": "2023-06-21T18:25:34.033687",
          "exception": false,
          "start_time": "2023-06-21T18:25:34.023819",
          "status": "completed"
        },
        "tags": [],
        "id": "c9b9fcf3"
      },
      "source": [
        "# Import Libraries"
      ]
    },
    {
      "cell_type": "code",
      "source": [
        "from google.colab import drive\n",
        "drive.mount('/content/drive')"
      ],
      "metadata": {
        "colab": {
          "base_uri": "https://localhost:8080/"
        },
        "id": "pE4IOJ1nkMxn",
        "outputId": "50cb03c2-ee3c-4273-98c9-f511dd0039f5"
      },
      "id": "pE4IOJ1nkMxn",
      "execution_count": null,
      "outputs": [
        {
          "output_type": "stream",
          "name": "stdout",
          "text": [
            "Drive already mounted at /content/drive; to attempt to forcibly remount, call drive.mount(\"/content/drive\", force_remount=True).\n"
          ]
        }
      ]
    },
    {
      "cell_type": "code",
      "execution_count": null,
      "id": "d8889fe1",
      "metadata": {
        "execution": {
          "iopub.execute_input": "2023-06-21T18:25:34.052150Z",
          "iopub.status.busy": "2023-06-21T18:25:34.051477Z",
          "iopub.status.idle": "2023-06-21T18:25:51.593737Z",
          "shell.execute_reply": "2023-06-21T18:25:51.592463Z"
        },
        "papermill": {
          "duration": 17.554141,
          "end_time": "2023-06-21T18:25:51.596304",
          "exception": false,
          "start_time": "2023-06-21T18:25:34.042163",
          "status": "completed"
        },
        "tags": [],
        "id": "d8889fe1"
      },
      "outputs": [],
      "source": [
        "import pandas as pd\n",
        "import numpy as np\n",
        "import os\n",
        "import matplotlib.pyplot as plt\n",
        "import seaborn as sns\n",
        "import warnings\n",
        "import random\n",
        "from tqdm.notebook import tqdm\n",
        "warnings.filterwarnings('ignore')\n",
        "%matplotlib inline\n",
        "from sklearn.preprocessing import LabelEncoder\n",
        "\n",
        "import tensorflow as tf\n",
        "from tensorflow.keras.utils import to_categorical\n",
        "from keras.utils import load_img\n",
        "from keras.models import Sequential\n",
        "from keras.layers import Dense, Conv2D, Dropout, Flatten, MaxPooling2D\n",
        "\n",
        "from keras.applications.vgg19 import VGG19\n",
        "from keras.applications.vgg19 import preprocess_input"
      ]
    },
    {
      "cell_type": "code",
      "execution_count": null,
      "id": "8340c0a8",
      "metadata": {
        "execution": {
          "iopub.execute_input": "2023-06-21T18:25:51.616870Z",
          "iopub.status.busy": "2023-06-21T18:25:51.616237Z",
          "iopub.status.idle": "2023-06-21T18:25:51.620896Z",
          "shell.execute_reply": "2023-06-21T18:25:51.620023Z"
        },
        "papermill": {
          "duration": 0.01706,
          "end_time": "2023-06-21T18:25:51.622945",
          "exception": false,
          "start_time": "2023-06-21T18:25:51.605885",
          "status": "completed"
        },
        "tags": [],
        "id": "8340c0a8"
      },
      "outputs": [],
      "source": [
        "TRAIN_DIR ='/content/drive/MyDrive/facial-expression/train/train/'\n",
        "TEST_DIR = '/content/drive/MyDrive/facial-expression/test/test/'"
      ]
    },
    {
      "cell_type": "markdown",
      "id": "87636182",
      "metadata": {
        "papermill": {
          "duration": 0.008152,
          "end_time": "2023-06-21T18:25:51.639574",
          "exception": false,
          "start_time": "2023-06-21T18:25:51.631422",
          "status": "completed"
        },
        "tags": [],
        "id": "87636182"
      },
      "source": [
        "# Load Dataset"
      ]
    },
    {
      "cell_type": "code",
      "execution_count": null,
      "id": "9787bfa1",
      "metadata": {
        "execution": {
          "iopub.execute_input": "2023-06-21T18:25:51.658367Z",
          "iopub.status.busy": "2023-06-21T18:25:51.657532Z",
          "iopub.status.idle": "2023-06-21T18:25:51.664149Z",
          "shell.execute_reply": "2023-06-21T18:25:51.663160Z"
        },
        "papermill": {
          "duration": 0.018004,
          "end_time": "2023-06-21T18:25:51.666210",
          "exception": false,
          "start_time": "2023-06-21T18:25:51.648206",
          "status": "completed"
        },
        "tags": [],
        "id": "9787bfa1"
      },
      "outputs": [],
      "source": [
        "def load_images(dir_path):\n",
        "    labels = []\n",
        "    img_paths = []\n",
        "\n",
        "    for folder in os.listdir(dir_path):\n",
        "        for filename in os.listdir(dir_path+folder):\n",
        "            img_path = os.path.join(dir_path,folder,filename)\n",
        "            img_paths.append(img_path)\n",
        "            labels.append(folder)\n",
        "        print(folder,' Completed')\n",
        "    return img_paths, labels"
      ]
    },
    {
      "cell_type": "code",
      "execution_count": null,
      "id": "7ce91a19",
      "metadata": {
        "execution": {
          "iopub.execute_input": "2023-06-21T18:25:51.684357Z",
          "iopub.status.busy": "2023-06-21T18:25:51.684101Z",
          "iopub.status.idle": "2023-06-21T18:25:53.241840Z",
          "shell.execute_reply": "2023-06-21T18:25:53.240522Z"
        },
        "papermill": {
          "duration": 1.569634,
          "end_time": "2023-06-21T18:25:53.244333",
          "exception": false,
          "start_time": "2023-06-21T18:25:51.674699",
          "status": "completed"
        },
        "tags": [],
        "colab": {
          "base_uri": "https://localhost:8080/"
        },
        "id": "7ce91a19",
        "outputId": "d8131b7c-986a-4871-f015-db1f97c052dd"
      },
      "outputs": [
        {
          "output_type": "stream",
          "name": "stdout",
          "text": [
            "angry  Completed\n",
            "disgust  Completed\n",
            "fear  Completed\n",
            "happy  Completed\n",
            "neutral  Completed\n",
            "sad  Completed\n",
            "surprise  Completed\n"
          ]
        }
      ],
      "source": [
        "train = pd.DataFrame()\n",
        "train['images'], train['labels'] = load_images(TRAIN_DIR)\n"
      ]
    },
    {
      "cell_type": "code",
      "execution_count": null,
      "id": "3fd37b33",
      "metadata": {
        "execution": {
          "iopub.execute_input": "2023-06-21T18:25:53.262637Z",
          "iopub.status.busy": "2023-06-21T18:25:53.262322Z",
          "iopub.status.idle": "2023-06-21T18:25:53.290277Z",
          "shell.execute_reply": "2023-06-21T18:25:53.289387Z"
        },
        "papermill": {
          "duration": 0.039456,
          "end_time": "2023-06-21T18:25:53.292547",
          "exception": false,
          "start_time": "2023-06-21T18:25:53.253091",
          "status": "completed"
        },
        "tags": [],
        "id": "3fd37b33",
        "colab": {
          "base_uri": "https://localhost:8080/",
          "height": 206
        },
        "outputId": "ea8782e7-caf7-4b9e-abe0-febb50097bd6"
      },
      "outputs": [
        {
          "output_type": "execute_result",
          "data": {
            "text/plain": [
              "                                              images labels\n",
              "0  /content/drive/MyDrive/facial-expression/train...   fear\n",
              "1  /content/drive/MyDrive/facial-expression/train...  happy\n",
              "2  /content/drive/MyDrive/facial-expression/train...  happy\n",
              "3  /content/drive/MyDrive/facial-expression/train...   fear\n",
              "4  /content/drive/MyDrive/facial-expression/train...    sad"
            ],
            "text/html": [
              "\n",
              "  <div id=\"df-1c450198-479f-474e-928f-6d387389c4a3\" class=\"colab-df-container\">\n",
              "    <div>\n",
              "<style scoped>\n",
              "    .dataframe tbody tr th:only-of-type {\n",
              "        vertical-align: middle;\n",
              "    }\n",
              "\n",
              "    .dataframe tbody tr th {\n",
              "        vertical-align: top;\n",
              "    }\n",
              "\n",
              "    .dataframe thead th {\n",
              "        text-align: right;\n",
              "    }\n",
              "</style>\n",
              "<table border=\"1\" class=\"dataframe\">\n",
              "  <thead>\n",
              "    <tr style=\"text-align: right;\">\n",
              "      <th></th>\n",
              "      <th>images</th>\n",
              "      <th>labels</th>\n",
              "    </tr>\n",
              "  </thead>\n",
              "  <tbody>\n",
              "    <tr>\n",
              "      <th>0</th>\n",
              "      <td>/content/drive/MyDrive/facial-expression/train...</td>\n",
              "      <td>fear</td>\n",
              "    </tr>\n",
              "    <tr>\n",
              "      <th>1</th>\n",
              "      <td>/content/drive/MyDrive/facial-expression/train...</td>\n",
              "      <td>happy</td>\n",
              "    </tr>\n",
              "    <tr>\n",
              "      <th>2</th>\n",
              "      <td>/content/drive/MyDrive/facial-expression/train...</td>\n",
              "      <td>happy</td>\n",
              "    </tr>\n",
              "    <tr>\n",
              "      <th>3</th>\n",
              "      <td>/content/drive/MyDrive/facial-expression/train...</td>\n",
              "      <td>fear</td>\n",
              "    </tr>\n",
              "    <tr>\n",
              "      <th>4</th>\n",
              "      <td>/content/drive/MyDrive/facial-expression/train...</td>\n",
              "      <td>sad</td>\n",
              "    </tr>\n",
              "  </tbody>\n",
              "</table>\n",
              "</div>\n",
              "    <div class=\"colab-df-buttons\">\n",
              "\n",
              "  <div class=\"colab-df-container\">\n",
              "    <button class=\"colab-df-convert\" onclick=\"convertToInteractive('df-1c450198-479f-474e-928f-6d387389c4a3')\"\n",
              "            title=\"Convert this dataframe to an interactive table.\"\n",
              "            style=\"display:none;\">\n",
              "\n",
              "  <svg xmlns=\"http://www.w3.org/2000/svg\" height=\"24px\" viewBox=\"0 -960 960 960\">\n",
              "    <path d=\"M120-120v-720h720v720H120Zm60-500h600v-160H180v160Zm220 220h160v-160H400v160Zm0 220h160v-160H400v160ZM180-400h160v-160H180v160Zm440 0h160v-160H620v160ZM180-180h160v-160H180v160Zm440 0h160v-160H620v160Z\"/>\n",
              "  </svg>\n",
              "    </button>\n",
              "\n",
              "  <style>\n",
              "    .colab-df-container {\n",
              "      display:flex;\n",
              "      gap: 12px;\n",
              "    }\n",
              "\n",
              "    .colab-df-convert {\n",
              "      background-color: #E8F0FE;\n",
              "      border: none;\n",
              "      border-radius: 50%;\n",
              "      cursor: pointer;\n",
              "      display: none;\n",
              "      fill: #1967D2;\n",
              "      height: 32px;\n",
              "      padding: 0 0 0 0;\n",
              "      width: 32px;\n",
              "    }\n",
              "\n",
              "    .colab-df-convert:hover {\n",
              "      background-color: #E2EBFA;\n",
              "      box-shadow: 0px 1px 2px rgba(60, 64, 67, 0.3), 0px 1px 3px 1px rgba(60, 64, 67, 0.15);\n",
              "      fill: #174EA6;\n",
              "    }\n",
              "\n",
              "    .colab-df-buttons div {\n",
              "      margin-bottom: 4px;\n",
              "    }\n",
              "\n",
              "    [theme=dark] .colab-df-convert {\n",
              "      background-color: #3B4455;\n",
              "      fill: #D2E3FC;\n",
              "    }\n",
              "\n",
              "    [theme=dark] .colab-df-convert:hover {\n",
              "      background-color: #434B5C;\n",
              "      box-shadow: 0px 1px 3px 1px rgba(0, 0, 0, 0.15);\n",
              "      filter: drop-shadow(0px 1px 2px rgba(0, 0, 0, 0.3));\n",
              "      fill: #FFFFFF;\n",
              "    }\n",
              "  </style>\n",
              "\n",
              "    <script>\n",
              "      const buttonEl =\n",
              "        document.querySelector('#df-1c450198-479f-474e-928f-6d387389c4a3 button.colab-df-convert');\n",
              "      buttonEl.style.display =\n",
              "        google.colab.kernel.accessAllowed ? 'block' : 'none';\n",
              "\n",
              "      async function convertToInteractive(key) {\n",
              "        const element = document.querySelector('#df-1c450198-479f-474e-928f-6d387389c4a3');\n",
              "        const dataTable =\n",
              "          await google.colab.kernel.invokeFunction('convertToInteractive',\n",
              "                                                    [key], {});\n",
              "        if (!dataTable) return;\n",
              "\n",
              "        const docLinkHtml = 'Like what you see? Visit the ' +\n",
              "          '<a target=\"_blank\" href=https://colab.research.google.com/notebooks/data_table.ipynb>data table notebook</a>'\n",
              "          + ' to learn more about interactive tables.';\n",
              "        element.innerHTML = '';\n",
              "        dataTable['output_type'] = 'display_data';\n",
              "        await google.colab.output.renderOutput(dataTable, element);\n",
              "        const docLink = document.createElement('div');\n",
              "        docLink.innerHTML = docLinkHtml;\n",
              "        element.appendChild(docLink);\n",
              "      }\n",
              "    </script>\n",
              "  </div>\n",
              "\n",
              "\n",
              "<div id=\"df-ad4ec80c-a613-4a9c-bdd4-9e10f8aed526\">\n",
              "  <button class=\"colab-df-quickchart\" onclick=\"quickchart('df-ad4ec80c-a613-4a9c-bdd4-9e10f8aed526')\"\n",
              "            title=\"Suggest charts\"\n",
              "            style=\"display:none;\">\n",
              "\n",
              "<svg xmlns=\"http://www.w3.org/2000/svg\" height=\"24px\"viewBox=\"0 0 24 24\"\n",
              "     width=\"24px\">\n",
              "    <g>\n",
              "        <path d=\"M19 3H5c-1.1 0-2 .9-2 2v14c0 1.1.9 2 2 2h14c1.1 0 2-.9 2-2V5c0-1.1-.9-2-2-2zM9 17H7v-7h2v7zm4 0h-2V7h2v10zm4 0h-2v-4h2v4z\"/>\n",
              "    </g>\n",
              "</svg>\n",
              "  </button>\n",
              "\n",
              "<style>\n",
              "  .colab-df-quickchart {\n",
              "      --bg-color: #E8F0FE;\n",
              "      --fill-color: #1967D2;\n",
              "      --hover-bg-color: #E2EBFA;\n",
              "      --hover-fill-color: #174EA6;\n",
              "      --disabled-fill-color: #AAA;\n",
              "      --disabled-bg-color: #DDD;\n",
              "  }\n",
              "\n",
              "  [theme=dark] .colab-df-quickchart {\n",
              "      --bg-color: #3B4455;\n",
              "      --fill-color: #D2E3FC;\n",
              "      --hover-bg-color: #434B5C;\n",
              "      --hover-fill-color: #FFFFFF;\n",
              "      --disabled-bg-color: #3B4455;\n",
              "      --disabled-fill-color: #666;\n",
              "  }\n",
              "\n",
              "  .colab-df-quickchart {\n",
              "    background-color: var(--bg-color);\n",
              "    border: none;\n",
              "    border-radius: 50%;\n",
              "    cursor: pointer;\n",
              "    display: none;\n",
              "    fill: var(--fill-color);\n",
              "    height: 32px;\n",
              "    padding: 0;\n",
              "    width: 32px;\n",
              "  }\n",
              "\n",
              "  .colab-df-quickchart:hover {\n",
              "    background-color: var(--hover-bg-color);\n",
              "    box-shadow: 0 1px 2px rgba(60, 64, 67, 0.3), 0 1px 3px 1px rgba(60, 64, 67, 0.15);\n",
              "    fill: var(--button-hover-fill-color);\n",
              "  }\n",
              "\n",
              "  .colab-df-quickchart-complete:disabled,\n",
              "  .colab-df-quickchart-complete:disabled:hover {\n",
              "    background-color: var(--disabled-bg-color);\n",
              "    fill: var(--disabled-fill-color);\n",
              "    box-shadow: none;\n",
              "  }\n",
              "\n",
              "  .colab-df-spinner {\n",
              "    border: 2px solid var(--fill-color);\n",
              "    border-color: transparent;\n",
              "    border-bottom-color: var(--fill-color);\n",
              "    animation:\n",
              "      spin 1s steps(1) infinite;\n",
              "  }\n",
              "\n",
              "  @keyframes spin {\n",
              "    0% {\n",
              "      border-color: transparent;\n",
              "      border-bottom-color: var(--fill-color);\n",
              "      border-left-color: var(--fill-color);\n",
              "    }\n",
              "    20% {\n",
              "      border-color: transparent;\n",
              "      border-left-color: var(--fill-color);\n",
              "      border-top-color: var(--fill-color);\n",
              "    }\n",
              "    30% {\n",
              "      border-color: transparent;\n",
              "      border-left-color: var(--fill-color);\n",
              "      border-top-color: var(--fill-color);\n",
              "      border-right-color: var(--fill-color);\n",
              "    }\n",
              "    40% {\n",
              "      border-color: transparent;\n",
              "      border-right-color: var(--fill-color);\n",
              "      border-top-color: var(--fill-color);\n",
              "    }\n",
              "    60% {\n",
              "      border-color: transparent;\n",
              "      border-right-color: var(--fill-color);\n",
              "    }\n",
              "    80% {\n",
              "      border-color: transparent;\n",
              "      border-right-color: var(--fill-color);\n",
              "      border-bottom-color: var(--fill-color);\n",
              "    }\n",
              "    90% {\n",
              "      border-color: transparent;\n",
              "      border-bottom-color: var(--fill-color);\n",
              "    }\n",
              "  }\n",
              "</style>\n",
              "\n",
              "  <script>\n",
              "    async function quickchart(key) {\n",
              "      const quickchartButtonEl =\n",
              "        document.querySelector('#' + key + ' button');\n",
              "      quickchartButtonEl.disabled = true;  // To prevent multiple clicks.\n",
              "      quickchartButtonEl.classList.add('colab-df-spinner');\n",
              "      try {\n",
              "        const charts = await google.colab.kernel.invokeFunction(\n",
              "            'suggestCharts', [key], {});\n",
              "      } catch (error) {\n",
              "        console.error('Error during call to suggestCharts:', error);\n",
              "      }\n",
              "      quickchartButtonEl.classList.remove('colab-df-spinner');\n",
              "      quickchartButtonEl.classList.add('colab-df-quickchart-complete');\n",
              "    }\n",
              "    (() => {\n",
              "      let quickchartButtonEl =\n",
              "        document.querySelector('#df-ad4ec80c-a613-4a9c-bdd4-9e10f8aed526 button');\n",
              "      quickchartButtonEl.style.display =\n",
              "        google.colab.kernel.accessAllowed ? 'block' : 'none';\n",
              "    })();\n",
              "  </script>\n",
              "</div>\n",
              "    </div>\n",
              "  </div>\n"
            ]
          },
          "metadata": {},
          "execution_count": 33
        }
      ],
      "source": [
        "# shuffle the dataset\n",
        "train = train.sample(frac = 1).reset_index(drop=True)\n",
        "train.head()"
      ]
    },
    {
      "cell_type": "code",
      "execution_count": null,
      "id": "d21bb438",
      "metadata": {
        "execution": {
          "iopub.execute_input": "2023-06-21T18:25:53.311767Z",
          "iopub.status.busy": "2023-06-21T18:25:53.311216Z",
          "iopub.status.idle": "2023-06-21T18:25:54.364422Z",
          "shell.execute_reply": "2023-06-21T18:25:54.363253Z"
        },
        "papermill": {
          "duration": 1.064874,
          "end_time": "2023-06-21T18:25:54.366534",
          "exception": false,
          "start_time": "2023-06-21T18:25:53.301660",
          "status": "completed"
        },
        "tags": [],
        "id": "d21bb438",
        "colab": {
          "base_uri": "https://localhost:8080/",
          "height": 328
        },
        "outputId": "83787e03-f3eb-4797-d4d7-dea70bf65ef2"
      },
      "outputs": [
        {
          "output_type": "stream",
          "name": "stdout",
          "text": [
            "angry  Completed\n",
            "disgust  Completed\n",
            "fear  Completed\n",
            "happy  Completed\n",
            "neutral  Completed\n",
            "sad  Completed\n",
            "surprise  Completed\n"
          ]
        },
        {
          "output_type": "execute_result",
          "data": {
            "text/plain": [
              "                                              images labels\n",
              "0  /content/drive/MyDrive/facial-expression/test/...  angry\n",
              "1  /content/drive/MyDrive/facial-expression/test/...  angry\n",
              "2  /content/drive/MyDrive/facial-expression/test/...  angry\n",
              "3  /content/drive/MyDrive/facial-expression/test/...  angry\n",
              "4  /content/drive/MyDrive/facial-expression/test/...  angry"
            ],
            "text/html": [
              "\n",
              "  <div id=\"df-81a061d3-0368-48a3-993c-56e0b3787cc5\" class=\"colab-df-container\">\n",
              "    <div>\n",
              "<style scoped>\n",
              "    .dataframe tbody tr th:only-of-type {\n",
              "        vertical-align: middle;\n",
              "    }\n",
              "\n",
              "    .dataframe tbody tr th {\n",
              "        vertical-align: top;\n",
              "    }\n",
              "\n",
              "    .dataframe thead th {\n",
              "        text-align: right;\n",
              "    }\n",
              "</style>\n",
              "<table border=\"1\" class=\"dataframe\">\n",
              "  <thead>\n",
              "    <tr style=\"text-align: right;\">\n",
              "      <th></th>\n",
              "      <th>images</th>\n",
              "      <th>labels</th>\n",
              "    </tr>\n",
              "  </thead>\n",
              "  <tbody>\n",
              "    <tr>\n",
              "      <th>0</th>\n",
              "      <td>/content/drive/MyDrive/facial-expression/test/...</td>\n",
              "      <td>angry</td>\n",
              "    </tr>\n",
              "    <tr>\n",
              "      <th>1</th>\n",
              "      <td>/content/drive/MyDrive/facial-expression/test/...</td>\n",
              "      <td>angry</td>\n",
              "    </tr>\n",
              "    <tr>\n",
              "      <th>2</th>\n",
              "      <td>/content/drive/MyDrive/facial-expression/test/...</td>\n",
              "      <td>angry</td>\n",
              "    </tr>\n",
              "    <tr>\n",
              "      <th>3</th>\n",
              "      <td>/content/drive/MyDrive/facial-expression/test/...</td>\n",
              "      <td>angry</td>\n",
              "    </tr>\n",
              "    <tr>\n",
              "      <th>4</th>\n",
              "      <td>/content/drive/MyDrive/facial-expression/test/...</td>\n",
              "      <td>angry</td>\n",
              "    </tr>\n",
              "  </tbody>\n",
              "</table>\n",
              "</div>\n",
              "    <div class=\"colab-df-buttons\">\n",
              "\n",
              "  <div class=\"colab-df-container\">\n",
              "    <button class=\"colab-df-convert\" onclick=\"convertToInteractive('df-81a061d3-0368-48a3-993c-56e0b3787cc5')\"\n",
              "            title=\"Convert this dataframe to an interactive table.\"\n",
              "            style=\"display:none;\">\n",
              "\n",
              "  <svg xmlns=\"http://www.w3.org/2000/svg\" height=\"24px\" viewBox=\"0 -960 960 960\">\n",
              "    <path d=\"M120-120v-720h720v720H120Zm60-500h600v-160H180v160Zm220 220h160v-160H400v160Zm0 220h160v-160H400v160ZM180-400h160v-160H180v160Zm440 0h160v-160H620v160ZM180-180h160v-160H180v160Zm440 0h160v-160H620v160Z\"/>\n",
              "  </svg>\n",
              "    </button>\n",
              "\n",
              "  <style>\n",
              "    .colab-df-container {\n",
              "      display:flex;\n",
              "      gap: 12px;\n",
              "    }\n",
              "\n",
              "    .colab-df-convert {\n",
              "      background-color: #E8F0FE;\n",
              "      border: none;\n",
              "      border-radius: 50%;\n",
              "      cursor: pointer;\n",
              "      display: none;\n",
              "      fill: #1967D2;\n",
              "      height: 32px;\n",
              "      padding: 0 0 0 0;\n",
              "      width: 32px;\n",
              "    }\n",
              "\n",
              "    .colab-df-convert:hover {\n",
              "      background-color: #E2EBFA;\n",
              "      box-shadow: 0px 1px 2px rgba(60, 64, 67, 0.3), 0px 1px 3px 1px rgba(60, 64, 67, 0.15);\n",
              "      fill: #174EA6;\n",
              "    }\n",
              "\n",
              "    .colab-df-buttons div {\n",
              "      margin-bottom: 4px;\n",
              "    }\n",
              "\n",
              "    [theme=dark] .colab-df-convert {\n",
              "      background-color: #3B4455;\n",
              "      fill: #D2E3FC;\n",
              "    }\n",
              "\n",
              "    [theme=dark] .colab-df-convert:hover {\n",
              "      background-color: #434B5C;\n",
              "      box-shadow: 0px 1px 3px 1px rgba(0, 0, 0, 0.15);\n",
              "      filter: drop-shadow(0px 1px 2px rgba(0, 0, 0, 0.3));\n",
              "      fill: #FFFFFF;\n",
              "    }\n",
              "  </style>\n",
              "\n",
              "    <script>\n",
              "      const buttonEl =\n",
              "        document.querySelector('#df-81a061d3-0368-48a3-993c-56e0b3787cc5 button.colab-df-convert');\n",
              "      buttonEl.style.display =\n",
              "        google.colab.kernel.accessAllowed ? 'block' : 'none';\n",
              "\n",
              "      async function convertToInteractive(key) {\n",
              "        const element = document.querySelector('#df-81a061d3-0368-48a3-993c-56e0b3787cc5');\n",
              "        const dataTable =\n",
              "          await google.colab.kernel.invokeFunction('convertToInteractive',\n",
              "                                                    [key], {});\n",
              "        if (!dataTable) return;\n",
              "\n",
              "        const docLinkHtml = 'Like what you see? Visit the ' +\n",
              "          '<a target=\"_blank\" href=https://colab.research.google.com/notebooks/data_table.ipynb>data table notebook</a>'\n",
              "          + ' to learn more about interactive tables.';\n",
              "        element.innerHTML = '';\n",
              "        dataTable['output_type'] = 'display_data';\n",
              "        await google.colab.output.renderOutput(dataTable, element);\n",
              "        const docLink = document.createElement('div');\n",
              "        docLink.innerHTML = docLinkHtml;\n",
              "        element.appendChild(docLink);\n",
              "      }\n",
              "    </script>\n",
              "  </div>\n",
              "\n",
              "\n",
              "<div id=\"df-64872bcf-7000-465d-b42f-7925f969c0c9\">\n",
              "  <button class=\"colab-df-quickchart\" onclick=\"quickchart('df-64872bcf-7000-465d-b42f-7925f969c0c9')\"\n",
              "            title=\"Suggest charts\"\n",
              "            style=\"display:none;\">\n",
              "\n",
              "<svg xmlns=\"http://www.w3.org/2000/svg\" height=\"24px\"viewBox=\"0 0 24 24\"\n",
              "     width=\"24px\">\n",
              "    <g>\n",
              "        <path d=\"M19 3H5c-1.1 0-2 .9-2 2v14c0 1.1.9 2 2 2h14c1.1 0 2-.9 2-2V5c0-1.1-.9-2-2-2zM9 17H7v-7h2v7zm4 0h-2V7h2v10zm4 0h-2v-4h2v4z\"/>\n",
              "    </g>\n",
              "</svg>\n",
              "  </button>\n",
              "\n",
              "<style>\n",
              "  .colab-df-quickchart {\n",
              "      --bg-color: #E8F0FE;\n",
              "      --fill-color: #1967D2;\n",
              "      --hover-bg-color: #E2EBFA;\n",
              "      --hover-fill-color: #174EA6;\n",
              "      --disabled-fill-color: #AAA;\n",
              "      --disabled-bg-color: #DDD;\n",
              "  }\n",
              "\n",
              "  [theme=dark] .colab-df-quickchart {\n",
              "      --bg-color: #3B4455;\n",
              "      --fill-color: #D2E3FC;\n",
              "      --hover-bg-color: #434B5C;\n",
              "      --hover-fill-color: #FFFFFF;\n",
              "      --disabled-bg-color: #3B4455;\n",
              "      --disabled-fill-color: #666;\n",
              "  }\n",
              "\n",
              "  .colab-df-quickchart {\n",
              "    background-color: var(--bg-color);\n",
              "    border: none;\n",
              "    border-radius: 50%;\n",
              "    cursor: pointer;\n",
              "    display: none;\n",
              "    fill: var(--fill-color);\n",
              "    height: 32px;\n",
              "    padding: 0;\n",
              "    width: 32px;\n",
              "  }\n",
              "\n",
              "  .colab-df-quickchart:hover {\n",
              "    background-color: var(--hover-bg-color);\n",
              "    box-shadow: 0 1px 2px rgba(60, 64, 67, 0.3), 0 1px 3px 1px rgba(60, 64, 67, 0.15);\n",
              "    fill: var(--button-hover-fill-color);\n",
              "  }\n",
              "\n",
              "  .colab-df-quickchart-complete:disabled,\n",
              "  .colab-df-quickchart-complete:disabled:hover {\n",
              "    background-color: var(--disabled-bg-color);\n",
              "    fill: var(--disabled-fill-color);\n",
              "    box-shadow: none;\n",
              "  }\n",
              "\n",
              "  .colab-df-spinner {\n",
              "    border: 2px solid var(--fill-color);\n",
              "    border-color: transparent;\n",
              "    border-bottom-color: var(--fill-color);\n",
              "    animation:\n",
              "      spin 1s steps(1) infinite;\n",
              "  }\n",
              "\n",
              "  @keyframes spin {\n",
              "    0% {\n",
              "      border-color: transparent;\n",
              "      border-bottom-color: var(--fill-color);\n",
              "      border-left-color: var(--fill-color);\n",
              "    }\n",
              "    20% {\n",
              "      border-color: transparent;\n",
              "      border-left-color: var(--fill-color);\n",
              "      border-top-color: var(--fill-color);\n",
              "    }\n",
              "    30% {\n",
              "      border-color: transparent;\n",
              "      border-left-color: var(--fill-color);\n",
              "      border-top-color: var(--fill-color);\n",
              "      border-right-color: var(--fill-color);\n",
              "    }\n",
              "    40% {\n",
              "      border-color: transparent;\n",
              "      border-right-color: var(--fill-color);\n",
              "      border-top-color: var(--fill-color);\n",
              "    }\n",
              "    60% {\n",
              "      border-color: transparent;\n",
              "      border-right-color: var(--fill-color);\n",
              "    }\n",
              "    80% {\n",
              "      border-color: transparent;\n",
              "      border-right-color: var(--fill-color);\n",
              "      border-bottom-color: var(--fill-color);\n",
              "    }\n",
              "    90% {\n",
              "      border-color: transparent;\n",
              "      border-bottom-color: var(--fill-color);\n",
              "    }\n",
              "  }\n",
              "</style>\n",
              "\n",
              "  <script>\n",
              "    async function quickchart(key) {\n",
              "      const quickchartButtonEl =\n",
              "        document.querySelector('#' + key + ' button');\n",
              "      quickchartButtonEl.disabled = true;  // To prevent multiple clicks.\n",
              "      quickchartButtonEl.classList.add('colab-df-spinner');\n",
              "      try {\n",
              "        const charts = await google.colab.kernel.invokeFunction(\n",
              "            'suggestCharts', [key], {});\n",
              "      } catch (error) {\n",
              "        console.error('Error during call to suggestCharts:', error);\n",
              "      }\n",
              "      quickchartButtonEl.classList.remove('colab-df-spinner');\n",
              "      quickchartButtonEl.classList.add('colab-df-quickchart-complete');\n",
              "    }\n",
              "    (() => {\n",
              "      let quickchartButtonEl =\n",
              "        document.querySelector('#df-64872bcf-7000-465d-b42f-7925f969c0c9 button');\n",
              "      quickchartButtonEl.style.display =\n",
              "        google.colab.kernel.accessAllowed ? 'block' : 'none';\n",
              "    })();\n",
              "  </script>\n",
              "</div>\n",
              "    </div>\n",
              "  </div>\n"
            ]
          },
          "metadata": {},
          "execution_count": 34
        }
      ],
      "source": [
        "test = pd.DataFrame()\n",
        "test['images'], test['labels'] = load_images(TEST_DIR)\n",
        "test.head()"
      ]
    },
    {
      "cell_type": "markdown",
      "id": "64501662",
      "metadata": {
        "papermill": {
          "duration": 0.009418,
          "end_time": "2023-06-21T18:25:54.386047",
          "exception": false,
          "start_time": "2023-06-21T18:25:54.376629",
          "status": "completed"
        },
        "tags": [],
        "id": "64501662"
      },
      "source": [
        "# Exploratory Data Analysis"
      ]
    },
    {
      "cell_type": "code",
      "execution_count": null,
      "id": "1ce9da9e",
      "metadata": {
        "execution": {
          "iopub.execute_input": "2023-06-21T18:25:54.407314Z",
          "iopub.status.busy": "2023-06-21T18:25:54.406495Z",
          "iopub.status.idle": "2023-06-21T18:25:54.754972Z",
          "shell.execute_reply": "2023-06-21T18:25:54.753978Z"
        },
        "papermill": {
          "duration": 0.361471,
          "end_time": "2023-06-21T18:25:54.757034",
          "exception": false,
          "start_time": "2023-06-21T18:25:54.395563",
          "status": "completed"
        },
        "tags": [],
        "id": "1ce9da9e",
        "colab": {
          "base_uri": "https://localhost:8080/",
          "height": 466
        },
        "outputId": "990ff236-7b3d-4dc0-f7ab-8877809357d0"
      },
      "outputs": [
        {
          "output_type": "execute_result",
          "data": {
            "text/plain": [
              "<Axes: xlabel='labels', ylabel='count'>"
            ]
          },
          "metadata": {},
          "execution_count": 35
        },
        {
          "output_type": "display_data",
          "data": {
            "text/plain": [
              "<Figure size 640x480 with 1 Axes>"
            ],
            "image/png": "[encoded data removed]"
          },
          "metadata": {}
        }
      ],
      "source": [
        "sns.countplot(data=train, x='labels')"
      ]
    },
    {
      "cell_type": "markdown",
      "id": "2d15a4e2",
      "metadata": {
        "papermill": {
          "duration": 0.009473,
          "end_time": "2023-06-21T18:25:54.776672",
          "exception": false,
          "start_time": "2023-06-21T18:25:54.767199",
          "status": "completed"
        },
        "tags": [],
        "id": "2d15a4e2"
      },
      "source": [
        "### This mean it is Unbalanced Data"
      ]
    },
    {
      "cell_type": "code",
      "execution_count": null,
      "id": "f9dc7727",
      "metadata": {
        "execution": {
          "iopub.execute_input": "2023-06-21T18:25:54.798179Z",
          "iopub.status.busy": "2023-06-21T18:25:54.797854Z",
          "iopub.status.idle": "2023-06-21T18:25:55.096337Z",
          "shell.execute_reply": "2023-06-21T18:25:55.095376Z"
        },
        "papermill": {
          "duration": 0.311492,
          "end_time": "2023-06-21T18:25:55.098640",
          "exception": false,
          "start_time": "2023-06-21T18:25:54.787148",
          "status": "completed"
        },
        "tags": [],
        "id": "f9dc7727",
        "colab": {
          "base_uri": "https://localhost:8080/",
          "height": 452
        },
        "outputId": "d1f4b24f-d3d6-49af-f59a-1e4cb0297679"
      },
      "outputs": [
        {
          "output_type": "display_data",
          "data": {
            "text/plain": [
              "<Figure size 640x480 with 1 Axes>"
            ],
            "image/png": "[encoded data removed]"
          },
          "metadata": {}
        }
      ],
      "source": [
        "sample_img = load_img(train['images'][3])\n",
        "plt.title(train['labels'][3])\n",
        "plt.imshow(sample_img);"
      ]
    },
    {
      "cell_type": "code",
      "execution_count": null,
      "id": "b5932b14",
      "metadata": {
        "execution": {
          "iopub.execute_input": "2023-06-21T18:25:55.120611Z",
          "iopub.status.busy": "2023-06-21T18:25:55.120333Z",
          "iopub.status.idle": "2023-06-21T18:25:55.134555Z",
          "shell.execute_reply": "2023-06-21T18:25:55.133315Z"
        },
        "papermill": {
          "duration": 0.027428,
          "end_time": "2023-06-21T18:25:55.136523",
          "exception": false,
          "start_time": "2023-06-21T18:25:55.109095",
          "status": "completed"
        },
        "tags": [],
        "id": "b5932b14",
        "colab": {
          "base_uri": "https://localhost:8080/"
        },
        "outputId": "91140680-1ff4-48a3-91ec-794d7ebff8d0"
      },
      "outputs": [
        {
          "output_type": "stream",
          "name": "stdout",
          "text": [
            "Image shape: (48, 48)\n"
          ]
        }
      ],
      "source": [
        "from PIL import Image\n",
        "import numpy as np\n",
        "\n",
        "image_path = train['images'][0]\n",
        "pil_image = Image.open(image_path)\n",
        "\n",
        "# Convert the PIL image to a NumPy array\n",
        "np_image = np.array(pil_image)\n",
        "\n",
        "# Get the shape of the NumPy array\n",
        "height, width = np_image.shape\n",
        "print(\"Image shape: ({}, {})\".format(height, width))"
      ]
    },
    {
      "cell_type": "code",
      "execution_count": null,
      "id": "7787989c",
      "metadata": {
        "execution": {
          "iopub.execute_input": "2023-06-21T18:25:55.158469Z",
          "iopub.status.busy": "2023-06-21T18:25:55.158207Z",
          "iopub.status.idle": "2023-06-21T18:25:56.679151Z",
          "shell.execute_reply": "2023-06-21T18:25:56.678169Z"
        },
        "papermill": {
          "duration": 1.5355,
          "end_time": "2023-06-21T18:25:56.682113",
          "exception": false,
          "start_time": "2023-06-21T18:25:55.146613",
          "status": "completed"
        },
        "tags": [],
        "id": "7787989c",
        "colab": {
          "base_uri": "https://localhost:8080/",
          "height": 970
        },
        "outputId": "8aff761f-ba8e-45e0-db03-9d739e56e070"
      },
      "outputs": [
        {
          "output_type": "display_data",
          "data": {
            "text/plain": [
              "<Figure size 1600x1600 with 16 Axes>"
            ],
            "image/png": "[encoded data removed]"
          },
          "metadata": {}
        }
      ],
      "source": [
        "plt.figure(figsize=(16,16))\n",
        "sample_imgs = train.iloc[0:16]\n",
        "for idx, img, label in sample_imgs.itertuples():\n",
        "    plt.subplot(4,4,idx+1)\n",
        "    img = load_img(img)\n",
        "    plt.title(label)\n",
        "    plt.axis('off')\n",
        "    plt.imshow(img)\n"
      ]
    },
    {
      "cell_type": "markdown",
      "id": "6edbc355",
      "metadata": {
        "papermill": {
          "duration": 0.012602,
          "end_time": "2023-06-21T18:25:56.706699",
          "exception": false,
          "start_time": "2023-06-21T18:25:56.694097",
          "status": "completed"
        },
        "tags": [],
        "id": "6edbc355"
      },
      "source": [
        "# Preprocessing"
      ]
    },
    {
      "cell_type": "code",
      "execution_count": null,
      "id": "2a451cf2",
      "metadata": {
        "execution": {
          "iopub.execute_input": "2023-06-21T18:25:56.733651Z",
          "iopub.status.busy": "2023-06-21T18:25:56.733294Z",
          "iopub.status.idle": "2023-06-21T18:25:56.739890Z",
          "shell.execute_reply": "2023-06-21T18:25:56.738738Z"
        },
        "papermill": {
          "duration": 0.022936,
          "end_time": "2023-06-21T18:25:56.742563",
          "exception": false,
          "start_time": "2023-06-21T18:25:56.719627",
          "status": "completed"
        },
        "tags": [],
        "id": "2a451cf2"
      },
      "outputs": [],
      "source": [
        "def read_images(images):\n",
        "    features=[]\n",
        "    for img_path in tqdm(images):\n",
        "        img = load_img(img_path,grayscale=True)\n",
        "        img = np.array(img)\n",
        "        features.append(img)\n",
        "    features = np.array(features)\n",
        "    features = features.reshape(len(features),48,48,1)\n",
        "    return features"
      ]
    },
    {
      "cell_type": "code",
      "execution_count": null,
      "id": "613867a9",
      "metadata": {
        "execution": {
          "iopub.execute_input": "2023-06-21T18:25:56.768689Z",
          "iopub.status.busy": "2023-06-21T18:25:56.768417Z",
          "iopub.status.idle": "2023-06-21T18:29:32.319501Z",
          "shell.execute_reply": "2023-06-21T18:29:32.318440Z"
        },
        "papermill": {
          "duration": 215.566782,
          "end_time": "2023-06-21T18:29:32.322037",
          "exception": false,
          "start_time": "2023-06-21T18:25:56.755255",
          "status": "completed"
        },
        "tags": [],
        "id": "613867a9",
        "colab": {
          "base_uri": "https://localhost:8080/",
          "height": 370,
          "referenced_widgets": [
            "47da2f2b3a2c4b4bbdf64a6ce7f03dda",
            "d91022aa00bb47ab888d97782d7e60ef",
            "43c652a5333846748f213ea79487d35e",
            "fac25fd8649742bd89d8a1721564465d",
            "c222e5f1afe1481fa76b9eed1ff82b0c",
            "0e92f045645143ed9bad665f4ba224fb",
            "e8c67319eab0415a9d3193f8794ba2d1",
            "c7f260e650a249f39a26fc4daebc8f8d",
            "e674b7e024d94451b3781d0c72124e65",
            "a966f447857d427ca99e357f9deec45d",
            "e8ea8cced7464e6f926cd8e765e2a8c6"
          ]
        },
        "outputId": "5a1905f6-726b-4e4b-b813-930c425d5277"
      },
      "outputs": [
        {
          "output_type": "display_data",
          "data": {
            "text/plain": [
              "  0%|          | 0/27928 [00:00<?, ?it/s]"
            ],
            "application/vnd.jupyter.widget-view+json": {
              "version_major": 2,
              "version_minor": 0,
              "model_id": "47da2f2b3a2c4b4bbdf64a6ce7f03dda"
            }
          },
          "metadata": {}
        },
        {
          "output_type": "error",
          "ename": "KeyboardInterrupt",
          "evalue": "ignored",
          "traceback": [
            "\u001b[0;31m---------------------------------------------------------------------------\u001b[0m",
            "\u001b[0;31mKeyboardInterrupt\u001b[0m                         Traceback (most recent call last)",
            "\u001b[0;32m<ipython-input-26-447841eaad1d>\u001b[0m in \u001b[0;36m<cell line: 1>\u001b[0;34m()\u001b[0m\n\u001b[0;32m----> 1\u001b[0;31m \u001b[0mX_train\u001b[0m \u001b[0;34m=\u001b[0m \u001b[0mread_images\u001b[0m\u001b[0;34m(\u001b[0m\u001b[0mtrain\u001b[0m\u001b[0;34m[\u001b[0m\u001b[0;34m'images'\u001b[0m\u001b[0;34m]\u001b[0m\u001b[0;34m)\u001b[0m\u001b[0;34m\u001b[0m\u001b[0;34m\u001b[0m\u001b[0m\n\u001b[0m",
            "\u001b[0;32m<ipython-input-25-5464b5ffba04>\u001b[0m in \u001b[0;36mread_images\u001b[0;34m(images)\u001b[0m\n\u001b[1;32m      2\u001b[0m     \u001b[0mfeatures\u001b[0m\u001b[0;34m=\u001b[0m\u001b[0;34m[\u001b[0m\u001b[0;34m]\u001b[0m\u001b[0;34m\u001b[0m\u001b[0;34m\u001b[0m\u001b[0m\n\u001b[1;32m      3\u001b[0m     \u001b[0;32mfor\u001b[0m \u001b[0mimg_path\u001b[0m \u001b[0;32min\u001b[0m \u001b[0mtqdm\u001b[0m\u001b[0;34m(\u001b[0m\u001b[0mimages\u001b[0m\u001b[0;34m)\u001b[0m\u001b[0;34m:\u001b[0m\u001b[0;34m\u001b[0m\u001b[0;34m\u001b[0m\u001b[0m\n\u001b[0;32m----> 4\u001b[0;31m         \u001b[0mimg\u001b[0m \u001b[0;34m=\u001b[0m \u001b[0mload_img\u001b[0m\u001b[0;34m(\u001b[0m\u001b[0mimg_path\u001b[0m\u001b[0;34m,\u001b[0m\u001b[0mgrayscale\u001b[0m\u001b[0;34m=\u001b[0m\u001b[0;32mTrue\u001b[0m\u001b[0;34m)\u001b[0m\u001b[0;34m\u001b[0m\u001b[0;34m\u001b[0m\u001b[0m\n\u001b[0m\u001b[1;32m      5\u001b[0m         \u001b[0mimg\u001b[0m \u001b[0;34m=\u001b[0m \u001b[0mnp\u001b[0m\u001b[0;34m.\u001b[0m\u001b[0marray\u001b[0m\u001b[0;34m(\u001b[0m\u001b[0mimg\u001b[0m\u001b[0;34m)\u001b[0m\u001b[0;34m\u001b[0m\u001b[0;34m\u001b[0m\u001b[0m\n\u001b[1;32m      6\u001b[0m         \u001b[0mfeatures\u001b[0m\u001b[0;34m.\u001b[0m\u001b[0mappend\u001b[0m\u001b[0;34m(\u001b[0m\u001b[0mimg\u001b[0m\u001b[0;34m)\u001b[0m\u001b[0;34m\u001b[0m\u001b[0;34m\u001b[0m\u001b[0m\n",
            "\u001b[0;32m/usr/local/lib/python3.10/dist-packages/keras/src/utils/image_utils.py\u001b[0m in \u001b[0;36mload_img\u001b[0;34m(path, grayscale, color_mode, target_size, interpolation, keep_aspect_ratio)\u001b[0m\n\u001b[1;32m    421\u001b[0m             \u001b[0mpath\u001b[0m \u001b[0;34m=\u001b[0m \u001b[0mstr\u001b[0m\u001b[0;34m(\u001b[0m\u001b[0mpath\u001b[0m\u001b[0;34m.\u001b[0m\u001b[0mresolve\u001b[0m\u001b[0;34m(\u001b[0m\u001b[0;34m)\u001b[0m\u001b[0;34m)\u001b[0m\u001b[0;34m\u001b[0m\u001b[0;34m\u001b[0m\u001b[0m\n\u001b[1;32m    422\u001b[0m         \u001b[0;32mwith\u001b[0m \u001b[0mopen\u001b[0m\u001b[0;34m(\u001b[0m\u001b[0mpath\u001b[0m\u001b[0;34m,\u001b[0m \u001b[0;34m\"rb\"\u001b[0m\u001b[0;34m)\u001b[0m \u001b[0;32mas\u001b[0m \u001b[0mf\u001b[0m\u001b[0;34m:\u001b[0m\u001b[0;34m\u001b[0m\u001b[0;34m\u001b[0m\u001b[0m\n\u001b[0;32m--> 423\u001b[0;31m             \u001b[0mimg\u001b[0m \u001b[0;34m=\u001b[0m \u001b[0mpil_image\u001b[0m\u001b[0;34m.\u001b[0m\u001b[0mopen\u001b[0m\u001b[0;34m(\u001b[0m\u001b[0mio\u001b[0m\u001b[0;34m.\u001b[0m\u001b[0mBytesIO\u001b[0m\u001b[0;34m(\u001b[0m\u001b[0mf\u001b[0m\u001b[0;34m.\u001b[0m\u001b[0mread\u001b[0m\u001b[0;34m(\u001b[0m\u001b[0;34m)\u001b[0m\u001b[0;34m)\u001b[0m\u001b[0;34m)\u001b[0m\u001b[0;34m\u001b[0m\u001b[0;34m\u001b[0m\u001b[0m\n\u001b[0m\u001b[1;32m    424\u001b[0m     \u001b[0;32melse\u001b[0m\u001b[0;34m:\u001b[0m\u001b[0;34m\u001b[0m\u001b[0;34m\u001b[0m\u001b[0m\n\u001b[1;32m    425\u001b[0m         raise TypeError(\n",
            "\u001b[0;31mKeyboardInterrupt\u001b[0m: "
          ]
        }
      ],
      "source": [
        "X_train = read_images(train['images'])"
      ]
    },
    {
      "cell_type": "code",
      "execution_count": null,
      "id": "10dd51ab",
      "metadata": {
        "execution": {
          "iopub.execute_input": "2023-06-21T18:29:32.350135Z",
          "iopub.status.busy": "2023-06-21T18:29:32.349772Z",
          "iopub.status.idle": "2023-06-21T18:30:20.517111Z",
          "shell.execute_reply": "2023-06-21T18:30:20.516147Z"
        },
        "papermill": {
          "duration": 48.184024,
          "end_time": "2023-06-21T18:30:20.519262",
          "exception": false,
          "start_time": "2023-06-21T18:29:32.335238",
          "status": "completed"
        },
        "tags": [],
        "id": "10dd51ab",
        "colab": {
          "base_uri": "https://localhost:8080/",
          "height": 353,
          "referenced_widgets": [
            "28f2d79f3cbd4b77afa53dd9260be5dd",
            "5776518194304cac9a1f461113eb67ba",
            "03937cabec2b4546ab4290097c7aa3c4",
            "fc940090a0914ab7b17f5b0de161647d",
            "78cba7be752d4dffb5276bf5e8dd6f19",
            "b7bf6ddcb4a74f71a27674693a13c012",
            "ccb7f72426e84a1c92c32b2544996e5e",
            "f29e296e03b544959eb045010fbb3645",
            "9d9099abc5cc48fa813aa4a53c74bdda",
            "042034c3f6af436fb43712af1c509288",
            "e0aa48494ff94ea3aa6302821b8dd3ef"
          ]
        },
        "outputId": "124bd393-6f6e-4460-ce75-a052d94bbedf"
      },
      "outputs": [
        {
          "output_type": "display_data",
          "data": {
            "text/plain": [
              "  0%|          | 0/7178 [00:00<?, ?it/s]"
            ],
            "application/vnd.jupyter.widget-view+json": {
              "version_major": 2,
              "version_minor": 0,
              "model_id": "28f2d79f3cbd4b77afa53dd9260be5dd"
            }
          },
          "metadata": {}
        },
        {
          "output_type": "error",
          "ename": "UnidentifiedImageError",
          "evalue": "ignored",
          "traceback": [
            "\u001b[0;31m---------------------------------------------------------------------------\u001b[0m",
            "\u001b[0;31mUnidentifiedImageError\u001b[0m                    Traceback (most recent call last)",
            "\u001b[0;32m<ipython-input-40-75488c0be3d1>\u001b[0m in \u001b[0;36m<cell line: 1>\u001b[0;34m()\u001b[0m\n\u001b[0;32m----> 1\u001b[0;31m \u001b[0mX_test\u001b[0m \u001b[0;34m=\u001b[0m \u001b[0mread_images\u001b[0m\u001b[0;34m(\u001b[0m\u001b[0mtest\u001b[0m\u001b[0;34m[\u001b[0m\u001b[0;34m'images'\u001b[0m\u001b[0;34m]\u001b[0m\u001b[0;34m)\u001b[0m\u001b[0;34m\u001b[0m\u001b[0;34m\u001b[0m\u001b[0m\n\u001b[0m",
            "\u001b[0;32m<ipython-input-39-5464b5ffba04>\u001b[0m in \u001b[0;36mread_images\u001b[0;34m(images)\u001b[0m\n\u001b[1;32m      2\u001b[0m     \u001b[0mfeatures\u001b[0m\u001b[0;34m=\u001b[0m\u001b[0;34m[\u001b[0m\u001b[0;34m]\u001b[0m\u001b[0;34m\u001b[0m\u001b[0;34m\u001b[0m\u001b[0m\n\u001b[1;32m      3\u001b[0m     \u001b[0;32mfor\u001b[0m \u001b[0mimg_path\u001b[0m \u001b[0;32min\u001b[0m \u001b[0mtqdm\u001b[0m\u001b[0;34m(\u001b[0m\u001b[0mimages\u001b[0m\u001b[0;34m)\u001b[0m\u001b[0;34m:\u001b[0m\u001b[0;34m\u001b[0m\u001b[0;34m\u001b[0m\u001b[0m\n\u001b[0;32m----> 4\u001b[0;31m         \u001b[0mimg\u001b[0m \u001b[0;34m=\u001b[0m \u001b[0mload_img\u001b[0m\u001b[0;34m(\u001b[0m\u001b[0mimg_path\u001b[0m\u001b[0;34m,\u001b[0m\u001b[0mgrayscale\u001b[0m\u001b[0;34m=\u001b[0m\u001b[0;32mTrue\u001b[0m\u001b[0;34m)\u001b[0m\u001b[0;34m\u001b[0m\u001b[0;34m\u001b[0m\u001b[0m\n\u001b[0m\u001b[1;32m      5\u001b[0m         \u001b[0mimg\u001b[0m \u001b[0;34m=\u001b[0m \u001b[0mnp\u001b[0m\u001b[0;34m.\u001b[0m\u001b[0marray\u001b[0m\u001b[0;34m(\u001b[0m\u001b[0mimg\u001b[0m\u001b[0;34m)\u001b[0m\u001b[0;34m\u001b[0m\u001b[0;34m\u001b[0m\u001b[0m\n\u001b[1;32m      6\u001b[0m         \u001b[0mfeatures\u001b[0m\u001b[0;34m.\u001b[0m\u001b[0mappend\u001b[0m\u001b[0;34m(\u001b[0m\u001b[0mimg\u001b[0m\u001b[0;34m)\u001b[0m\u001b[0;34m\u001b[0m\u001b[0;34m\u001b[0m\u001b[0m\n",
            "\u001b[0;32m/usr/local/lib/python3.10/dist-packages/keras/src/utils/image_utils.py\u001b[0m in \u001b[0;36mload_img\u001b[0;34m(path, grayscale, color_mode, target_size, interpolation, keep_aspect_ratio)\u001b[0m\n\u001b[1;32m    421\u001b[0m             \u001b[0mpath\u001b[0m \u001b[0;34m=\u001b[0m \u001b[0mstr\u001b[0m\u001b[0;34m(\u001b[0m\u001b[0mpath\u001b[0m\u001b[0;34m.\u001b[0m\u001b[0mresolve\u001b[0m\u001b[0;34m(\u001b[0m\u001b[0;34m)\u001b[0m\u001b[0;34m)\u001b[0m\u001b[0;34m\u001b[0m\u001b[0;34m\u001b[0m\u001b[0m\n\u001b[1;32m    422\u001b[0m         \u001b[0;32mwith\u001b[0m \u001b[0mopen\u001b[0m\u001b[0;34m(\u001b[0m\u001b[0mpath\u001b[0m\u001b[0;34m,\u001b[0m \u001b[0;34m\"rb\"\u001b[0m\u001b[0;34m)\u001b[0m \u001b[0;32mas\u001b[0m \u001b[0mf\u001b[0m\u001b[0;34m:\u001b[0m\u001b[0;34m\u001b[0m\u001b[0;34m\u001b[0m\u001b[0m\n\u001b[0;32m--> 423\u001b[0;31m             \u001b[0mimg\u001b[0m \u001b[0;34m=\u001b[0m \u001b[0mpil_image\u001b[0m\u001b[0;34m.\u001b[0m\u001b[0mopen\u001b[0m\u001b[0;34m(\u001b[0m\u001b[0mio\u001b[0m\u001b[0;34m.\u001b[0m\u001b[0mBytesIO\u001b[0m\u001b[0;34m(\u001b[0m\u001b[0mf\u001b[0m\u001b[0;34m.\u001b[0m\u001b[0mread\u001b[0m\u001b[0;34m(\u001b[0m\u001b[0;34m)\u001b[0m\u001b[0;34m)\u001b[0m\u001b[0;34m)\u001b[0m\u001b[0;34m\u001b[0m\u001b[0;34m\u001b[0m\u001b[0m\n\u001b[0m\u001b[1;32m    424\u001b[0m     \u001b[0;32melse\u001b[0m\u001b[0;34m:\u001b[0m\u001b[0;34m\u001b[0m\u001b[0;34m\u001b[0m\u001b[0m\n\u001b[1;32m    425\u001b[0m         raise TypeError(\n",
            "\u001b[0;32m/usr/local/lib/python3.10/dist-packages/PIL/Image.py\u001b[0m in \u001b[0;36mopen\u001b[0;34m(fp, mode, formats)\u001b[0m\n\u001b[1;32m   3281\u001b[0m         \u001b[0mwarnings\u001b[0m\u001b[0;34m.\u001b[0m\u001b[0mwarn\u001b[0m\u001b[0;34m(\u001b[0m\u001b[0mmessage\u001b[0m\u001b[0;34m)\u001b[0m\u001b[0;34m\u001b[0m\u001b[0;34m\u001b[0m\u001b[0m\n\u001b[1;32m   3282\u001b[0m     \u001b[0mmsg\u001b[0m \u001b[0;34m=\u001b[0m \u001b[0;34m\"cannot identify image file %r\"\u001b[0m \u001b[0;34m%\u001b[0m \u001b[0;34m(\u001b[0m\u001b[0mfilename\u001b[0m \u001b[0;32mif\u001b[0m \u001b[0mfilename\u001b[0m \u001b[0;32melse\u001b[0m \u001b[0mfp\u001b[0m\u001b[0;34m)\u001b[0m\u001b[0;34m\u001b[0m\u001b[0;34m\u001b[0m\u001b[0m\n\u001b[0;32m-> 3283\u001b[0;31m     \u001b[0;32mraise\u001b[0m \u001b[0mUnidentifiedImageError\u001b[0m\u001b[0;34m(\u001b[0m\u001b[0mmsg\u001b[0m\u001b[0;34m)\u001b[0m\u001b[0;34m\u001b[0m\u001b[0;34m\u001b[0m\u001b[0m\n\u001b[0m\u001b[1;32m   3284\u001b[0m \u001b[0;34m\u001b[0m\u001b[0m\n\u001b[1;32m   3285\u001b[0m \u001b[0;34m\u001b[0m\u001b[0m\n",
            "\u001b[0;31mUnidentifiedImageError\u001b[0m: cannot identify image file <_io.BytesIO object at 0x7c91c94d9ad0>"
          ]
        }
      ],
      "source": [
        "X_test = read_images(test['images'])"
      ]
    },
    {
      "cell_type": "code",
      "execution_count": null,
      "id": "ce9284f8",
      "metadata": {
        "execution": {
          "iopub.execute_input": "2023-06-21T18:30:20.546879Z",
          "iopub.status.busy": "2023-06-21T18:30:20.546584Z",
          "iopub.status.idle": "2023-06-21T18:30:20.552645Z",
          "shell.execute_reply": "2023-06-21T18:30:20.551735Z"
        },
        "papermill": {
          "duration": 0.022219,
          "end_time": "2023-06-21T18:30:20.554708",
          "exception": false,
          "start_time": "2023-06-21T18:30:20.532489",
          "status": "completed"
        },
        "tags": [],
        "id": "ce9284f8",
        "colab": {
          "base_uri": "https://localhost:8080/",
          "height": 175
        },
        "outputId": "49a002d3-5c64-420b-a270-f8894c0a18fd"
      },
      "outputs": [
        {
          "output_type": "error",
          "ename": "NameError",
          "evalue": "ignored",
          "traceback": [
            "\u001b[0;31m---------------------------------------------------------------------------\u001b[0m",
            "\u001b[0;31mNameError\u001b[0m                                 Traceback (most recent call last)",
            "\u001b[0;32m<ipython-input-15-cf290153e199>\u001b[0m in \u001b[0;36m<cell line: 1>\u001b[0;34m()\u001b[0m\n\u001b[0;32m----> 1\u001b[0;31m \u001b[0mX_test\u001b[0m\u001b[0;34m.\u001b[0m\u001b[0mshape\u001b[0m\u001b[0;34m\u001b[0m\u001b[0;34m\u001b[0m\u001b[0m\n\u001b[0m",
            "\u001b[0;31mNameError\u001b[0m: name 'X_test' is not defined"
          ]
        }
      ],
      "source": [
        "X_test.shape"
      ]
    },
    {
      "cell_type": "code",
      "execution_count": null,
      "id": "6a3aeb90",
      "metadata": {
        "execution": {
          "iopub.execute_input": "2023-06-21T18:30:20.581454Z",
          "iopub.status.busy": "2023-06-21T18:30:20.580723Z",
          "iopub.status.idle": "2023-06-21T18:30:20.805142Z",
          "shell.execute_reply": "2023-06-21T18:30:20.803996Z"
        },
        "papermill": {
          "duration": 0.240416,
          "end_time": "2023-06-21T18:30:20.807638",
          "exception": false,
          "start_time": "2023-06-21T18:30:20.567222",
          "status": "completed"
        },
        "tags": [],
        "id": "6a3aeb90"
      },
      "outputs": [],
      "source": [
        "## normalize the image\n",
        "X_train = X_train/255.0\n",
        "X_test = X_test/255.0"
      ]
    },
    {
      "cell_type": "code",
      "execution_count": null,
      "id": "f27154f1",
      "metadata": {
        "execution": {
          "iopub.execute_input": "2023-06-21T18:30:20.833818Z",
          "iopub.status.busy": "2023-06-21T18:30:20.833499Z",
          "iopub.status.idle": "2023-06-21T18:30:20.850891Z",
          "shell.execute_reply": "2023-06-21T18:30:20.850007Z"
        },
        "papermill": {
          "duration": 0.033216,
          "end_time": "2023-06-21T18:30:20.853087",
          "exception": false,
          "start_time": "2023-06-21T18:30:20.819871",
          "status": "completed"
        },
        "tags": [],
        "id": "f27154f1"
      },
      "outputs": [],
      "source": [
        "from sklearn.preprocessing import LabelEncoder\n",
        "le = LabelEncoder()\n",
        "le.fit(train['labels'])\n",
        "y_train = le.transform(train['labels'])\n",
        "y_test = le.transform(test['labels'])"
      ]
    },
    {
      "cell_type": "code",
      "execution_count": null,
      "id": "d258f506",
      "metadata": {
        "execution": {
          "iopub.execute_input": "2023-06-21T18:30:20.878763Z",
          "iopub.status.busy": "2023-06-21T18:30:20.878445Z",
          "iopub.status.idle": "2023-06-21T18:30:20.885080Z",
          "shell.execute_reply": "2023-06-21T18:30:20.884246Z"
        },
        "papermill": {
          "duration": 0.022221,
          "end_time": "2023-06-21T18:30:20.887319",
          "exception": false,
          "start_time": "2023-06-21T18:30:20.865098",
          "status": "completed"
        },
        "tags": [],
        "id": "d258f506"
      },
      "outputs": [],
      "source": [
        "from keras.utils import to_categorical\n",
        "y_train = to_categorical(y_train, num_classes=7)\n",
        "y_test = to_categorical(y_test, num_classes=7)"
      ]
    },
    {
      "cell_type": "code",
      "execution_count": null,
      "id": "f152c41a",
      "metadata": {
        "execution": {
          "iopub.execute_input": "2023-06-21T18:30:20.913566Z",
          "iopub.status.busy": "2023-06-21T18:30:20.913249Z",
          "iopub.status.idle": "2023-06-21T18:30:20.921045Z",
          "shell.execute_reply": "2023-06-21T18:30:20.920079Z"
        },
        "papermill": {
          "duration": 0.023489,
          "end_time": "2023-06-21T18:30:20.923159",
          "exception": false,
          "start_time": "2023-06-21T18:30:20.899670",
          "status": "completed"
        },
        "tags": [],
        "id": "f152c41a"
      },
      "outputs": [],
      "source": [
        "y_train[0]"
      ]
    },
    {
      "cell_type": "code",
      "execution_count": null,
      "id": "11974b72",
      "metadata": {
        "execution": {
          "iopub.execute_input": "2023-06-21T18:30:20.949514Z",
          "iopub.status.busy": "2023-06-21T18:30:20.949201Z",
          "iopub.status.idle": "2023-06-21T18:30:20.953745Z",
          "shell.execute_reply": "2023-06-21T18:30:20.952704Z"
        },
        "papermill": {
          "duration": 0.020963,
          "end_time": "2023-06-21T18:30:20.956174",
          "exception": false,
          "start_time": "2023-06-21T18:30:20.935211",
          "status": "completed"
        },
        "tags": [],
        "id": "11974b72"
      },
      "outputs": [],
      "source": [
        "input_shape = (48, 48, 1)\n",
        "output_class = 7"
      ]
    },
    {
      "cell_type": "markdown",
      "id": "c701e2dd",
      "metadata": {
        "execution": {
          "iopub.execute_input": "2023-06-21T16:25:18.087667Z",
          "iopub.status.busy": "2023-06-21T16:25:18.087234Z",
          "iopub.status.idle": "2023-06-21T16:25:18.092981Z",
          "shell.execute_reply": "2023-06-21T16:25:18.091656Z",
          "shell.execute_reply.started": "2023-06-21T16:25:18.087637Z"
        },
        "papermill": {
          "duration": 0.011853,
          "end_time": "2023-06-21T18:30:20.980042",
          "exception": false,
          "start_time": "2023-06-21T18:30:20.968189",
          "status": "completed"
        },
        "tags": [],
        "id": "c701e2dd"
      },
      "source": [
        "# Model"
      ]
    },
    {
      "cell_type": "code",
      "execution_count": null,
      "id": "96304e53",
      "metadata": {
        "execution": {
          "iopub.execute_input": "2023-06-21T18:30:21.005823Z",
          "iopub.status.busy": "2023-06-21T18:30:21.005489Z",
          "iopub.status.idle": "2023-06-21T18:30:27.154229Z",
          "shell.execute_reply": "2023-06-21T18:30:27.153242Z"
        },
        "papermill": {
          "duration": 6.164454,
          "end_time": "2023-06-21T18:30:27.156603",
          "exception": false,
          "start_time": "2023-06-21T18:30:20.992149",
          "status": "completed"
        },
        "tags": [],
        "id": "96304e53"
      },
      "outputs": [],
      "source": [
        "model = Sequential()\n",
        "# convolutional layers\n",
        "model.add(Conv2D(128, kernel_size=(3,3), activation='relu', input_shape=input_shape))\n",
        "model.add(MaxPooling2D(pool_size=(2,2)))\n",
        "model.add(Dropout(0.4))\n",
        "\n",
        "model.add(Conv2D(256, kernel_size=(3,3), activation='relu'))\n",
        "model.add(MaxPooling2D(pool_size=(2,2)))\n",
        "model.add(Dropout(0.4))\n",
        "\n",
        "model.add(Conv2D(512, kernel_size=(3,3), activation='relu'))\n",
        "model.add(MaxPooling2D(pool_size=(2,2)))\n",
        "model.add(Dropout(0.4))\n",
        "\n",
        "model.add(Conv2D(512, kernel_size=(3,3), activation='relu'))\n",
        "model.add(MaxPooling2D(pool_size=(2,2)))\n",
        "model.add(Dropout(0.4))\n",
        "\n",
        "model.add(Flatten())\n",
        "# fully connected layers\n",
        "model.add(Dense(512, activation='relu'))\n",
        "model.add(Dropout(0.4))\n",
        "model.add(Dense(256, activation='relu'))\n",
        "model.add(Dropout(0.3))\n",
        "# output layer\n",
        "model.add(Dense(output_class, activation='softmax'))\n",
        "\n",
        "model.compile(optimizer='adam', loss='categorical_crossentropy', metrics='accuracy')"
      ]
    },
    {
      "cell_type": "code",
      "execution_count": null,
      "id": "270d6f3e",
      "metadata": {
        "execution": {
          "iopub.execute_input": "2023-06-21T18:30:27.183396Z",
          "iopub.status.busy": "2023-06-21T18:30:27.183077Z",
          "iopub.status.idle": "2023-06-21T18:50:47.047734Z",
          "shell.execute_reply": "2023-06-21T18:50:47.046751Z"
        },
        "papermill": {
          "duration": 1219.880958,
          "end_time": "2023-06-21T18:50:47.050239",
          "exception": false,
          "start_time": "2023-06-21T18:30:27.169281",
          "status": "completed"
        },
        "tags": [],
        "id": "270d6f3e"
      },
      "outputs": [],
      "source": [
        "history = model.fit(x=X_train, y=y_train, batch_size=128, epochs=100, validation_data=(X_test, y_test))"
      ]
    },
    {
      "cell_type": "code",
      "execution_count": null,
      "id": "5ef65574",
      "metadata": {
        "execution": {
          "iopub.execute_input": "2023-06-21T18:50:49.316553Z",
          "iopub.status.busy": "2023-06-21T18:50:49.316188Z",
          "iopub.status.idle": "2023-06-21T18:50:49.896732Z",
          "shell.execute_reply": "2023-06-21T18:50:49.895705Z"
        },
        "papermill": {
          "duration": 1.716194,
          "end_time": "2023-06-21T18:50:49.898970",
          "exception": false,
          "start_time": "2023-06-21T18:50:48.182776",
          "status": "completed"
        },
        "tags": [],
        "id": "5ef65574"
      },
      "outputs": [],
      "source": [
        "acc = history.history['accuracy']\n",
        "val_acc = history.history['val_accuracy']\n",
        "epochs = range(len(acc))\n",
        "\n",
        "plt.plot(epochs, acc, 'b', label='Training Accuracy')\n",
        "plt.plot(epochs, val_acc, 'r', label='Validation Accuracy')\n",
        "plt.title('Accuracy Graph')\n",
        "plt.legend()\n",
        "plt.figure()\n",
        "\n",
        "loss = history.history['loss']\n",
        "val_loss = history.history['val_loss']\n",
        "epochs = range(len(acc))\n",
        "\n",
        "plt.plot(epochs, loss, 'b', label='Training Loss')\n",
        "plt.plot(epochs, val_loss, 'r', label='Validation Loss')\n",
        "plt.title('Loss Graph')\n",
        "plt.legend()\n",
        "\n",
        "plt.show()"
      ]
    },
    {
      "cell_type": "markdown",
      "id": "b0d01e4e",
      "metadata": {
        "papermill": {
          "duration": 1.267371,
          "end_time": "2023-06-21T18:50:52.264313",
          "exception": false,
          "start_time": "2023-06-21T18:50:50.996942",
          "status": "completed"
        },
        "tags": [],
        "id": "b0d01e4e"
      },
      "source": [
        "# Prediction"
      ]
    },
    {
      "cell_type": "code",
      "execution_count": null,
      "id": "8e552dea",
      "metadata": {
        "execution": {
          "iopub.execute_input": "2023-06-21T18:50:54.896570Z",
          "iopub.status.busy": "2023-06-21T18:50:54.896190Z",
          "iopub.status.idle": "2023-06-21T18:50:55.535189Z",
          "shell.execute_reply": "2023-06-21T18:50:55.534287Z"
        },
        "papermill": {
          "duration": 1.724432,
          "end_time": "2023-06-21T18:50:55.537548",
          "exception": false,
          "start_time": "2023-06-21T18:50:53.813116",
          "status": "completed"
        },
        "tags": [],
        "id": "8e552dea"
      },
      "outputs": [],
      "source": [
        "import random\n",
        "img_idx = random.randint(0,len(test))\n",
        "print(\"True Output: \",test['labels'][img_idx])\n",
        "pred = model.predict(X_test[img_idx].reshape(1, 48, 48, 1))\n",
        "prediction_label = le.inverse_transform([pred.argmax()])[0]\n",
        "print(\"Predicted Output:\", prediction_label)\n",
        "plt.imshow(X_test[img_idx].reshape(48, 48), cmap='gray');"
      ]
    },
    {
      "cell_type": "code",
      "execution_count": null,
      "id": "0c59ef76",
      "metadata": {
        "execution": {
          "iopub.execute_input": "2023-06-21T18:50:57.746598Z",
          "iopub.status.busy": "2023-06-21T18:50:57.746255Z",
          "iopub.status.idle": "2023-06-21T18:50:58.062961Z",
          "shell.execute_reply": "2023-06-21T18:50:58.061917Z"
        },
        "papermill": {
          "duration": 1.38361,
          "end_time": "2023-06-21T18:50:58.065487",
          "exception": false,
          "start_time": "2023-06-21T18:50:56.681877",
          "status": "completed"
        },
        "tags": [],
        "id": "0c59ef76"
      },
      "outputs": [],
      "source": [
        "img_idx = random.randint(0,len(test))\n",
        "print(\"True Output: \",test['labels'][img_idx])\n",
        "pred = model.predict(X_test[img_idx].reshape(1, 48, 48, 1))\n",
        "prediction_label = le.inverse_transform([pred.argmax()])[0]\n",
        "print(\"Predicted Output:\", prediction_label)\n",
        "plt.imshow(X_test[img_idx].reshape(48, 48), cmap='gray');"
      ]
    },
    {
      "cell_type": "code",
      "execution_count": null,
      "id": "b09217d6",
      "metadata": {
        "execution": {
          "iopub.execute_input": "2023-06-21T18:51:00.294196Z",
          "iopub.status.busy": "2023-06-21T18:51:00.293826Z",
          "iopub.status.idle": "2023-06-21T18:51:00.864905Z",
          "shell.execute_reply": "2023-06-21T18:51:00.864020Z"
        },
        "papermill": {
          "duration": 1.656332,
          "end_time": "2023-06-21T18:51:00.866950",
          "exception": false,
          "start_time": "2023-06-21T18:50:59.210618",
          "status": "completed"
        },
        "tags": [],
        "id": "b09217d6"
      },
      "outputs": [],
      "source": [
        "img_idx = random.randint(0,len(test))\n",
        "print(\"True Output: \",test['labels'][img_idx])\n",
        "pred = model.predict(X_test[img_idx].reshape(1, 48, 48, 1))\n",
        "prediction_label = le.inverse_transform([pred.argmax()])[0]\n",
        "print(\"Predicted Output:\", prediction_label)\n",
        "plt.imshow(X_test[img_idx].reshape(48, 48), cmap='gray');"
      ]
    }
  ],
  "metadata": {
    "kernelspec": {
      "display_name": "Python 3",
      "name": "python3"
    },
    "language_info": {
      "codemirror_mode": {
        "name": "ipython",
        "version": 3
      },
      "file_extension": ".py",
      "mimetype": "text/x-python",
      "name": "python",
      "nbconvert_exporter": "python",
      "pygments_lexer": "ipython3",
      "version": "3.10.10"
    },
    "papermill": {
      "default_parameters": {},
      "duration": 1547.585277,
      "end_time": "2023-06-21T18:51:07.176398",
      "environment_variables": {},
      "exception": null,
      "input_path": "__notebook__.ipynb",
      "output_path": "__notebook__.ipynb",
      "parameters": {},
      "start_time": "2023-06-21T18:25:19.591121",
      "version": "2.4.0"
    },
    "colab": {
      "provenance": [],
      "gpuType": "T4",
      "include_colab_link": true
    },
    "accelerator": "GPU",
    "widgets": {
      "application/vnd.jupyter.widget-state+json": {
        "47da2f2b3a2c4b4bbdf64a6ce7f03dda": {
          "model_module": "@jupyter-widgets/controls",
          "model_name": "HBoxModel",
          "model_module_version": "1.5.0",
          "state": {
            "_dom_classes": [],
            "_model_module": "@jupyter-widgets/controls",
            "_model_module_version": "1.5.0",
            "_model_name": "HBoxModel",
            "_view_count": null,
            "_view_module": "@jupyter-widgets/controls",
            "_view_module_version": "1.5.0",
            "_view_name": "HBoxView",
            "box_style": "",
            "children": [
              "IPY_MODEL_d91022aa00bb47ab888d97782d7e60ef",
              "IPY_MODEL_43c652a5333846748f213ea79487d35e",
              "IPY_MODEL_fac25fd8649742bd89d8a1721564465d"
            ],
            "layout": "IPY_MODEL_c222e5f1afe1481fa76b9eed1ff82b0c"
          }
        },
        "d91022aa00bb47ab888d97782d7e60ef": {
          "model_module": "@jupyter-widgets/controls",
          "model_name": "HTMLModel",
          "model_module_version": "1.5.0",
          "state": {
            "_dom_classes": [],
            "_model_module": "@jupyter-widgets/controls",
            "_model_module_version": "1.5.0",
            "_model_name": "HTMLModel",
            "_view_count": null,
            "_view_module": "@jupyter-widgets/controls",
            "_view_module_version": "1.5.0",
            "_view_name": "HTMLView",
            "description": "",
            "description_tooltip": null,
            "layout": "IPY_MODEL_0e92f045645143ed9bad665f4ba224fb",
            "placeholder": "​",
            "style": "IPY_MODEL_e8c67319eab0415a9d3193f8794ba2d1",
            "value": "  0%"
          }
        },
        "43c652a5333846748f213ea79487d35e": {
          "model_module": "@jupyter-widgets/controls",
          "model_name": "FloatProgressModel",
          "model_module_version": "1.5.0",
          "state": {
            "_dom_classes": [],
            "_model_module": "@jupyter-widgets/controls",
            "_model_module_version": "1.5.0",
            "_model_name": "FloatProgressModel",
            "_view_count": null,
            "_view_module": "@jupyter-widgets/controls",
            "_view_module_version": "1.5.0",
            "_view_name": "ProgressView",
            "bar_style": "danger",
            "description": "",
            "description_tooltip": null,
            "layout": "IPY_MODEL_c7f260e650a249f39a26fc4daebc8f8d",
            "max": 27928,
            "min": 0,
            "orientation": "horizontal",
            "style": "IPY_MODEL_e674b7e024d94451b3781d0c72124e65",
            "value": 79
          }
        },
        "fac25fd8649742bd89d8a1721564465d": {
          "model_module": "@jupyter-widgets/controls",
          "model_name": "HTMLModel",
          "model_module_version": "1.5.0",
          "state": {
            "_dom_classes": [],
            "_model_module": "@jupyter-widgets/controls",
            "_model_module_version": "1.5.0",
            "_model_name": "HTMLModel",
            "_view_count": null,
            "_view_module": "@jupyter-widgets/controls",
            "_view_module_version": "1.5.0",
            "_view_name": "HTMLView",
            "description": "",
            "description_tooltip": null,
            "layout": "IPY_MODEL_a966f447857d427ca99e357f9deec45d",
            "placeholder": "​",
            "style": "IPY_MODEL_e8ea8cced7464e6f926cd8e765e2a8c6",
            "value": " 79/27928 [00:08&lt;49:33,  9.37it/s]"
          }
        },
        "c222e5f1afe1481fa76b9eed1ff82b0c": {
          "model_module": "@jupyter-widgets/base",
          "model_name": "LayoutModel",
          "model_module_version": "1.2.0",
          "state": {
            "_model_module": "@jupyter-widgets/base",
            "_model_module_version": "1.2.0",
            "_model_name": "LayoutModel",
            "_view_count": null,
            "_view_module": "@jupyter-widgets/base",
            "_view_module_version": "1.2.0",
            "_view_name": "LayoutView",
            "align_content": null,
            "align_items": null,
            "align_self": null,
            "border": null,
            "bottom": null,
            "display": null,
            "flex": null,
            "flex_flow": null,
            "grid_area": null,
            "grid_auto_columns": null,
            "grid_auto_flow": null,
            "grid_auto_rows": null,
            "grid_column": null,
            "grid_gap": null,
            "grid_row": null,
            "grid_template_areas": null,
            "grid_template_columns": null,
            "grid_template_rows": null,
            "height": null,
            "justify_content": null,
            "justify_items": null,
            "left": null,
            "margin": null,
            "max_height": null,
            "max_width": null,
            "min_height": null,
            "min_width": null,
            "object_fit": null,
            "object_position": null,
            "order": null,
            "overflow": null,
            "overflow_x": null,
            "overflow_y": null,
            "padding": null,
            "right": null,
            "top": null,
            "visibility": null,
            "width": null
          }
        },
        "0e92f045645143ed9bad665f4ba224fb": {
          "model_module": "@jupyter-widgets/base",
          "model_name": "LayoutModel",
          "model_module_version": "1.2.0",
          "state": {
            "_model_module": "@jupyter-widgets/base",
            "_model_module_version": "1.2.0",
            "_model_name": "LayoutModel",
            "_view_count": null,
            "_view_module": "@jupyter-widgets/base",
            "_view_module_version": "1.2.0",
            "_view_name": "LayoutView",
            "align_content": null,
            "align_items": null,
            "align_self": null,
            "border": null,
            "bottom": null,
            "display": null,
            "flex": null,
            "flex_flow": null,
            "grid_area": null,
            "grid_auto_columns": null,
            "grid_auto_flow": null,
            "grid_auto_rows": null,
            "grid_column": null,
            "grid_gap": null,
            "grid_row": null,
            "grid_template_areas": null,
            "grid_template_columns": null,
            "grid_template_rows": null,
            "height": null,
            "justify_content": null,
            "justify_items": null,
            "left": null,
            "margin": null,
            "max_height": null,
            "max_width": null,
            "min_height": null,
            "min_width": null,
            "object_fit": null,
            "object_position": null,
            "order": null,
            "overflow": null,
            "overflow_x": null,
            "overflow_y": null,
            "padding": null,
            "right": null,
            "top": null,
            "visibility": null,
            "width": null
          }
        },
        "e8c67319eab0415a9d3193f8794ba2d1": {
          "model_module": "@jupyter-widgets/controls",
          "model_name": "DescriptionStyleModel",
          "model_module_version": "1.5.0",
          "state": {
            "_model_module": "@jupyter-widgets/controls",
            "_model_module_version": "1.5.0",
            "_model_name": "DescriptionStyleModel",
            "_view_count": null,
            "_view_module": "@jupyter-widgets/base",
            "_view_module_version": "1.2.0",
            "_view_name": "StyleView",
            "description_width": ""
          }
        },
        "c7f260e650a249f39a26fc4daebc8f8d": {
          "model_module": "@jupyter-widgets/base",
          "model_name": "LayoutModel",
          "model_module_version": "1.2.0",
          "state": {
            "_model_module": "@jupyter-widgets/base",
            "_model_module_version": "1.2.0",
            "_model_name": "LayoutModel",
            "_view_count": null,
            "_view_module": "@jupyter-widgets/base",
            "_view_module_version": "1.2.0",
            "_view_name": "LayoutView",
            "align_content": null,
            "align_items": null,
            "align_self": null,
            "border": null,
            "bottom": null,
            "display": null,
            "flex": null,
            "flex_flow": null,
            "grid_area": null,
            "grid_auto_columns": null,
            "grid_auto_flow": null,
            "grid_auto_rows": null,
            "grid_column": null,
            "grid_gap": null,
            "grid_row": null,
            "grid_template_areas": null,
            "grid_template_columns": null,
            "grid_template_rows": null,
            "height": null,
            "justify_content": null,
            "justify_items": null,
            "left": null,
            "margin": null,
            "max_height": null,
            "max_width": null,
            "min_height": null,
            "min_width": null,
            "object_fit": null,
            "object_position": null,
            "order": null,
            "overflow": null,
            "overflow_x": null,
            "overflow_y": null,
            "padding": null,
            "right": null,
            "top": null,
            "visibility": null,
            "width": null
          }
        },
        "e674b7e024d94451b3781d0c72124e65": {
          "model_module": "@jupyter-widgets/controls",
          "model_name": "ProgressStyleModel",
          "model_module_version": "1.5.0",
          "state": {
            "_model_module": "@jupyter-widgets/controls",
            "_model_module_version": "1.5.0",
            "_model_name": "ProgressStyleModel",
            "_view_count": null,
            "_view_module": "@jupyter-widgets/base",
            "_view_module_version": "1.2.0",
            "_view_name": "StyleView",
            "bar_color": null,
            "description_width": ""
          }
        },
        "a966f447857d427ca99e357f9deec45d": {
          "model_module": "@jupyter-widgets/base",
          "model_name": "LayoutModel",
          "model_module_version": "1.2.0",
          "state": {
            "_model_module": "@jupyter-widgets/base",
            "_model_module_version": "1.2.0",
            "_model_name": "LayoutModel",
            "_view_count": null,
            "_view_module": "@jupyter-widgets/base",
            "_view_module_version": "1.2.0",
            "_view_name": "LayoutView",
            "align_content": null,
            "align_items": null,
            "align_self": null,
            "border": null,
            "bottom": null,
            "display": null,
            "flex": null,
            "flex_flow": null,
            "grid_area": null,
            "grid_auto_columns": null,
            "grid_auto_flow": null,
            "grid_auto_rows": null,
            "grid_column": null,
            "grid_gap": null,
            "grid_row": null,
            "grid_template_areas": null,
            "grid_template_columns": null,
            "grid_template_rows": null,
            "height": null,
            "justify_content": null,
            "justify_items": null,
            "left": null,
            "margin": null,
            "max_height": null,
            "max_width": null,
            "min_height": null,
            "min_width": null,
            "object_fit": null,
            "object_position": null,
            "order": null,
            "overflow": null,
            "overflow_x": null,
            "overflow_y": null,
            "padding": null,
            "right": null,
            "top": null,
            "visibility": null,
            "width": null
          }
        },
        "e8ea8cced7464e6f926cd8e765e2a8c6": {
          "model_module": "@jupyter-widgets/controls",
          "model_name": "DescriptionStyleModel",
          "model_module_version": "1.5.0",
          "state": {
            "_model_module": "@jupyter-widgets/controls",
            "_model_module_version": "1.5.0",
            "_model_name": "DescriptionStyleModel",
            "_view_count": null,
            "_view_module": "@jupyter-widgets/base",
            "_view_module_version": "1.2.0",
            "_view_name": "StyleView",
            "description_width": ""
          }
        },
        "28f2d79f3cbd4b77afa53dd9260be5dd": {
          "model_module": "@jupyter-widgets/controls",
          "model_name": "HBoxModel",
          "model_module_version": "1.5.0",
          "state": {
            "_dom_classes": [],
            "_model_module": "@jupyter-widgets/controls",
            "_model_module_version": "1.5.0",
            "_model_name": "HBoxModel",
            "_view_count": null,
            "_view_module": "@jupyter-widgets/controls",
            "_view_module_version": "1.5.0",
            "_view_name": "HBoxView",
            "box_style": "",
            "children": [
              "IPY_MODEL_5776518194304cac9a1f461113eb67ba",
              "IPY_MODEL_03937cabec2b4546ab4290097c7aa3c4",
              "IPY_MODEL_fc940090a0914ab7b17f5b0de161647d"
            ],
            "layout": "IPY_MODEL_78cba7be752d4dffb5276bf5e8dd6f19"
          }
        },
        "5776518194304cac9a1f461113eb67ba": {
          "model_module": "@jupyter-widgets/controls",
          "model_name": "HTMLModel",
          "model_module_version": "1.5.0",
          "state": {
            "_dom_classes": [],
            "_model_module": "@jupyter-widgets/controls",
            "_model_module_version": "1.5.0",
            "_model_name": "HTMLModel",
            "_view_count": null,
            "_view_module": "@jupyter-widgets/controls",
            "_view_module_version": "1.5.0",
            "_view_name": "HTMLView",
            "description": "",
            "description_tooltip": null,
            "layout": "IPY_MODEL_b7bf6ddcb4a74f71a27674693a13c012",
            "placeholder": "​",
            "style": "IPY_MODEL_ccb7f72426e84a1c92c32b2544996e5e",
            "value": " 30%"
          }
        },
        "03937cabec2b4546ab4290097c7aa3c4": {
          "model_module": "@jupyter-widgets/controls",
          "model_name": "FloatProgressModel",
          "model_module_version": "1.5.0",
          "state": {
            "_dom_classes": [],
            "_model_module": "@jupyter-widgets/controls",
            "_model_module_version": "1.5.0",
            "_model_name": "FloatProgressModel",
            "_view_count": null,
            "_view_module": "@jupyter-widgets/controls",
            "_view_module_version": "1.5.0",
            "_view_name": "ProgressView",
            "bar_style": "danger",
            "description": "",
            "description_tooltip": null,
            "layout": "IPY_MODEL_f29e296e03b544959eb045010fbb3645",
            "max": 7178,
            "min": 0,
            "orientation": "horizontal",
            "style": "IPY_MODEL_9d9099abc5cc48fa813aa4a53c74bdda",
            "value": 2189
          }
        },
        "fc940090a0914ab7b17f5b0de161647d": {
          "model_module": "@jupyter-widgets/controls",
          "model_name": "HTMLModel",
          "model_module_version": "1.5.0",
          "state": {
            "_dom_classes": [],
            "_model_module": "@jupyter-widgets/controls",
            "_model_module_version": "1.5.0",
            "_model_name": "HTMLModel",
            "_view_count": null,
            "_view_module": "@jupyter-widgets/controls",
            "_view_module_version": "1.5.0",
            "_view_name": "HTMLView",
            "description": "",
            "description_tooltip": null,
            "layout": "IPY_MODEL_042034c3f6af436fb43712af1c509288",
            "placeholder": "​",
            "style": "IPY_MODEL_e0aa48494ff94ea3aa6302821b8dd3ef",
            "value": " 2189/7178 [00:03&lt;00:05, 834.29it/s]"
          }
        },
        "78cba7be752d4dffb5276bf5e8dd6f19": {
          "model_module": "@jupyter-widgets/base",
          "model_name": "LayoutModel",
          "model_module_version": "1.2.0",
          "state": {
            "_model_module": "@jupyter-widgets/base",
            "_model_module_version": "1.2.0",
            "_model_name": "LayoutModel",
            "_view_count": null,
            "_view_module": "@jupyter-widgets/base",
            "_view_module_version": "1.2.0",
            "_view_name": "LayoutView",
            "align_content": null,
            "align_items": null,
            "align_self": null,
            "border": null,
            "bottom": null,
            "display": null,
            "flex": null,
            "flex_flow": null,
            "grid_area": null,
            "grid_auto_columns": null,
            "grid_auto_flow": null,
            "grid_auto_rows": null,
            "grid_column": null,
            "grid_gap": null,
            "grid_row": null,
            "grid_template_areas": null,
            "grid_template_columns": null,
            "grid_template_rows": null,
            "height": null,
            "justify_content": null,
            "justify_items": null,
            "left": null,
            "margin": null,
            "max_height": null,
            "max_width": null,
            "min_height": null,
            "min_width": null,
            "object_fit": null,
            "object_position": null,
            "order": null,
            "overflow": null,
            "overflow_x": null,
            "overflow_y": null,
            "padding": null,
            "right": null,
            "top": null,
            "visibility": null,
            "width": null
          }
        },
        "b7bf6ddcb4a74f71a27674693a13c012": {
          "model_module": "@jupyter-widgets/base",
          "model_name": "LayoutModel",
          "model_module_version": "1.2.0",
          "state": {
            "_model_module": "@jupyter-widgets/base",
            "_model_module_version": "1.2.0",
            "_model_name": "LayoutModel",
            "_view_count": null,
            "_view_module": "@jupyter-widgets/base",
            "_view_module_version": "1.2.0",
            "_view_name": "LayoutView",
            "align_content": null,
            "align_items": null,
            "align_self": null,
            "border": null,
            "bottom": null,
            "display": null,
            "flex": null,
            "flex_flow": null,
            "grid_area": null,
            "grid_auto_columns": null,
            "grid_auto_flow": null,
            "grid_auto_rows": null,
            "grid_column": null,
            "grid_gap": null,
            "grid_row": null,
            "grid_template_areas": null,
            "grid_template_columns": null,
            "grid_template_rows": null,
            "height": null,
            "justify_content": null,
            "justify_items": null,
            "left": null,
            "margin": null,
            "max_height": null,
            "max_width": null,
            "min_height": null,
            "min_width": null,
            "object_fit": null,
            "object_position": null,
            "order": null,
            "overflow": null,
            "overflow_x": null,
            "overflow_y": null,
            "padding": null,
            "right": null,
            "top": null,
            "visibility": null,
            "width": null
          }
        },
        "ccb7f72426e84a1c92c32b2544996e5e": {
          "model_module": "@jupyter-widgets/controls",
          "model_name": "DescriptionStyleModel",
          "model_module_version": "1.5.0",
          "state": {
            "_model_module": "@jupyter-widgets/controls",
            "_model_module_version": "1.5.0",
            "_model_name": "DescriptionStyleModel",
            "_view_count": null,
            "_view_module": "@jupyter-widgets/base",
            "_view_module_version": "1.2.0",
            "_view_name": "StyleView",
            "description_width": ""
          }
        },
        "f29e296e03b544959eb045010fbb3645": {
          "model_module": "@jupyter-widgets/base",
          "model_name": "LayoutModel",
          "model_module_version": "1.2.0",
          "state": {
            "_model_module": "@jupyter-widgets/base",
            "_model_module_version": "1.2.0",
            "_model_name": "LayoutModel",
            "_view_count": null,
            "_view_module": "@jupyter-widgets/base",
            "_view_module_version": "1.2.0",
            "_view_name": "LayoutView",
            "align_content": null,
            "align_items": null,
            "align_self": null,
            "border": null,
            "bottom": null,
            "display": null,
            "flex": null,
            "flex_flow": null,
            "grid_area": null,
            "grid_auto_columns": null,
            "grid_auto_flow": null,
            "grid_auto_rows": null,
            "grid_column": null,
            "grid_gap": null,
            "grid_row": null,
            "grid_template_areas": null,
            "grid_template_columns": null,
            "grid_template_rows": null,
            "height": null,
            "justify_content": null,
            "justify_items": null,
            "left": null,
            "margin": null,
            "max_height": null,
            "max_width": null,
            "min_height": null,
            "min_width": null,
            "object_fit": null,
            "object_position": null,
            "order": null,
            "overflow": null,
            "overflow_x": null,
            "overflow_y": null,
            "padding": null,
            "right": null,
            "top": null,
            "visibility": null,
            "width": null
          }
        },
        "9d9099abc5cc48fa813aa4a53c74bdda": {
          "model_module": "@jupyter-widgets/controls",
          "model_name": "ProgressStyleModel",
          "model_module_version": "1.5.0",
          "state": {
            "_model_module": "@jupyter-widgets/controls",
            "_model_module_version": "1.5.0",
            "_model_name": "ProgressStyleModel",
            "_view_count": null,
            "_view_module": "@jupyter-widgets/base",
            "_view_module_version": "1.2.0",
            "_view_name": "StyleView",
            "bar_color": null,
            "description_width": ""
          }
        },
        "042034c3f6af436fb43712af1c509288": {
          "model_module": "@jupyter-widgets/base",
          "model_name": "LayoutModel",
          "model_module_version": "1.2.0",
          "state": {
            "_model_module": "@jupyter-widgets/base",
            "_model_module_version": "1.2.0",
            "_model_name": "LayoutModel",
            "_view_count": null,
            "_view_module": "@jupyter-widgets/base",
            "_view_module_version": "1.2.0",
            "_view_name": "LayoutView",
            "align_content": null,
            "align_items": null,
            "align_self": null,
            "border": null,
            "bottom": null,
            "display": null,
            "flex": null,
            "flex_flow": null,
            "grid_area": null,
            "grid_auto_columns": null,
            "grid_auto_flow": null,
            "grid_auto_rows": null,
            "grid_column": null,
            "grid_gap": null,
            "grid_row": null,
            "grid_template_areas": null,
            "grid_template_columns": null,
            "grid_template_rows": null,
            "height": null,
            "justify_content": null,
            "justify_items": null,
            "left": null,
            "margin": null,
            "max_height": null,
            "max_width": null,
            "min_height": null,
            "min_width": null,
            "object_fit": null,
            "object_position": null,
            "order": null,
            "overflow": null,
            "overflow_x": null,
            "overflow_y": null,
            "padding": null,
            "right": null,
            "top": null,
            "visibility": null,
            "width": null
          }
        },
        "e0aa48494ff94ea3aa6302821b8dd3ef": {
          "model_module": "@jupyter-widgets/controls",
          "model_name": "DescriptionStyleModel",
          "model_module_version": "1.5.0",
          "state": {
            "_model_module": "@jupyter-widgets/controls",
            "_model_module_version": "1.5.0",
            "_model_name": "DescriptionStyleModel",
            "_view_count": null,
            "_view_module": "@jupyter-widgets/base",
            "_view_module_version": "1.2.0",
            "_view_name": "StyleView",
            "description_width": ""
          }
        }
      }
    }
  },
  "nbformat": 4,
  "nbformat_minor": 5
}