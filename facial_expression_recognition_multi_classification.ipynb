{
  "cells": [
    {
      "cell_type": "markdown",
      "metadata": {
        "id": "view-in-github",
        "colab_type": "text"
      },
      "source": [
        "<a href=\"https://colab.research.google.com/github/ilhamaqsham/Hello-Project---Ilham-Aqsha-Metrylia/blob/main/facial_expression_recognition_multi_classification.ipynb\" target=\"_parent\"><img src=\"https://colab.research.google.com/assets/colab-badge.svg\" alt=\"Open In Colab\"/></a>"
      ]
    },
    {
      "cell_type": "markdown",
      "id": "c9b9fcf3",
      "metadata": {
        "papermill": {
          "duration": 0.009868,
          "end_time": "2023-06-21T18:25:34.033687",
          "exception": false,
          "start_time": "2023-06-21T18:25:34.023819",
          "status": "completed"
        },
        "tags": [],
        "id": "c9b9fcf3"
      },
      "source": [
        "# Import Libraries"
      ]
    },
    {
      "cell_type": "code",
      "source": [
        "from google.colab import drive\n",
        "drive.mount('/content/drive')"
      ],
      "metadata": {
        "colab": {
          "base_uri": "https://localhost:8080/"
        },
        "id": "pE4IOJ1nkMxn",
        "outputId": "15fdbb9d-592d-4745-caed-ee6a1bfc54e9"
      },
      "id": "pE4IOJ1nkMxn",
      "execution_count": 1,
      "outputs": [
        {
          "output_type": "stream",
          "name": "stdout",
          "text": [
            "Mounted at /content/drive\n"
          ]
        }
      ]
    },
    {
      "cell_type": "code",
      "execution_count": 2,
      "id": "d8889fe1",
      "metadata": {
        "execution": {
          "iopub.execute_input": "2023-06-21T18:25:34.052150Z",
          "iopub.status.busy": "2023-06-21T18:25:34.051477Z",
          "iopub.status.idle": "2023-06-21T18:25:51.593737Z",
          "shell.execute_reply": "2023-06-21T18:25:51.592463Z"
        },
        "papermill": {
          "duration": 17.554141,
          "end_time": "2023-06-21T18:25:51.596304",
          "exception": false,
          "start_time": "2023-06-21T18:25:34.042163",
          "status": "completed"
        },
        "tags": [],
        "id": "d8889fe1"
      },
      "outputs": [],
      "source": [
        "import pandas as pd\n",
        "import numpy as np\n",
        "import os\n",
        "import matplotlib.pyplot as plt\n",
        "import seaborn as sns\n",
        "import warnings\n",
        "import random\n",
        "from tqdm.notebook import tqdm\n",
        "warnings.filterwarnings('ignore')\n",
        "%matplotlib inline\n",
        "from sklearn.preprocessing import LabelEncoder\n",
        "\n",
        "import tensorflow as tf\n",
        "from tensorflow.keras.utils import to_categorical\n",
        "from keras.utils import load_img\n",
        "from keras.models import Sequential\n",
        "from keras.layers import Dense, Conv2D, Dropout, Flatten, MaxPooling2D\n",
        "\n",
        "from keras.applications.vgg19 import VGG19\n",
        "from keras.applications.vgg19 import preprocess_input"
      ]
    },
    {
      "cell_type": "code",
      "execution_count": 3,
      "id": "8340c0a8",
      "metadata": {
        "execution": {
          "iopub.execute_input": "2023-06-21T18:25:51.616870Z",
          "iopub.status.busy": "2023-06-21T18:25:51.616237Z",
          "iopub.status.idle": "2023-06-21T18:25:51.620896Z",
          "shell.execute_reply": "2023-06-21T18:25:51.620023Z"
        },
        "papermill": {
          "duration": 0.01706,
          "end_time": "2023-06-21T18:25:51.622945",
          "exception": false,
          "start_time": "2023-06-21T18:25:51.605885",
          "status": "completed"
        },
        "tags": [],
        "id": "8340c0a8"
      },
      "outputs": [],
      "source": [
        "TRAIN_DIR ='/content/drive/MyDrive/facial-expression/train/train/'\n",
        "TEST_DIR = '/content/drive/MyDrive/facial-expression/test/test/'"
      ]
    },
    {
      "cell_type": "markdown",
      "id": "87636182",
      "metadata": {
        "papermill": {
          "duration": 0.008152,
          "end_time": "2023-06-21T18:25:51.639574",
          "exception": false,
          "start_time": "2023-06-21T18:25:51.631422",
          "status": "completed"
        },
        "tags": [],
        "id": "87636182"
      },
      "source": [
        "# Load Dataset"
      ]
    },
    {
      "cell_type": "code",
      "execution_count": 4,
      "id": "9787bfa1",
      "metadata": {
        "execution": {
          "iopub.execute_input": "2023-06-21T18:25:51.658367Z",
          "iopub.status.busy": "2023-06-21T18:25:51.657532Z",
          "iopub.status.idle": "2023-06-21T18:25:51.664149Z",
          "shell.execute_reply": "2023-06-21T18:25:51.663160Z"
        },
        "papermill": {
          "duration": 0.018004,
          "end_time": "2023-06-21T18:25:51.666210",
          "exception": false,
          "start_time": "2023-06-21T18:25:51.648206",
          "status": "completed"
        },
        "tags": [],
        "id": "9787bfa1"
      },
      "outputs": [],
      "source": [
        "def load_images(dir_path):\n",
        "    labels = []\n",
        "    img_paths = []\n",
        "\n",
        "    for folder in os.listdir(dir_path):\n",
        "        for filename in os.listdir(dir_path+folder):\n",
        "            img_path = os.path.join(dir_path,folder,filename)\n",
        "            img_paths.append(img_path)\n",
        "            labels.append(folder)\n",
        "        print(folder,' Completed')\n",
        "    return img_paths, labels"
      ]
    },
    {
      "cell_type": "code",
      "execution_count": 5,
      "id": "7ce91a19",
      "metadata": {
        "execution": {
          "iopub.execute_input": "2023-06-21T18:25:51.684357Z",
          "iopub.status.busy": "2023-06-21T18:25:51.684101Z",
          "iopub.status.idle": "2023-06-21T18:25:53.241840Z",
          "shell.execute_reply": "2023-06-21T18:25:53.240522Z"
        },
        "papermill": {
          "duration": 1.569634,
          "end_time": "2023-06-21T18:25:53.244333",
          "exception": false,
          "start_time": "2023-06-21T18:25:51.674699",
          "status": "completed"
        },
        "tags": [],
        "colab": {
          "base_uri": "https://localhost:8080/"
        },
        "id": "7ce91a19",
        "outputId": "daff98f1-9728-4b60-e5d0-7cf2812947ad"
      },
      "outputs": [
        {
          "output_type": "stream",
          "name": "stdout",
          "text": [
            "neutral  Completed\n",
            "sad  Completed\n",
            "angry  Completed\n",
            "disgust  Completed\n",
            "fear  Completed\n",
            "happy  Completed\n",
            "surprise  Completed\n"
          ]
        }
      ],
      "source": [
        "train = pd.DataFrame()\n",
        "train['images'], train['labels'] = load_images(TRAIN_DIR)\n"
      ]
    },
    {
      "cell_type": "code",
      "execution_count": 6,
      "id": "3fd37b33",
      "metadata": {
        "execution": {
          "iopub.execute_input": "2023-06-21T18:25:53.262637Z",
          "iopub.status.busy": "2023-06-21T18:25:53.262322Z",
          "iopub.status.idle": "2023-06-21T18:25:53.290277Z",
          "shell.execute_reply": "2023-06-21T18:25:53.289387Z"
        },
        "papermill": {
          "duration": 0.039456,
          "end_time": "2023-06-21T18:25:53.292547",
          "exception": false,
          "start_time": "2023-06-21T18:25:53.253091",
          "status": "completed"
        },
        "tags": [],
        "id": "3fd37b33",
        "colab": {
          "base_uri": "https://localhost:8080/",
          "height": 206
        },
        "outputId": "4b1b5ac5-7b8e-4347-e2db-5ed77be341d9"
      },
      "outputs": [
        {
          "output_type": "execute_result",
          "data": {
            "text/plain": [
              "                                              images    labels\n",
              "0  /content/drive/MyDrive/facial-expression/train...  surprise\n",
              "1  /content/drive/MyDrive/facial-expression/train...   neutral\n",
              "2  /content/drive/MyDrive/facial-expression/train...      fear\n",
              "3  /content/drive/MyDrive/facial-expression/train...   neutral\n",
              "4  /content/drive/MyDrive/facial-expression/train...      fear"
            ],
            "text/html": [
              "\n",
              "  <div id=\"df-67b4119b-dbe7-44c2-801d-17382044a90d\" class=\"colab-df-container\">\n",
              "    <div>\n",
              "<style scoped>\n",
              "    .dataframe tbody tr th:only-of-type {\n",
              "        vertical-align: middle;\n",
              "    }\n",
              "\n",
              "    .dataframe tbody tr th {\n",
              "        vertical-align: top;\n",
              "    }\n",
              "\n",
              "    .dataframe thead th {\n",
              "        text-align: right;\n",
              "    }\n",
              "</style>\n",
              "<table border=\"1\" class=\"dataframe\">\n",
              "  <thead>\n",
              "    <tr style=\"text-align: right;\">\n",
              "      <th></th>\n",
              "      <th>images</th>\n",
              "      <th>labels</th>\n",
              "    </tr>\n",
              "  </thead>\n",
              "  <tbody>\n",
              "    <tr>\n",
              "      <th>0</th>\n",
              "      <td>/content/drive/MyDrive/facial-expression/train...</td>\n",
              "      <td>surprise</td>\n",
              "    </tr>\n",
              "    <tr>\n",
              "      <th>1</th>\n",
              "      <td>/content/drive/MyDrive/facial-expression/train...</td>\n",
              "      <td>neutral</td>\n",
              "    </tr>\n",
              "    <tr>\n",
              "      <th>2</th>\n",
              "      <td>/content/drive/MyDrive/facial-expression/train...</td>\n",
              "      <td>fear</td>\n",
              "    </tr>\n",
              "    <tr>\n",
              "      <th>3</th>\n",
              "      <td>/content/drive/MyDrive/facial-expression/train...</td>\n",
              "      <td>neutral</td>\n",
              "    </tr>\n",
              "    <tr>\n",
              "      <th>4</th>\n",
              "      <td>/content/drive/MyDrive/facial-expression/train...</td>\n",
              "      <td>fear</td>\n",
              "    </tr>\n",
              "  </tbody>\n",
              "</table>\n",
              "</div>\n",
              "    <div class=\"colab-df-buttons\">\n",
              "\n",
              "  <div class=\"colab-df-container\">\n",
              "    <button class=\"colab-df-convert\" onclick=\"convertToInteractive('df-67b4119b-dbe7-44c2-801d-17382044a90d')\"\n",
              "            title=\"Convert this dataframe to an interactive table.\"\n",
              "            style=\"display:none;\">\n",
              "\n",
              "  <svg xmlns=\"http://www.w3.org/2000/svg\" height=\"24px\" viewBox=\"0 -960 960 960\">\n",
              "    <path d=\"M120-120v-720h720v720H120Zm60-500h600v-160H180v160Zm220 220h160v-160H400v160Zm0 220h160v-160H400v160ZM180-400h160v-160H180v160Zm440 0h160v-160H620v160ZM180-180h160v-160H180v160Zm440 0h160v-160H620v160Z\"/>\n",
              "  </svg>\n",
              "    </button>\n",
              "\n",
              "  <style>\n",
              "    .colab-df-container {\n",
              "      display:flex;\n",
              "      gap: 12px;\n",
              "    }\n",
              "\n",
              "    .colab-df-convert {\n",
              "      background-color: #E8F0FE;\n",
              "      border: none;\n",
              "      border-radius: 50%;\n",
              "      cursor: pointer;\n",
              "      display: none;\n",
              "      fill: #1967D2;\n",
              "      height: 32px;\n",
              "      padding: 0 0 0 0;\n",
              "      width: 32px;\n",
              "    }\n",
              "\n",
              "    .colab-df-convert:hover {\n",
              "      background-color: #E2EBFA;\n",
              "      box-shadow: 0px 1px 2px rgba(60, 64, 67, 0.3), 0px 1px 3px 1px rgba(60, 64, 67, 0.15);\n",
              "      fill: #174EA6;\n",
              "    }\n",
              "\n",
              "    .colab-df-buttons div {\n",
              "      margin-bottom: 4px;\n",
              "    }\n",
              "\n",
              "    [theme=dark] .colab-df-convert {\n",
              "      background-color: #3B4455;\n",
              "      fill: #D2E3FC;\n",
              "    }\n",
              "\n",
              "    [theme=dark] .colab-df-convert:hover {\n",
              "      background-color: #434B5C;\n",
              "      box-shadow: 0px 1px 3px 1px rgba(0, 0, 0, 0.15);\n",
              "      filter: drop-shadow(0px 1px 2px rgba(0, 0, 0, 0.3));\n",
              "      fill: #FFFFFF;\n",
              "    }\n",
              "  </style>\n",
              "\n",
              "    <script>\n",
              "      const buttonEl =\n",
              "        document.querySelector('#df-67b4119b-dbe7-44c2-801d-17382044a90d button.colab-df-convert');\n",
              "      buttonEl.style.display =\n",
              "        google.colab.kernel.accessAllowed ? 'block' : 'none';\n",
              "\n",
              "      async function convertToInteractive(key) {\n",
              "        const element = document.querySelector('#df-67b4119b-dbe7-44c2-801d-17382044a90d');\n",
              "        const dataTable =\n",
              "          await google.colab.kernel.invokeFunction('convertToInteractive',\n",
              "                                                    [key], {});\n",
              "        if (!dataTable) return;\n",
              "\n",
              "        const docLinkHtml = 'Like what you see? Visit the ' +\n",
              "          '<a target=\"_blank\" href=https://colab.research.google.com/notebooks/data_table.ipynb>data table notebook</a>'\n",
              "          + ' to learn more about interactive tables.';\n",
              "        element.innerHTML = '';\n",
              "        dataTable['output_type'] = 'display_data';\n",
              "        await google.colab.output.renderOutput(dataTable, element);\n",
              "        const docLink = document.createElement('div');\n",
              "        docLink.innerHTML = docLinkHtml;\n",
              "        element.appendChild(docLink);\n",
              "      }\n",
              "    </script>\n",
              "  </div>\n",
              "\n",
              "\n",
              "<div id=\"df-d89305e4-57c9-4e46-b278-4728cb72cc0e\">\n",
              "  <button class=\"colab-df-quickchart\" onclick=\"quickchart('df-d89305e4-57c9-4e46-b278-4728cb72cc0e')\"\n",
              "            title=\"Suggest charts\"\n",
              "            style=\"display:none;\">\n",
              "\n",
              "<svg xmlns=\"http://www.w3.org/2000/svg\" height=\"24px\"viewBox=\"0 0 24 24\"\n",
              "     width=\"24px\">\n",
              "    <g>\n",
              "        <path d=\"M19 3H5c-1.1 0-2 .9-2 2v14c0 1.1.9 2 2 2h14c1.1 0 2-.9 2-2V5c0-1.1-.9-2-2-2zM9 17H7v-7h2v7zm4 0h-2V7h2v10zm4 0h-2v-4h2v4z\"/>\n",
              "    </g>\n",
              "</svg>\n",
              "  </button>\n",
              "\n",
              "<style>\n",
              "  .colab-df-quickchart {\n",
              "      --bg-color: #E8F0FE;\n",
              "      --fill-color: #1967D2;\n",
              "      --hover-bg-color: #E2EBFA;\n",
              "      --hover-fill-color: #174EA6;\n",
              "      --disabled-fill-color: #AAA;\n",
              "      --disabled-bg-color: #DDD;\n",
              "  }\n",
              "\n",
              "  [theme=dark] .colab-df-quickchart {\n",
              "      --bg-color: #3B4455;\n",
              "      --fill-color: #D2E3FC;\n",
              "      --hover-bg-color: #434B5C;\n",
              "      --hover-fill-color: #FFFFFF;\n",
              "      --disabled-bg-color: #3B4455;\n",
              "      --disabled-fill-color: #666;\n",
              "  }\n",
              "\n",
              "  .colab-df-quickchart {\n",
              "    background-color: var(--bg-color);\n",
              "    border: none;\n",
              "    border-radius: 50%;\n",
              "    cursor: pointer;\n",
              "    display: none;\n",
              "    fill: var(--fill-color);\n",
              "    height: 32px;\n",
              "    padding: 0;\n",
              "    width: 32px;\n",
              "  }\n",
              "\n",
              "  .colab-df-quickchart:hover {\n",
              "    background-color: var(--hover-bg-color);\n",
              "    box-shadow: 0 1px 2px rgba(60, 64, 67, 0.3), 0 1px 3px 1px rgba(60, 64, 67, 0.15);\n",
              "    fill: var(--button-hover-fill-color);\n",
              "  }\n",
              "\n",
              "  .colab-df-quickchart-complete:disabled,\n",
              "  .colab-df-quickchart-complete:disabled:hover {\n",
              "    background-color: var(--disabled-bg-color);\n",
              "    fill: var(--disabled-fill-color);\n",
              "    box-shadow: none;\n",
              "  }\n",
              "\n",
              "  .colab-df-spinner {\n",
              "    border: 2px solid var(--fill-color);\n",
              "    border-color: transparent;\n",
              "    border-bottom-color: var(--fill-color);\n",
              "    animation:\n",
              "      spin 1s steps(1) infinite;\n",
              "  }\n",
              "\n",
              "  @keyframes spin {\n",
              "    0% {\n",
              "      border-color: transparent;\n",
              "      border-bottom-color: var(--fill-color);\n",
              "      border-left-color: var(--fill-color);\n",
              "    }\n",
              "    20% {\n",
              "      border-color: transparent;\n",
              "      border-left-color: var(--fill-color);\n",
              "      border-top-color: var(--fill-color);\n",
              "    }\n",
              "    30% {\n",
              "      border-color: transparent;\n",
              "      border-left-color: var(--fill-color);\n",
              "      border-top-color: var(--fill-color);\n",
              "      border-right-color: var(--fill-color);\n",
              "    }\n",
              "    40% {\n",
              "      border-color: transparent;\n",
              "      border-right-color: var(--fill-color);\n",
              "      border-top-color: var(--fill-color);\n",
              "    }\n",
              "    60% {\n",
              "      border-color: transparent;\n",
              "      border-right-color: var(--fill-color);\n",
              "    }\n",
              "    80% {\n",
              "      border-color: transparent;\n",
              "      border-right-color: var(--fill-color);\n",
              "      border-bottom-color: var(--fill-color);\n",
              "    }\n",
              "    90% {\n",
              "      border-color: transparent;\n",
              "      border-bottom-color: var(--fill-color);\n",
              "    }\n",
              "  }\n",
              "</style>\n",
              "\n",
              "  <script>\n",
              "    async function quickchart(key) {\n",
              "      const quickchartButtonEl =\n",
              "        document.querySelector('#' + key + ' button');\n",
              "      quickchartButtonEl.disabled = true;  // To prevent multiple clicks.\n",
              "      quickchartButtonEl.classList.add('colab-df-spinner');\n",
              "      try {\n",
              "        const charts = await google.colab.kernel.invokeFunction(\n",
              "            'suggestCharts', [key], {});\n",
              "      } catch (error) {\n",
              "        console.error('Error during call to suggestCharts:', error);\n",
              "      }\n",
              "      quickchartButtonEl.classList.remove('colab-df-spinner');\n",
              "      quickchartButtonEl.classList.add('colab-df-quickchart-complete');\n",
              "    }\n",
              "    (() => {\n",
              "      let quickchartButtonEl =\n",
              "        document.querySelector('#df-d89305e4-57c9-4e46-b278-4728cb72cc0e button');\n",
              "      quickchartButtonEl.style.display =\n",
              "        google.colab.kernel.accessAllowed ? 'block' : 'none';\n",
              "    })();\n",
              "  </script>\n",
              "</div>\n",
              "    </div>\n",
              "  </div>\n"
            ]
          },
          "metadata": {},
          "execution_count": 6
        }
      ],
      "source": [
        "# shuffle the dataset\n",
        "train = train.sample(frac = 1).reset_index(drop=True)\n",
        "train.head()"
      ]
    },
    {
      "cell_type": "code",
      "execution_count": 7,
      "id": "d21bb438",
      "metadata": {
        "execution": {
          "iopub.execute_input": "2023-06-21T18:25:53.311767Z",
          "iopub.status.busy": "2023-06-21T18:25:53.311216Z",
          "iopub.status.idle": "2023-06-21T18:25:54.364422Z",
          "shell.execute_reply": "2023-06-21T18:25:54.363253Z"
        },
        "papermill": {
          "duration": 1.064874,
          "end_time": "2023-06-21T18:25:54.366534",
          "exception": false,
          "start_time": "2023-06-21T18:25:53.301660",
          "status": "completed"
        },
        "tags": [],
        "id": "d21bb438",
        "colab": {
          "base_uri": "https://localhost:8080/",
          "height": 328
        },
        "outputId": "82fb618c-6071-4fc5-a461-9332fc072d33"
      },
      "outputs": [
        {
          "output_type": "stream",
          "name": "stdout",
          "text": [
            "angry  Completed\n",
            "disgust  Completed\n",
            "fear  Completed\n",
            "happy  Completed\n",
            "neutral  Completed\n",
            "sad  Completed\n",
            "surprise  Completed\n"
          ]
        },
        {
          "output_type": "execute_result",
          "data": {
            "text/plain": [
              "                                              images labels\n",
              "0  /content/drive/MyDrive/facial-expression/test/...  angry\n",
              "1  /content/drive/MyDrive/facial-expression/test/...  angry\n",
              "2  /content/drive/MyDrive/facial-expression/test/...  angry\n",
              "3  /content/drive/MyDrive/facial-expression/test/...  angry\n",
              "4  /content/drive/MyDrive/facial-expression/test/...  angry"
            ],
            "text/html": [
              "\n",
              "  <div id=\"df-d47fe81d-3e6e-418f-be18-ff93c7e495bd\" class=\"colab-df-container\">\n",
              "    <div>\n",
              "<style scoped>\n",
              "    .dataframe tbody tr th:only-of-type {\n",
              "        vertical-align: middle;\n",
              "    }\n",
              "\n",
              "    .dataframe tbody tr th {\n",
              "        vertical-align: top;\n",
              "    }\n",
              "\n",
              "    .dataframe thead th {\n",
              "        text-align: right;\n",
              "    }\n",
              "</style>\n",
              "<table border=\"1\" class=\"dataframe\">\n",
              "  <thead>\n",
              "    <tr style=\"text-align: right;\">\n",
              "      <th></th>\n",
              "      <th>images</th>\n",
              "      <th>labels</th>\n",
              "    </tr>\n",
              "  </thead>\n",
              "  <tbody>\n",
              "    <tr>\n",
              "      <th>0</th>\n",
              "      <td>/content/drive/MyDrive/facial-expression/test/...</td>\n",
              "      <td>angry</td>\n",
              "    </tr>\n",
              "    <tr>\n",
              "      <th>1</th>\n",
              "      <td>/content/drive/MyDrive/facial-expression/test/...</td>\n",
              "      <td>angry</td>\n",
              "    </tr>\n",
              "    <tr>\n",
              "      <th>2</th>\n",
              "      <td>/content/drive/MyDrive/facial-expression/test/...</td>\n",
              "      <td>angry</td>\n",
              "    </tr>\n",
              "    <tr>\n",
              "      <th>3</th>\n",
              "      <td>/content/drive/MyDrive/facial-expression/test/...</td>\n",
              "      <td>angry</td>\n",
              "    </tr>\n",
              "    <tr>\n",
              "      <th>4</th>\n",
              "      <td>/content/drive/MyDrive/facial-expression/test/...</td>\n",
              "      <td>angry</td>\n",
              "    </tr>\n",
              "  </tbody>\n",
              "</table>\n",
              "</div>\n",
              "    <div class=\"colab-df-buttons\">\n",
              "\n",
              "  <div class=\"colab-df-container\">\n",
              "    <button class=\"colab-df-convert\" onclick=\"convertToInteractive('df-d47fe81d-3e6e-418f-be18-ff93c7e495bd')\"\n",
              "            title=\"Convert this dataframe to an interactive table.\"\n",
              "            style=\"display:none;\">\n",
              "\n",
              "  <svg xmlns=\"http://www.w3.org/2000/svg\" height=\"24px\" viewBox=\"0 -960 960 960\">\n",
              "    <path d=\"M120-120v-720h720v720H120Zm60-500h600v-160H180v160Zm220 220h160v-160H400v160Zm0 220h160v-160H400v160ZM180-400h160v-160H180v160Zm440 0h160v-160H620v160ZM180-180h160v-160H180v160Zm440 0h160v-160H620v160Z\"/>\n",
              "  </svg>\n",
              "    </button>\n",
              "\n",
              "  <style>\n",
              "    .colab-df-container {\n",
              "      display:flex;\n",
              "      gap: 12px;\n",
              "    }\n",
              "\n",
              "    .colab-df-convert {\n",
              "      background-color: #E8F0FE;\n",
              "      border: none;\n",
              "      border-radius: 50%;\n",
              "      cursor: pointer;\n",
              "      display: none;\n",
              "      fill: #1967D2;\n",
              "      height: 32px;\n",
              "      padding: 0 0 0 0;\n",
              "      width: 32px;\n",
              "    }\n",
              "\n",
              "    .colab-df-convert:hover {\n",
              "      background-color: #E2EBFA;\n",
              "      box-shadow: 0px 1px 2px rgba(60, 64, 67, 0.3), 0px 1px 3px 1px rgba(60, 64, 67, 0.15);\n",
              "      fill: #174EA6;\n",
              "    }\n",
              "\n",
              "    .colab-df-buttons div {\n",
              "      margin-bottom: 4px;\n",
              "    }\n",
              "\n",
              "    [theme=dark] .colab-df-convert {\n",
              "      background-color: #3B4455;\n",
              "      fill: #D2E3FC;\n",
              "    }\n",
              "\n",
              "    [theme=dark] .colab-df-convert:hover {\n",
              "      background-color: #434B5C;\n",
              "      box-shadow: 0px 1px 3px 1px rgba(0, 0, 0, 0.15);\n",
              "      filter: drop-shadow(0px 1px 2px rgba(0, 0, 0, 0.3));\n",
              "      fill: #FFFFFF;\n",
              "    }\n",
              "  </style>\n",
              "\n",
              "    <script>\n",
              "      const buttonEl =\n",
              "        document.querySelector('#df-d47fe81d-3e6e-418f-be18-ff93c7e495bd button.colab-df-convert');\n",
              "      buttonEl.style.display =\n",
              "        google.colab.kernel.accessAllowed ? 'block' : 'none';\n",
              "\n",
              "      async function convertToInteractive(key) {\n",
              "        const element = document.querySelector('#df-d47fe81d-3e6e-418f-be18-ff93c7e495bd');\n",
              "        const dataTable =\n",
              "          await google.colab.kernel.invokeFunction('convertToInteractive',\n",
              "                                                    [key], {});\n",
              "        if (!dataTable) return;\n",
              "\n",
              "        const docLinkHtml = 'Like what you see? Visit the ' +\n",
              "          '<a target=\"_blank\" href=https://colab.research.google.com/notebooks/data_table.ipynb>data table notebook</a>'\n",
              "          + ' to learn more about interactive tables.';\n",
              "        element.innerHTML = '';\n",
              "        dataTable['output_type'] = 'display_data';\n",
              "        await google.colab.output.renderOutput(dataTable, element);\n",
              "        const docLink = document.createElement('div');\n",
              "        docLink.innerHTML = docLinkHtml;\n",
              "        element.appendChild(docLink);\n",
              "      }\n",
              "    </script>\n",
              "  </div>\n",
              "\n",
              "\n",
              "<div id=\"df-4c8a0abc-368e-4f1f-810b-0c3c78125e65\">\n",
              "  <button class=\"colab-df-quickchart\" onclick=\"quickchart('df-4c8a0abc-368e-4f1f-810b-0c3c78125e65')\"\n",
              "            title=\"Suggest charts\"\n",
              "            style=\"display:none;\">\n",
              "\n",
              "<svg xmlns=\"http://www.w3.org/2000/svg\" height=\"24px\"viewBox=\"0 0 24 24\"\n",
              "     width=\"24px\">\n",
              "    <g>\n",
              "        <path d=\"M19 3H5c-1.1 0-2 .9-2 2v14c0 1.1.9 2 2 2h14c1.1 0 2-.9 2-2V5c0-1.1-.9-2-2-2zM9 17H7v-7h2v7zm4 0h-2V7h2v10zm4 0h-2v-4h2v4z\"/>\n",
              "    </g>\n",
              "</svg>\n",
              "  </button>\n",
              "\n",
              "<style>\n",
              "  .colab-df-quickchart {\n",
              "      --bg-color: #E8F0FE;\n",
              "      --fill-color: #1967D2;\n",
              "      --hover-bg-color: #E2EBFA;\n",
              "      --hover-fill-color: #174EA6;\n",
              "      --disabled-fill-color: #AAA;\n",
              "      --disabled-bg-color: #DDD;\n",
              "  }\n",
              "\n",
              "  [theme=dark] .colab-df-quickchart {\n",
              "      --bg-color: #3B4455;\n",
              "      --fill-color: #D2E3FC;\n",
              "      --hover-bg-color: #434B5C;\n",
              "      --hover-fill-color: #FFFFFF;\n",
              "      --disabled-bg-color: #3B4455;\n",
              "      --disabled-fill-color: #666;\n",
              "  }\n",
              "\n",
              "  .colab-df-quickchart {\n",
              "    background-color: var(--bg-color);\n",
              "    border: none;\n",
              "    border-radius: 50%;\n",
              "    cursor: pointer;\n",
              "    display: none;\n",
              "    fill: var(--fill-color);\n",
              "    height: 32px;\n",
              "    padding: 0;\n",
              "    width: 32px;\n",
              "  }\n",
              "\n",
              "  .colab-df-quickchart:hover {\n",
              "    background-color: var(--hover-bg-color);\n",
              "    box-shadow: 0 1px 2px rgba(60, 64, 67, 0.3), 0 1px 3px 1px rgba(60, 64, 67, 0.15);\n",
              "    fill: var(--button-hover-fill-color);\n",
              "  }\n",
              "\n",
              "  .colab-df-quickchart-complete:disabled,\n",
              "  .colab-df-quickchart-complete:disabled:hover {\n",
              "    background-color: var(--disabled-bg-color);\n",
              "    fill: var(--disabled-fill-color);\n",
              "    box-shadow: none;\n",
              "  }\n",
              "\n",
              "  .colab-df-spinner {\n",
              "    border: 2px solid var(--fill-color);\n",
              "    border-color: transparent;\n",
              "    border-bottom-color: var(--fill-color);\n",
              "    animation:\n",
              "      spin 1s steps(1) infinite;\n",
              "  }\n",
              "\n",
              "  @keyframes spin {\n",
              "    0% {\n",
              "      border-color: transparent;\n",
              "      border-bottom-color: var(--fill-color);\n",
              "      border-left-color: var(--fill-color);\n",
              "    }\n",
              "    20% {\n",
              "      border-color: transparent;\n",
              "      border-left-color: var(--fill-color);\n",
              "      border-top-color: var(--fill-color);\n",
              "    }\n",
              "    30% {\n",
              "      border-color: transparent;\n",
              "      border-left-color: var(--fill-color);\n",
              "      border-top-color: var(--fill-color);\n",
              "      border-right-color: var(--fill-color);\n",
              "    }\n",
              "    40% {\n",
              "      border-color: transparent;\n",
              "      border-right-color: var(--fill-color);\n",
              "      border-top-color: var(--fill-color);\n",
              "    }\n",
              "    60% {\n",
              "      border-color: transparent;\n",
              "      border-right-color: var(--fill-color);\n",
              "    }\n",
              "    80% {\n",
              "      border-color: transparent;\n",
              "      border-right-color: var(--fill-color);\n",
              "      border-bottom-color: var(--fill-color);\n",
              "    }\n",
              "    90% {\n",
              "      border-color: transparent;\n",
              "      border-bottom-color: var(--fill-color);\n",
              "    }\n",
              "  }\n",
              "</style>\n",
              "\n",
              "  <script>\n",
              "    async function quickchart(key) {\n",
              "      const quickchartButtonEl =\n",
              "        document.querySelector('#' + key + ' button');\n",
              "      quickchartButtonEl.disabled = true;  // To prevent multiple clicks.\n",
              "      quickchartButtonEl.classList.add('colab-df-spinner');\n",
              "      try {\n",
              "        const charts = await google.colab.kernel.invokeFunction(\n",
              "            'suggestCharts', [key], {});\n",
              "      } catch (error) {\n",
              "        console.error('Error during call to suggestCharts:', error);\n",
              "      }\n",
              "      quickchartButtonEl.classList.remove('colab-df-spinner');\n",
              "      quickchartButtonEl.classList.add('colab-df-quickchart-complete');\n",
              "    }\n",
              "    (() => {\n",
              "      let quickchartButtonEl =\n",
              "        document.querySelector('#df-4c8a0abc-368e-4f1f-810b-0c3c78125e65 button');\n",
              "      quickchartButtonEl.style.display =\n",
              "        google.colab.kernel.accessAllowed ? 'block' : 'none';\n",
              "    })();\n",
              "  </script>\n",
              "</div>\n",
              "    </div>\n",
              "  </div>\n"
            ]
          },
          "metadata": {},
          "execution_count": 7
        }
      ],
      "source": [
        "test = pd.DataFrame()\n",
        "test['images'], test['labels'] = load_images(TEST_DIR)\n",
        "test.head()"
      ]
    },
    {
      "cell_type": "markdown",
      "id": "64501662",
      "metadata": {
        "papermill": {
          "duration": 0.009418,
          "end_time": "2023-06-21T18:25:54.386047",
          "exception": false,
          "start_time": "2023-06-21T18:25:54.376629",
          "status": "completed"
        },
        "tags": [],
        "id": "64501662"
      },
      "source": [
        "# Exploratory Data Analysis"
      ]
    },
    {
      "cell_type": "code",
      "execution_count": 8,
      "id": "1ce9da9e",
      "metadata": {
        "execution": {
          "iopub.execute_input": "2023-06-21T18:25:54.407314Z",
          "iopub.status.busy": "2023-06-21T18:25:54.406495Z",
          "iopub.status.idle": "2023-06-21T18:25:54.754972Z",
          "shell.execute_reply": "2023-06-21T18:25:54.753978Z"
        },
        "papermill": {
          "duration": 0.361471,
          "end_time": "2023-06-21T18:25:54.757034",
          "exception": false,
          "start_time": "2023-06-21T18:25:54.395563",
          "status": "completed"
        },
        "tags": [],
        "id": "1ce9da9e",
        "colab": {
          "base_uri": "https://localhost:8080/",
          "height": 466
        },
        "outputId": "a121b968-3a36-4742-b997-6c8351a3d7b2"
      },
      "outputs": [
        {
          "output_type": "execute_result",
          "data": {
            "text/plain": [
              "<Axes: xlabel='labels', ylabel='count'>"
            ]
          },
          "metadata": {},
          "execution_count": 8
        },
        {
          "output_type": "display_data",
          "data": {
            "text/plain": [
              "<Figure size 640x480 with 1 Axes>"
            ],
            "image/png": "[encoded data removed]"
          },
          "metadata": {}
        }
      ],
      "source": [
        "sns.countplot(data=train, x='labels')"
      ]
    },
    {
      "cell_type": "markdown",
      "id": "2d15a4e2",
      "metadata": {
        "papermill": {
          "duration": 0.009473,
          "end_time": "2023-06-21T18:25:54.776672",
          "exception": false,
          "start_time": "2023-06-21T18:25:54.767199",
          "status": "completed"
        },
        "tags": [],
        "id": "2d15a4e2"
      },
      "source": [
        "### This mean it is Unbalanced Data"
      ]
    },
    {
      "cell_type": "code",
      "execution_count": 9,
      "id": "f9dc7727",
      "metadata": {
        "execution": {
          "iopub.execute_input": "2023-06-21T18:25:54.798179Z",
          "iopub.status.busy": "2023-06-21T18:25:54.797854Z",
          "iopub.status.idle": "2023-06-21T18:25:55.096337Z",
          "shell.execute_reply": "2023-06-21T18:25:55.095376Z"
        },
        "papermill": {
          "duration": 0.311492,
          "end_time": "2023-06-21T18:25:55.098640",
          "exception": false,
          "start_time": "2023-06-21T18:25:54.787148",
          "status": "completed"
        },
        "tags": [],
        "id": "f9dc7727",
        "colab": {
          "base_uri": "https://localhost:8080/",
          "height": 452
        },
        "outputId": "ec0db724-da6a-4695-a6dc-4010cd89681d"
      },
      "outputs": [
        {
          "output_type": "display_data",
          "data": {
            "text/plain": [
              "<Figure size 640x480 with 1 Axes>"
            ],
            "image/png": "[encoded data removed]"
          },
          "metadata": {}
        }
      ],
      "source": [
        "sample_img = load_img(train['images'][3])\n",
        "plt.title(train['labels'][3])\n",
        "plt.imshow(sample_img);"
      ]
    },
    {
      "cell_type": "code",
      "execution_count": 10,
      "id": "b5932b14",
      "metadata": {
        "execution": {
          "iopub.execute_input": "2023-06-21T18:25:55.120611Z",
          "iopub.status.busy": "2023-06-21T18:25:55.120333Z",
          "iopub.status.idle": "2023-06-21T18:25:55.134555Z",
          "shell.execute_reply": "2023-06-21T18:25:55.133315Z"
        },
        "papermill": {
          "duration": 0.027428,
          "end_time": "2023-06-21T18:25:55.136523",
          "exception": false,
          "start_time": "2023-06-21T18:25:55.109095",
          "status": "completed"
        },
        "tags": [],
        "id": "b5932b14",
        "colab": {
          "base_uri": "https://localhost:8080/"
        },
        "outputId": "7e35a0fc-d9b2-4b50-dc60-995930a8810a"
      },
      "outputs": [
        {
          "output_type": "stream",
          "name": "stdout",
          "text": [
            "Image shape: (48, 48)\n"
          ]
        }
      ],
      "source": [
        "from PIL import Image\n",
        "import numpy as np\n",
        "\n",
        "image_path = train['images'][0]\n",
        "pil_image = Image.open(image_path)\n",
        "\n",
        "# Convert the PIL image to a NumPy array\n",
        "np_image = np.array(pil_image)\n",
        "\n",
        "# Get the shape of the NumPy array\n",
        "height, width = np_image.shape\n",
        "print(\"Image shape: ({}, {})\".format(height, width))"
      ]
    },
    {
      "cell_type": "code",
      "execution_count": 11,
      "id": "7787989c",
      "metadata": {
        "execution": {
          "iopub.execute_input": "2023-06-21T18:25:55.158469Z",
          "iopub.status.busy": "2023-06-21T18:25:55.158207Z",
          "iopub.status.idle": "2023-06-21T18:25:56.679151Z",
          "shell.execute_reply": "2023-06-21T18:25:56.678169Z"
        },
        "papermill": {
          "duration": 1.5355,
          "end_time": "2023-06-21T18:25:56.682113",
          "exception": false,
          "start_time": "2023-06-21T18:25:55.146613",
          "status": "completed"
        },
        "tags": [],
        "id": "7787989c",
        "colab": {
          "base_uri": "https://localhost:8080/",
          "height": 1000
        },
        "outputId": "ebda7843-5058-4124-e41d-c6565f30f538"
      },
      "outputs": [
        {
          "output_type": "display_data",
          "data": {
            "text/plain": [
              "<Figure size 1600x1600 with 16 Axes>"
            ],
            "image/png": "[encoded data removed]"
          },
          "metadata": {}
        }
      ],
      "source": [
        "plt.figure(figsize=(16,16))\n",
        "sample_imgs = train.iloc[0:16]\n",
        "for idx, img, label in sample_imgs.itertuples():\n",
        "    plt.subplot(4,4,idx+1)\n",
        "    img = load_img(img)\n",
        "    plt.title(label)\n",
        "    plt.axis('off')\n",
        "    plt.imshow(img)\n"
      ]
    },
    {
      "cell_type": "markdown",
      "id": "6edbc355",
      "metadata": {
        "papermill": {
          "duration": 0.012602,
          "end_time": "2023-06-21T18:25:56.706699",
          "exception": false,
          "start_time": "2023-06-21T18:25:56.694097",
          "status": "completed"
        },
        "tags": [],
        "id": "6edbc355"
      },
      "source": [
        "# Preprocessing"
      ]
    },
    {
      "cell_type": "code",
      "execution_count": 12,
      "id": "2a451cf2",
      "metadata": {
        "execution": {
          "iopub.execute_input": "2023-06-21T18:25:56.733651Z",
          "iopub.status.busy": "2023-06-21T18:25:56.733294Z",
          "iopub.status.idle": "2023-06-21T18:25:56.739890Z",
          "shell.execute_reply": "2023-06-21T18:25:56.738738Z"
        },
        "papermill": {
          "duration": 0.022936,
          "end_time": "2023-06-21T18:25:56.742563",
          "exception": false,
          "start_time": "2023-06-21T18:25:56.719627",
          "status": "completed"
        },
        "tags": [],
        "id": "2a451cf2"
      },
      "outputs": [],
      "source": [
        "def read_images(images):\n",
        "    features=[]\n",
        "    for img_path in tqdm(images):\n",
        "        img = load_img(img_path,grayscale=True)\n",
        "        img = np.array(img)\n",
        "        features.append(img)\n",
        "    features = np.array(features)\n",
        "    features = features.reshape(len(features),48,48,1)\n",
        "    return features"
      ]
    },
    {
      "cell_type": "code",
      "execution_count": 13,
      "id": "613867a9",
      "metadata": {
        "execution": {
          "iopub.execute_input": "2023-06-21T18:25:56.768689Z",
          "iopub.status.busy": "2023-06-21T18:25:56.768417Z",
          "iopub.status.idle": "2023-06-21T18:29:32.319501Z",
          "shell.execute_reply": "2023-06-21T18:29:32.318440Z"
        },
        "papermill": {
          "duration": 215.566782,
          "end_time": "2023-06-21T18:29:32.322037",
          "exception": false,
          "start_time": "2023-06-21T18:25:56.755255",
          "status": "completed"
        },
        "tags": [],
        "id": "613867a9",
        "colab": {
          "base_uri": "https://localhost:8080/",
          "height": 49,
          "referenced_widgets": [
            "debf750be2b24a7ebd006a39d3856be4",
            "dc3af39640d448b798b4925d8e5fcd19",
            "3c2af5b8808e4b0eb78516fecef84f62",
            "3be4d31ff6b442e49f276e707955cdaf",
            "cb31c51b01b840b4848a1b7c1ab85c81",
            "a7489505be2a46479b3ad0dbefecfa99",
            "154765457cdb44518984a5f5f5bb1bd4",
            "b70044e54d2e448ebad7afb4be1f3be0",
            "79002a2384964f3989ef4d96eb1ce380",
            "e6565f20247f4ad388f106d11e721957",
            "df5a1ea054ff490a9c4a4d2551565c30"
          ]
        },
        "outputId": "bc740865-e0a8-4c00-e703-2fd53a90af10"
      },
      "outputs": [
        {
          "output_type": "display_data",
          "data": {
            "text/plain": [
              "  0%|          | 0/28709 [00:00<?, ?it/s]"
            ],
            "application/vnd.jupyter.widget-view+json": {
              "version_major": 2,
              "version_minor": 0,
              "model_id": "debf750be2b24a7ebd006a39d3856be4"
            }
          },
          "metadata": {}
        }
      ],
      "source": [
        "X_train = read_images(train['images'])"
      ]
    },
    {
      "cell_type": "code",
      "execution_count": 14,
      "id": "10dd51ab",
      "metadata": {
        "execution": {
          "iopub.execute_input": "2023-06-21T18:29:32.350135Z",
          "iopub.status.busy": "2023-06-21T18:29:32.349772Z",
          "iopub.status.idle": "2023-06-21T18:30:20.517111Z",
          "shell.execute_reply": "2023-06-21T18:30:20.516147Z"
        },
        "papermill": {
          "duration": 48.184024,
          "end_time": "2023-06-21T18:30:20.519262",
          "exception": false,
          "start_time": "2023-06-21T18:29:32.335238",
          "status": "completed"
        },
        "tags": [],
        "id": "10dd51ab",
        "colab": {
          "base_uri": "https://localhost:8080/",
          "height": 49,
          "referenced_widgets": [
            "3239618df2464076b14f7ee9e2b673d5",
            "3441b794f3494e25b9c16650ad2541a6",
            "937ded2c3930406ea0635b3b0e226fec",
            "6cd4b302f2184647a4864a2d236e1750",
            "4c3f412dc44542a9895dd6c53f5fbbaa",
            "44cf9c50b87c426083f79e29a6f71bc4",
            "d224ba634ea6467097aa8003a85af7bc",
            "51f521abe7ac445b93e471040ddafa1a",
            "9decde0da35b41edbb158796a5fb17ef",
            "4c616c46553d45f4b918e92a9f15565b",
            "f0fa572b1e3a4a41a20726612b88d60c"
          ]
        },
        "outputId": "4fd0ca4e-77b7-4c4f-ef3e-e7a05f00f412"
      },
      "outputs": [
        {
          "output_type": "display_data",
          "data": {
            "text/plain": [
              "  0%|          | 0/7171 [00:00<?, ?it/s]"
            ],
            "application/vnd.jupyter.widget-view+json": {
              "version_major": 2,
              "version_minor": 0,
              "model_id": "3239618df2464076b14f7ee9e2b673d5"
            }
          },
          "metadata": {}
        }
      ],
      "source": [
        "X_test = read_images(test['images'])"
      ]
    },
    {
      "cell_type": "code",
      "execution_count": 15,
      "id": "ce9284f8",
      "metadata": {
        "execution": {
          "iopub.execute_input": "2023-06-21T18:30:20.546879Z",
          "iopub.status.busy": "2023-06-21T18:30:20.546584Z",
          "iopub.status.idle": "2023-06-21T18:30:20.552645Z",
          "shell.execute_reply": "2023-06-21T18:30:20.551735Z"
        },
        "papermill": {
          "duration": 0.022219,
          "end_time": "2023-06-21T18:30:20.554708",
          "exception": false,
          "start_time": "2023-06-21T18:30:20.532489",
          "status": "completed"
        },
        "tags": [],
        "id": "ce9284f8",
        "colab": {
          "base_uri": "https://localhost:8080/"
        },
        "outputId": "a8707455-ec4b-4739-dd27-04c91fe23be9"
      },
      "outputs": [
        {
          "output_type": "execute_result",
          "data": {
            "text/plain": [
              "(7171, 48, 48, 1)"
            ]
          },
          "metadata": {},
          "execution_count": 15
        }
      ],
      "source": [
        "X_test.shape"
      ]
    },
    {
      "cell_type": "code",
      "execution_count": 16,
      "id": "6a3aeb90",
      "metadata": {
        "execution": {
          "iopub.execute_input": "2023-06-21T18:30:20.581454Z",
          "iopub.status.busy": "2023-06-21T18:30:20.580723Z",
          "iopub.status.idle": "2023-06-21T18:30:20.805142Z",
          "shell.execute_reply": "2023-06-21T18:30:20.803996Z"
        },
        "papermill": {
          "duration": 0.240416,
          "end_time": "2023-06-21T18:30:20.807638",
          "exception": false,
          "start_time": "2023-06-21T18:30:20.567222",
          "status": "completed"
        },
        "tags": [],
        "id": "6a3aeb90"
      },
      "outputs": [],
      "source": [
        "## normalize the image\n",
        "X_train = X_train/255.0\n",
        "X_test = X_test/255.0"
      ]
    },
    {
      "cell_type": "code",
      "execution_count": 17,
      "id": "f27154f1",
      "metadata": {
        "execution": {
          "iopub.execute_input": "2023-06-21T18:30:20.833818Z",
          "iopub.status.busy": "2023-06-21T18:30:20.833499Z",
          "iopub.status.idle": "2023-06-21T18:30:20.850891Z",
          "shell.execute_reply": "2023-06-21T18:30:20.850007Z"
        },
        "papermill": {
          "duration": 0.033216,
          "end_time": "2023-06-21T18:30:20.853087",
          "exception": false,
          "start_time": "2023-06-21T18:30:20.819871",
          "status": "completed"
        },
        "tags": [],
        "id": "f27154f1"
      },
      "outputs": [],
      "source": [
        "from sklearn.preprocessing import LabelEncoder\n",
        "le = LabelEncoder()\n",
        "le.fit(train['labels'])\n",
        "y_train = le.transform(train['labels'])\n",
        "y_test = le.transform(test['labels'])"
      ]
    },
    {
      "cell_type": "code",
      "execution_count": 18,
      "id": "d258f506",
      "metadata": {
        "execution": {
          "iopub.execute_input": "2023-06-21T18:30:20.878763Z",
          "iopub.status.busy": "2023-06-21T18:30:20.878445Z",
          "iopub.status.idle": "2023-06-21T18:30:20.885080Z",
          "shell.execute_reply": "2023-06-21T18:30:20.884246Z"
        },
        "papermill": {
          "duration": 0.022221,
          "end_time": "2023-06-21T18:30:20.887319",
          "exception": false,
          "start_time": "2023-06-21T18:30:20.865098",
          "status": "completed"
        },
        "tags": [],
        "id": "d258f506"
      },
      "outputs": [],
      "source": [
        "from keras.utils import to_categorical\n",
        "y_train = to_categorical(y_train, num_classes=7)\n",
        "y_test = to_categorical(y_test, num_classes=7)"
      ]
    },
    {
      "cell_type": "code",
      "execution_count": 19,
      "id": "f152c41a",
      "metadata": {
        "execution": {
          "iopub.execute_input": "2023-06-21T18:30:20.913566Z",
          "iopub.status.busy": "2023-06-21T18:30:20.913249Z",
          "iopub.status.idle": "2023-06-21T18:30:20.921045Z",
          "shell.execute_reply": "2023-06-21T18:30:20.920079Z"
        },
        "papermill": {
          "duration": 0.023489,
          "end_time": "2023-06-21T18:30:20.923159",
          "exception": false,
          "start_time": "2023-06-21T18:30:20.899670",
          "status": "completed"
        },
        "tags": [],
        "id": "f152c41a",
        "colab": {
          "base_uri": "https://localhost:8080/"
        },
        "outputId": "b0ac5c7d-6e86-4b3e-864e-66ebe5ad3651"
      },
      "outputs": [
        {
          "output_type": "execute_result",
          "data": {
            "text/plain": [
              "array([0., 0., 0., 0., 0., 0., 1.], dtype=float32)"
            ]
          },
          "metadata": {},
          "execution_count": 19
        }
      ],
      "source": [
        "y_train[0]"
      ]
    },
    {
      "cell_type": "code",
      "execution_count": 20,
      "id": "11974b72",
      "metadata": {
        "execution": {
          "iopub.execute_input": "2023-06-21T18:30:20.949514Z",
          "iopub.status.busy": "2023-06-21T18:30:20.949201Z",
          "iopub.status.idle": "2023-06-21T18:30:20.953745Z",
          "shell.execute_reply": "2023-06-21T18:30:20.952704Z"
        },
        "papermill": {
          "duration": 0.020963,
          "end_time": "2023-06-21T18:30:20.956174",
          "exception": false,
          "start_time": "2023-06-21T18:30:20.935211",
          "status": "completed"
        },
        "tags": [],
        "id": "11974b72"
      },
      "outputs": [],
      "source": [
        "input_shape = (48, 48, 1)\n",
        "output_class = 7"
      ]
    },
    {
      "cell_type": "markdown",
      "id": "c701e2dd",
      "metadata": {
        "execution": {
          "iopub.execute_input": "2023-06-21T16:25:18.087667Z",
          "iopub.status.busy": "2023-06-21T16:25:18.087234Z",
          "iopub.status.idle": "2023-06-21T16:25:18.092981Z",
          "shell.execute_reply": "2023-06-21T16:25:18.091656Z",
          "shell.execute_reply.started": "2023-06-21T16:25:18.087637Z"
        },
        "papermill": {
          "duration": 0.011853,
          "end_time": "2023-06-21T18:30:20.980042",
          "exception": false,
          "start_time": "2023-06-21T18:30:20.968189",
          "status": "completed"
        },
        "tags": [],
        "id": "c701e2dd"
      },
      "source": [
        "# Model"
      ]
    },
    {
      "cell_type": "code",
      "execution_count": 21,
      "id": "96304e53",
      "metadata": {
        "execution": {
          "iopub.execute_input": "2023-06-21T18:30:21.005823Z",
          "iopub.status.busy": "2023-06-21T18:30:21.005489Z",
          "iopub.status.idle": "2023-06-21T18:30:27.154229Z",
          "shell.execute_reply": "2023-06-21T18:30:27.153242Z"
        },
        "papermill": {
          "duration": 6.164454,
          "end_time": "2023-06-21T18:30:27.156603",
          "exception": false,
          "start_time": "2023-06-21T18:30:20.992149",
          "status": "completed"
        },
        "tags": [],
        "id": "96304e53"
      },
      "outputs": [],
      "source": [
        "model = Sequential()\n",
        "# convolutional layers\n",
        "model.add(Conv2D(128, kernel_size=(3,3), activation='relu', input_shape=input_shape))\n",
        "model.add(MaxPooling2D(pool_size=(2,2)))\n",
        "model.add(Dropout(0.4))\n",
        "\n",
        "model.add(Conv2D(256, kernel_size=(3,3), activation='relu'))\n",
        "model.add(MaxPooling2D(pool_size=(2,2)))\n",
        "model.add(Dropout(0.4))\n",
        "\n",
        "model.add(Conv2D(512, kernel_size=(3,3), activation='relu'))\n",
        "model.add(MaxPooling2D(pool_size=(2,2)))\n",
        "model.add(Dropout(0.4))\n",
        "\n",
        "model.add(Conv2D(512, kernel_size=(3,3), activation='relu'))\n",
        "model.add(MaxPooling2D(pool_size=(2,2)))\n",
        "model.add(Dropout(0.4))\n",
        "\n",
        "model.add(Flatten())\n",
        "# fully connected layers\n",
        "model.add(Dense(512, activation='relu'))\n",
        "model.add(Dropout(0.4))\n",
        "model.add(Dense(256, activation='relu'))\n",
        "model.add(Dropout(0.3))\n",
        "# output layer\n",
        "model.add(Dense(output_class, activation='softmax'))\n",
        "\n",
        "model.compile(optimizer='adam', loss='categorical_crossentropy', metrics='accuracy')"
      ]
    },
    {
      "cell_type": "code",
      "execution_count": 22,
      "id": "270d6f3e",
      "metadata": {
        "execution": {
          "iopub.execute_input": "2023-06-21T18:30:27.183396Z",
          "iopub.status.busy": "2023-06-21T18:30:27.183077Z",
          "iopub.status.idle": "2023-06-21T18:50:47.047734Z",
          "shell.execute_reply": "2023-06-21T18:50:47.046751Z"
        },
        "papermill": {
          "duration": 1219.880958,
          "end_time": "2023-06-21T18:50:47.050239",
          "exception": false,
          "start_time": "2023-06-21T18:30:27.169281",
          "status": "completed"
        },
        "tags": [],
        "id": "270d6f3e",
        "colab": {
          "base_uri": "https://localhost:8080/"
        },
        "outputId": "c75a2269-0e6c-44ae-81db-a9886fd229ac"
      },
      "outputs": [
        {
          "output_type": "stream",
          "name": "stdout",
          "text": [
            "Epoch 1/100\n",
            "225/225 [==============================] - 23s 61ms/step - loss: 1.8211 - accuracy: 0.2480 - val_loss: 1.8135 - val_accuracy: 0.2472\n",
            "Epoch 2/100\n",
            "225/225 [==============================] - 13s 58ms/step - loss: 1.8075 - accuracy: 0.2512 - val_loss: 1.7895 - val_accuracy: 0.2570\n",
            "Epoch 3/100\n",
            "225/225 [==============================] - 12s 52ms/step - loss: 1.7437 - accuracy: 0.2772 - val_loss: 1.6640 - val_accuracy: 0.3287\n",
            "Epoch 4/100\n",
            "225/225 [==============================] - 12s 53ms/step - loss: 1.6337 - accuracy: 0.3515 - val_loss: 1.4950 - val_accuracy: 0.4128\n",
            "Epoch 5/100\n",
            "225/225 [==============================] - 11s 51ms/step - loss: 1.5238 - accuracy: 0.4035 - val_loss: 1.4018 - val_accuracy: 0.4506\n",
            "Epoch 6/100\n",
            "225/225 [==============================] - 12s 51ms/step - loss: 1.4632 - accuracy: 0.4328 - val_loss: 1.3509 - val_accuracy: 0.4723\n",
            "Epoch 7/100\n",
            "225/225 [==============================] - 12s 53ms/step - loss: 1.4238 - accuracy: 0.4531 - val_loss: 1.3278 - val_accuracy: 0.4875\n",
            "Epoch 8/100\n",
            "225/225 [==============================] - 12s 53ms/step - loss: 1.3819 - accuracy: 0.4691 - val_loss: 1.2789 - val_accuracy: 0.5037\n",
            "Epoch 9/100\n",
            "225/225 [==============================] - 12s 51ms/step - loss: 1.3530 - accuracy: 0.4782 - val_loss: 1.2335 - val_accuracy: 0.5239\n",
            "Epoch 10/100\n",
            "225/225 [==============================] - 12s 52ms/step - loss: 1.3294 - accuracy: 0.4927 - val_loss: 1.2353 - val_accuracy: 0.5260\n",
            "Epoch 11/100\n",
            "225/225 [==============================] - 12s 52ms/step - loss: 1.3103 - accuracy: 0.5002 - val_loss: 1.2242 - val_accuracy: 0.5238\n",
            "Epoch 12/100\n",
            "225/225 [==============================] - 12s 54ms/step - loss: 1.2939 - accuracy: 0.5066 - val_loss: 1.1946 - val_accuracy: 0.5359\n",
            "Epoch 13/100\n",
            "225/225 [==============================] - 12s 51ms/step - loss: 1.2783 - accuracy: 0.5143 - val_loss: 1.1881 - val_accuracy: 0.5429\n",
            "Epoch 14/100\n",
            "225/225 [==============================] - 12s 56ms/step - loss: 1.2581 - accuracy: 0.5200 - val_loss: 1.1727 - val_accuracy: 0.5485\n",
            "Epoch 15/100\n",
            "225/225 [==============================] - 12s 52ms/step - loss: 1.2530 - accuracy: 0.5239 - val_loss: 1.1596 - val_accuracy: 0.5556\n",
            "Epoch 16/100\n",
            "225/225 [==============================] - 12s 53ms/step - loss: 1.2319 - accuracy: 0.5321 - val_loss: 1.1432 - val_accuracy: 0.5648\n",
            "Epoch 17/100\n",
            "225/225 [==============================] - 12s 55ms/step - loss: 1.2226 - accuracy: 0.5361 - val_loss: 1.1436 - val_accuracy: 0.5591\n",
            "Epoch 18/100\n",
            "225/225 [==============================] - 12s 52ms/step - loss: 1.2226 - accuracy: 0.5364 - val_loss: 1.1445 - val_accuracy: 0.5677\n",
            "Epoch 19/100\n",
            "225/225 [==============================] - 12s 55ms/step - loss: 1.2021 - accuracy: 0.5424 - val_loss: 1.1410 - val_accuracy: 0.5614\n",
            "Epoch 20/100\n",
            "225/225 [==============================] - 12s 52ms/step - loss: 1.1925 - accuracy: 0.5485 - val_loss: 1.1239 - val_accuracy: 0.5644\n",
            "Epoch 21/100\n",
            "225/225 [==============================] - 12s 52ms/step - loss: 1.1806 - accuracy: 0.5547 - val_loss: 1.1159 - val_accuracy: 0.5726\n",
            "Epoch 22/100\n",
            "225/225 [==============================] - 12s 55ms/step - loss: 1.1728 - accuracy: 0.5528 - val_loss: 1.1165 - val_accuracy: 0.5733\n",
            "Epoch 23/100\n",
            "225/225 [==============================] - 12s 54ms/step - loss: 1.1610 - accuracy: 0.5594 - val_loss: 1.1293 - val_accuracy: 0.5759\n",
            "Epoch 24/100\n",
            "225/225 [==============================] - 12s 52ms/step - loss: 1.1516 - accuracy: 0.5640 - val_loss: 1.1213 - val_accuracy: 0.5687\n",
            "Epoch 25/100\n",
            "225/225 [==============================] - 12s 52ms/step - loss: 1.1442 - accuracy: 0.5684 - val_loss: 1.0948 - val_accuracy: 0.5843\n",
            "Epoch 26/100\n",
            "225/225 [==============================] - 12s 52ms/step - loss: 1.1409 - accuracy: 0.5665 - val_loss: 1.0894 - val_accuracy: 0.5819\n",
            "Epoch 27/100\n",
            "225/225 [==============================] - 12s 55ms/step - loss: 1.1341 - accuracy: 0.5672 - val_loss: 1.0864 - val_accuracy: 0.5860\n",
            "Epoch 28/100\n",
            "225/225 [==============================] - 12s 52ms/step - loss: 1.1245 - accuracy: 0.5746 - val_loss: 1.0807 - val_accuracy: 0.5846\n",
            "Epoch 29/100\n",
            "225/225 [==============================] - 12s 52ms/step - loss: 1.1171 - accuracy: 0.5762 - val_loss: 1.0882 - val_accuracy: 0.5893\n",
            "Epoch 30/100\n",
            "225/225 [==============================] - 12s 52ms/step - loss: 1.1099 - accuracy: 0.5813 - val_loss: 1.0914 - val_accuracy: 0.5818\n",
            "Epoch 31/100\n",
            "225/225 [==============================] - 12s 52ms/step - loss: 1.1002 - accuracy: 0.5837 - val_loss: 1.0789 - val_accuracy: 0.5836\n",
            "Epoch 32/100\n",
            "225/225 [==============================] - 12s 55ms/step - loss: 1.0970 - accuracy: 0.5819 - val_loss: 1.0645 - val_accuracy: 0.5931\n",
            "Epoch 33/100\n",
            "225/225 [==============================] - 12s 52ms/step - loss: 1.0917 - accuracy: 0.5858 - val_loss: 1.0563 - val_accuracy: 0.6005\n",
            "Epoch 34/100\n",
            "225/225 [==============================] - 12s 52ms/step - loss: 1.0869 - accuracy: 0.5899 - val_loss: 1.0659 - val_accuracy: 0.5963\n",
            "Epoch 35/100\n",
            "225/225 [==============================] - 12s 53ms/step - loss: 1.0798 - accuracy: 0.5929 - val_loss: 1.0687 - val_accuracy: 0.5942\n",
            "Epoch 36/100\n",
            "225/225 [==============================] - 12s 53ms/step - loss: 1.0691 - accuracy: 0.5930 - val_loss: 1.0637 - val_accuracy: 0.5978\n",
            "Epoch 37/100\n",
            "225/225 [==============================] - 12s 55ms/step - loss: 1.0614 - accuracy: 0.6018 - val_loss: 1.0605 - val_accuracy: 0.5942\n",
            "Epoch 38/100\n",
            "225/225 [==============================] - 12s 54ms/step - loss: 1.0506 - accuracy: 0.6026 - val_loss: 1.0568 - val_accuracy: 0.6015\n",
            "Epoch 39/100\n",
            "225/225 [==============================] - 12s 52ms/step - loss: 1.0480 - accuracy: 0.6091 - val_loss: 1.0498 - val_accuracy: 0.6028\n",
            "Epoch 40/100\n",
            "225/225 [==============================] - 12s 52ms/step - loss: 1.0473 - accuracy: 0.6056 - val_loss: 1.0531 - val_accuracy: 0.6021\n",
            "Epoch 41/100\n",
            "225/225 [==============================] - 12s 52ms/step - loss: 1.0448 - accuracy: 0.6088 - val_loss: 1.0465 - val_accuracy: 0.6023\n",
            "Epoch 42/100\n",
            "225/225 [==============================] - 12s 52ms/step - loss: 1.0368 - accuracy: 0.6118 - val_loss: 1.0429 - val_accuracy: 0.6005\n",
            "Epoch 43/100\n",
            "225/225 [==============================] - 12s 54ms/step - loss: 1.0310 - accuracy: 0.6164 - val_loss: 1.0429 - val_accuracy: 0.6003\n",
            "Epoch 44/100\n",
            "225/225 [==============================] - 12s 52ms/step - loss: 1.0191 - accuracy: 0.6178 - val_loss: 1.0518 - val_accuracy: 0.5999\n",
            "Epoch 45/100\n",
            "225/225 [==============================] - 13s 57ms/step - loss: 1.0166 - accuracy: 0.6186 - val_loss: 1.0473 - val_accuracy: 0.6093\n",
            "Epoch 46/100\n",
            "225/225 [==============================] - 12s 53ms/step - loss: 1.0106 - accuracy: 0.6200 - val_loss: 1.0296 - val_accuracy: 0.6101\n",
            "Epoch 47/100\n",
            "225/225 [==============================] - 12s 55ms/step - loss: 1.0090 - accuracy: 0.6188 - val_loss: 1.0387 - val_accuracy: 0.6066\n",
            "Epoch 48/100\n",
            "225/225 [==============================] - 13s 57ms/step - loss: 1.0039 - accuracy: 0.6222 - val_loss: 1.0431 - val_accuracy: 0.6073\n",
            "Epoch 49/100\n",
            "225/225 [==============================] - 12s 52ms/step - loss: 1.0001 - accuracy: 0.6258 - val_loss: 1.0438 - val_accuracy: 0.6048\n",
            "Epoch 50/100\n",
            "225/225 [==============================] - 12s 52ms/step - loss: 0.9976 - accuracy: 0.6260 - val_loss: 1.0411 - val_accuracy: 0.6058\n",
            "Epoch 51/100\n",
            "225/225 [==============================] - 12s 53ms/step - loss: 0.9920 - accuracy: 0.6271 - val_loss: 1.0509 - val_accuracy: 0.6038\n",
            "Epoch 52/100\n",
            "225/225 [==============================] - 12s 52ms/step - loss: 0.9949 - accuracy: 0.6273 - val_loss: 1.0331 - val_accuracy: 0.6105\n",
            "Epoch 53/100\n",
            "225/225 [==============================] - 12s 55ms/step - loss: 0.9829 - accuracy: 0.6307 - val_loss: 1.0268 - val_accuracy: 0.6160\n",
            "Epoch 54/100\n",
            "225/225 [==============================] - 12s 52ms/step - loss: 0.9715 - accuracy: 0.6361 - val_loss: 1.0290 - val_accuracy: 0.6108\n",
            "Epoch 55/100\n",
            "225/225 [==============================] - 13s 56ms/step - loss: 0.9665 - accuracy: 0.6388 - val_loss: 1.0246 - val_accuracy: 0.6122\n",
            "Epoch 56/100\n",
            "225/225 [==============================] - 12s 52ms/step - loss: 0.9644 - accuracy: 0.6408 - val_loss: 1.0357 - val_accuracy: 0.6105\n",
            "Epoch 57/100\n",
            "225/225 [==============================] - 12s 55ms/step - loss: 0.9565 - accuracy: 0.6420 - val_loss: 1.0315 - val_accuracy: 0.6104\n",
            "Epoch 58/100\n",
            "225/225 [==============================] - 12s 55ms/step - loss: 0.9572 - accuracy: 0.6440 - val_loss: 1.0258 - val_accuracy: 0.6196\n",
            "Epoch 59/100\n",
            "225/225 [==============================] - 12s 52ms/step - loss: 0.9514 - accuracy: 0.6470 - val_loss: 1.0184 - val_accuracy: 0.6225\n",
            "Epoch 60/100\n",
            "225/225 [==============================] - 12s 53ms/step - loss: 0.9470 - accuracy: 0.6473 - val_loss: 1.0375 - val_accuracy: 0.6059\n",
            "Epoch 61/100\n",
            "225/225 [==============================] - 12s 55ms/step - loss: 0.9447 - accuracy: 0.6461 - val_loss: 1.0201 - val_accuracy: 0.6157\n",
            "Epoch 62/100\n",
            "225/225 [==============================] - 12s 55ms/step - loss: 0.9326 - accuracy: 0.6531 - val_loss: 1.0340 - val_accuracy: 0.6137\n",
            "Epoch 63/100\n",
            "225/225 [==============================] - 12s 52ms/step - loss: 0.9349 - accuracy: 0.6504 - val_loss: 1.0277 - val_accuracy: 0.6148\n",
            "Epoch 64/100\n",
            "225/225 [==============================] - 12s 54ms/step - loss: 0.9135 - accuracy: 0.6608 - val_loss: 1.0300 - val_accuracy: 0.6133\n",
            "Epoch 65/100\n",
            "225/225 [==============================] - 12s 52ms/step - loss: 0.9310 - accuracy: 0.6543 - val_loss: 1.0235 - val_accuracy: 0.6153\n",
            "Epoch 66/100\n",
            "225/225 [==============================] - 12s 52ms/step - loss: 0.9160 - accuracy: 0.6587 - val_loss: 1.0210 - val_accuracy: 0.6179\n",
            "Epoch 67/100\n",
            "225/225 [==============================] - 13s 56ms/step - loss: 0.9117 - accuracy: 0.6613 - val_loss: 1.0265 - val_accuracy: 0.6102\n",
            "Epoch 68/100\n",
            "225/225 [==============================] - 12s 52ms/step - loss: 0.9082 - accuracy: 0.6603 - val_loss: 1.0231 - val_accuracy: 0.6204\n",
            "Epoch 69/100\n",
            "225/225 [==============================] - 12s 54ms/step - loss: 0.9064 - accuracy: 0.6624 - val_loss: 1.0124 - val_accuracy: 0.6231\n",
            "Epoch 70/100\n",
            "225/225 [==============================] - 12s 52ms/step - loss: 0.8945 - accuracy: 0.6684 - val_loss: 1.0255 - val_accuracy: 0.6190\n",
            "Epoch 71/100\n",
            "225/225 [==============================] - 12s 53ms/step - loss: 0.9085 - accuracy: 0.6630 - val_loss: 1.0239 - val_accuracy: 0.6182\n",
            "Epoch 72/100\n",
            "225/225 [==============================] - 13s 56ms/step - loss: 0.9005 - accuracy: 0.6661 - val_loss: 1.0248 - val_accuracy: 0.6187\n",
            "Epoch 73/100\n",
            "225/225 [==============================] - 14s 61ms/step - loss: 0.8857 - accuracy: 0.6714 - val_loss: 1.0267 - val_accuracy: 0.6207\n",
            "Epoch 74/100\n",
            "225/225 [==============================] - 12s 55ms/step - loss: 0.8820 - accuracy: 0.6731 - val_loss: 1.0185 - val_accuracy: 0.6194\n",
            "Epoch 75/100\n",
            "225/225 [==============================] - 12s 55ms/step - loss: 0.8790 - accuracy: 0.6749 - val_loss: 1.0251 - val_accuracy: 0.6231\n",
            "Epoch 76/100\n",
            "225/225 [==============================] - 12s 52ms/step - loss: 0.8681 - accuracy: 0.6814 - val_loss: 1.0228 - val_accuracy: 0.6217\n",
            "Epoch 77/100\n",
            "225/225 [==============================] - 12s 55ms/step - loss: 0.8765 - accuracy: 0.6777 - val_loss: 1.0171 - val_accuracy: 0.6180\n",
            "Epoch 78/100\n",
            "225/225 [==============================] - 12s 53ms/step - loss: 0.8670 - accuracy: 0.6797 - val_loss: 1.0327 - val_accuracy: 0.6175\n",
            "Epoch 79/100\n",
            "225/225 [==============================] - 12s 53ms/step - loss: 0.8563 - accuracy: 0.6857 - val_loss: 1.0152 - val_accuracy: 0.6325\n",
            "Epoch 80/100\n",
            "225/225 [==============================] - 12s 55ms/step - loss: 0.8666 - accuracy: 0.6802 - val_loss: 1.0200 - val_accuracy: 0.6226\n",
            "Epoch 81/100\n",
            "225/225 [==============================] - 12s 52ms/step - loss: 0.8608 - accuracy: 0.6823 - val_loss: 1.0211 - val_accuracy: 0.6291\n",
            "Epoch 82/100\n",
            "225/225 [==============================] - 12s 55ms/step - loss: 0.8501 - accuracy: 0.6852 - val_loss: 1.0194 - val_accuracy: 0.6275\n",
            "Epoch 83/100\n",
            "225/225 [==============================] - 12s 53ms/step - loss: 0.8493 - accuracy: 0.6861 - val_loss: 1.0296 - val_accuracy: 0.6211\n",
            "Epoch 84/100\n",
            "225/225 [==============================] - 12s 52ms/step - loss: 0.8393 - accuracy: 0.6908 - val_loss: 1.0361 - val_accuracy: 0.6225\n",
            "Epoch 85/100\n",
            "225/225 [==============================] - 12s 55ms/step - loss: 0.8388 - accuracy: 0.6917 - val_loss: 1.0229 - val_accuracy: 0.6274\n",
            "Epoch 86/100\n",
            "225/225 [==============================] - 12s 55ms/step - loss: 0.8340 - accuracy: 0.6954 - val_loss: 1.0136 - val_accuracy: 0.6264\n",
            "Epoch 87/100\n",
            "225/225 [==============================] - 12s 53ms/step - loss: 0.8298 - accuracy: 0.6977 - val_loss: 1.0307 - val_accuracy: 0.6242\n",
            "Epoch 88/100\n",
            "225/225 [==============================] - 12s 53ms/step - loss: 0.8282 - accuracy: 0.6977 - val_loss: 1.0172 - val_accuracy: 0.6314\n",
            "Epoch 89/100\n",
            "225/225 [==============================] - 12s 53ms/step - loss: 0.8239 - accuracy: 0.6988 - val_loss: 1.0403 - val_accuracy: 0.6207\n",
            "Epoch 90/100\n",
            "225/225 [==============================] - 12s 54ms/step - loss: 0.8215 - accuracy: 0.6986 - val_loss: 1.0267 - val_accuracy: 0.6245\n",
            "Epoch 91/100\n",
            "225/225 [==============================] - 12s 55ms/step - loss: 0.8129 - accuracy: 0.7009 - val_loss: 1.0274 - val_accuracy: 0.6279\n",
            "Epoch 92/100\n",
            "225/225 [==============================] - 12s 53ms/step - loss: 0.8182 - accuracy: 0.6996 - val_loss: 1.0139 - val_accuracy: 0.6261\n",
            "Epoch 93/100\n",
            "225/225 [==============================] - 12s 53ms/step - loss: 0.8070 - accuracy: 0.7070 - val_loss: 1.0212 - val_accuracy: 0.6302\n",
            "Epoch 94/100\n",
            "225/225 [==============================] - 12s 53ms/step - loss: 0.8059 - accuracy: 0.7077 - val_loss: 1.0262 - val_accuracy: 0.6252\n",
            "Epoch 95/100\n",
            "225/225 [==============================] - 12s 53ms/step - loss: 0.8040 - accuracy: 0.7035 - val_loss: 1.0273 - val_accuracy: 0.6263\n",
            "Epoch 96/100\n",
            "225/225 [==============================] - 12s 55ms/step - loss: 0.7890 - accuracy: 0.7113 - val_loss: 1.0214 - val_accuracy: 0.6275\n",
            "Epoch 97/100\n",
            "225/225 [==============================] - 12s 52ms/step - loss: 0.7985 - accuracy: 0.7086 - val_loss: 1.0336 - val_accuracy: 0.6272\n",
            "Epoch 98/100\n",
            "225/225 [==============================] - 13s 56ms/step - loss: 0.8006 - accuracy: 0.7103 - val_loss: 1.0292 - val_accuracy: 0.6207\n",
            "Epoch 99/100\n",
            "225/225 [==============================] - 13s 56ms/step - loss: 0.7872 - accuracy: 0.7132 - val_loss: 1.0343 - val_accuracy: 0.6282\n",
            "Epoch 100/100\n",
            "225/225 [==============================] - 12s 54ms/step - loss: 0.7801 - accuracy: 0.7133 - val_loss: 1.0313 - val_accuracy: 0.6268\n"
          ]
        }
      ],
      "source": [
        "history = model.fit(x=X_train, y=y_train, batch_size=128, epochs=100, validation_data=(X_test, y_test))"
      ]
    },
    {
      "cell_type": "code",
      "execution_count": 23,
      "id": "5ef65574",
      "metadata": {
        "execution": {
          "iopub.execute_input": "2023-06-21T18:50:49.316553Z",
          "iopub.status.busy": "2023-06-21T18:50:49.316188Z",
          "iopub.status.idle": "2023-06-21T18:50:49.896732Z",
          "shell.execute_reply": "2023-06-21T18:50:49.895705Z"
        },
        "papermill": {
          "duration": 1.716194,
          "end_time": "2023-06-21T18:50:49.898970",
          "exception": false,
          "start_time": "2023-06-21T18:50:48.182776",
          "status": "completed"
        },
        "tags": [],
        "id": "5ef65574",
        "colab": {
          "base_uri": "https://localhost:8080/",
          "height": 887
        },
        "outputId": "89ae541f-f372-474d-f529-2f76b31b9c40"
      },
      "outputs": [
        {
          "output_type": "display_data",
          "data": {
            "text/plain": [
              "<Figure size 640x480 with 1 Axes>"
            ],
            "image/png": "[encoded data removed]"
          },
          "metadata": {}
        },
        {
          "output_type": "display_data",
          "data": {
            "text/plain": [
              "<Figure size 640x480 with 1 Axes>"
            ],
            "image/png": "[encoded data removed]"
          },
          "metadata": {}
        }
      ],
      "source": [
        "acc = history.history['accuracy']\n",
        "val_acc = history.history['val_accuracy']\n",
        "epochs = range(len(acc))\n",
        "\n",
        "plt.plot(epochs, acc, 'b', label='Training Accuracy')\n",
        "plt.plot(epochs, val_acc, 'r', label='Validation Accuracy')\n",
        "plt.title('Accuracy Graph')\n",
        "plt.legend()\n",
        "plt.figure()\n",
        "\n",
        "loss = history.history['loss']\n",
        "val_loss = history.history['val_loss']\n",
        "epochs = range(len(acc))\n",
        "\n",
        "plt.plot(epochs, loss, 'b', label='Training Loss')\n",
        "plt.plot(epochs, val_loss, 'r', label='Validation Loss')\n",
        "plt.title('Loss Graph')\n",
        "plt.legend()\n",
        "\n",
        "plt.show()"
      ]
    },
    {
      "cell_type": "markdown",
      "id": "b0d01e4e",
      "metadata": {
        "papermill": {
          "duration": 1.267371,
          "end_time": "2023-06-21T18:50:52.264313",
          "exception": false,
          "start_time": "2023-06-21T18:50:50.996942",
          "status": "completed"
        },
        "tags": [],
        "id": "b0d01e4e"
      },
      "source": [
        "# Prediction"
      ]
    },
    {
      "cell_type": "code",
      "execution_count": 24,
      "id": "8e552dea",
      "metadata": {
        "execution": {
          "iopub.execute_input": "2023-06-21T18:50:54.896570Z",
          "iopub.status.busy": "2023-06-21T18:50:54.896190Z",
          "iopub.status.idle": "2023-06-21T18:50:55.535189Z",
          "shell.execute_reply": "2023-06-21T18:50:55.534287Z"
        },
        "papermill": {
          "duration": 1.724432,
          "end_time": "2023-06-21T18:50:55.537548",
          "exception": false,
          "start_time": "2023-06-21T18:50:53.813116",
          "status": "completed"
        },
        "tags": [],
        "id": "8e552dea",
        "colab": {
          "base_uri": "https://localhost:8080/",
          "height": 483
        },
        "outputId": "46cde1ba-38a8-4948-a917-f3cb9ad312c3"
      },
      "outputs": [
        {
          "output_type": "stream",
          "name": "stdout",
          "text": [
            "True Output:  neutral\n",
            "1/1 [==============================] - 0s 332ms/step\n",
            "Predicted Output: neutral\n"
          ]
        },
        {
          "output_type": "display_data",
          "data": {
            "text/plain": [
              "<Figure size 640x480 with 1 Axes>"
            ],
            "image/png": "[encoded data removed]"
          },
          "metadata": {}
        }
      ],
      "source": [
        "import random\n",
        "img_idx = random.randint(0,len(test))\n",
        "print(\"True Output: \",test['labels'][img_idx])\n",
        "pred = model.predict(X_test[img_idx].reshape(1, 48, 48, 1))\n",
        "prediction_label = le.inverse_transform([pred.argmax()])[0]\n",
        "print(\"Predicted Output:\", prediction_label)\n",
        "plt.imshow(X_test[img_idx].reshape(48, 48), cmap='gray');"
      ]
    },
    {
      "cell_type": "code",
      "execution_count": 25,
      "id": "0c59ef76",
      "metadata": {
        "execution": {
          "iopub.execute_input": "2023-06-21T18:50:57.746598Z",
          "iopub.status.busy": "2023-06-21T18:50:57.746255Z",
          "iopub.status.idle": "2023-06-21T18:50:58.062961Z",
          "shell.execute_reply": "2023-06-21T18:50:58.061917Z"
        },
        "papermill": {
          "duration": 1.38361,
          "end_time": "2023-06-21T18:50:58.065487",
          "exception": false,
          "start_time": "2023-06-21T18:50:56.681877",
          "status": "completed"
        },
        "tags": [],
        "id": "0c59ef76",
        "colab": {
          "base_uri": "https://localhost:8080/",
          "height": 483
        },
        "outputId": "920192da-9091-483c-9b91-14f3b1099b74"
      },
      "outputs": [
        {
          "output_type": "stream",
          "name": "stdout",
          "text": [
            "True Output:  happy\n",
            "1/1 [==============================] - 0s 18ms/step\n",
            "Predicted Output: happy\n"
          ]
        },
        {
          "output_type": "display_data",
          "data": {
            "text/plain": [
              "<Figure size 640x480 with 1 Axes>"
            ],
            "image/png": "[encoded data removed]"
          },
          "metadata": {}
        }
      ],
      "source": [
        "img_idx = random.randint(0,len(test))\n",
        "print(\"True Output: \",test['labels'][img_idx])\n",
        "pred = model.predict(X_test[img_idx].reshape(1, 48, 48, 1))\n",
        "prediction_label = le.inverse_transform([pred.argmax()])[0]\n",
        "print(\"Predicted Output:\", prediction_label)\n",
        "plt.imshow(X_test[img_idx].reshape(48, 48), cmap='gray');"
      ]
    },
    {
      "cell_type": "code",
      "execution_count": 26,
      "id": "b09217d6",
      "metadata": {
        "execution": {
          "iopub.execute_input": "2023-06-21T18:51:00.294196Z",
          "iopub.status.busy": "2023-06-21T18:51:00.293826Z",
          "iopub.status.idle": "2023-06-21T18:51:00.864905Z",
          "shell.execute_reply": "2023-06-21T18:51:00.864020Z"
        },
        "papermill": {
          "duration": 1.656332,
          "end_time": "2023-06-21T18:51:00.866950",
          "exception": false,
          "start_time": "2023-06-21T18:50:59.210618",
          "status": "completed"
        },
        "tags": [],
        "id": "b09217d6",
        "colab": {
          "base_uri": "https://localhost:8080/",
          "height": 483
        },
        "outputId": "53fbb37f-cf06-4eac-cd57-9d686ecf5bf6"
      },
      "outputs": [
        {
          "output_type": "stream",
          "name": "stdout",
          "text": [
            "True Output:  sad\n",
            "1/1 [==============================] - 0s 20ms/step\n",
            "Predicted Output: sad\n"
          ]
        },
        {
          "output_type": "display_data",
          "data": {
            "text/plain": [
              "<Figure size 640x480 with 1 Axes>"
            ],
            "image/png": "[encoded data removed]"
          },
          "metadata": {}
        }
      ],
      "source": [
        "img_idx = random.randint(0,len(test))\n",
        "print(\"True Output: \",test['labels'][img_idx])\n",
        "pred = model.predict(X_test[img_idx].reshape(1, 48, 48, 1))\n",
        "prediction_label = le.inverse_transform([pred.argmax()])[0]\n",
        "print(\"Predicted Output:\", prediction_label)\n",
        "plt.imshow(X_test[img_idx].reshape(48, 48), cmap='gray');"
      ]
    }
  ],
  "metadata": {
    "kernelspec": {
      "display_name": "Python 3",
      "name": "python3"
    },
    "language_info": {
      "codemirror_mode": {
        "name": "ipython",
        "version": 3
      },
      "file_extension": ".py",
      "mimetype": "text/x-python",
      "name": "python",
      "nbconvert_exporter": "python",
      "pygments_lexer": "ipython3",
      "version": "3.10.10"
    },
    "papermill": {
      "default_parameters": {},
      "duration": 1547.585277,
      "end_time": "2023-06-21T18:51:07.176398",
      "environment_variables": {},
      "exception": null,
      "input_path": "__notebook__.ipynb",
      "output_path": "__notebook__.ipynb",
      "parameters": {},
      "start_time": "2023-06-21T18:25:19.591121",
      "version": "2.4.0"
    },
    "colab": {
      "provenance": [],
      "gpuType": "T4",
      "include_colab_link": true
    },
    "accelerator": "GPU",
    "widgets": {
      "application/vnd.jupyter.widget-state+json": {
        "debf750be2b24a7ebd006a39d3856be4": {
          "model_module": "@jupyter-widgets/controls",
          "model_name": "HBoxModel",
          "model_module_version": "1.5.0",
          "state": {
            "_dom_classes": [],
            "_model_module": "@jupyter-widgets/controls",
            "_model_module_version": "1.5.0",
            "_model_name": "HBoxModel",
            "_view_count": null,
            "_view_module": "@jupyter-widgets/controls",
            "_view_module_version": "1.5.0",
            "_view_name": "HBoxView",
            "box_style": "",
            "children": [
              "IPY_MODEL_dc3af39640d448b798b4925d8e5fcd19",
              "IPY_MODEL_3c2af5b8808e4b0eb78516fecef84f62",
              "IPY_MODEL_3be4d31ff6b442e49f276e707955cdaf"
            ],
            "layout": "IPY_MODEL_cb31c51b01b840b4848a1b7c1ab85c81"
          }
        },
        "dc3af39640d448b798b4925d8e5fcd19": {
          "model_module": "@jupyter-widgets/controls",
          "model_name": "HTMLModel",
          "model_module_version": "1.5.0",
          "state": {
            "_dom_classes": [],
            "_model_module": "@jupyter-widgets/controls",
            "_model_module_version": "1.5.0",
            "_model_name": "HTMLModel",
            "_view_count": null,
            "_view_module": "@jupyter-widgets/controls",
            "_view_module_version": "1.5.0",
            "_view_name": "HTMLView",
            "description": "",
            "description_tooltip": null,
            "layout": "IPY_MODEL_a7489505be2a46479b3ad0dbefecfa99",
            "placeholder": "​",
            "style": "IPY_MODEL_154765457cdb44518984a5f5f5bb1bd4",
            "value": "100%"
          }
        },
        "3c2af5b8808e4b0eb78516fecef84f62": {
          "model_module": "@jupyter-widgets/controls",
          "model_name": "FloatProgressModel",
          "model_module_version": "1.5.0",
          "state": {
            "_dom_classes": [],
            "_model_module": "@jupyter-widgets/controls",
            "_model_module_version": "1.5.0",
            "_model_name": "FloatProgressModel",
            "_view_count": null,
            "_view_module": "@jupyter-widgets/controls",
            "_view_module_version": "1.5.0",
            "_view_name": "ProgressView",
            "bar_style": "success",
            "description": "",
            "description_tooltip": null,
            "layout": "IPY_MODEL_b70044e54d2e448ebad7afb4be1f3be0",
            "max": 28709,
            "min": 0,
            "orientation": "horizontal",
            "style": "IPY_MODEL_79002a2384964f3989ef4d96eb1ce380",
            "value": 28709
          }
        },
        "3be4d31ff6b442e49f276e707955cdaf": {
          "model_module": "@jupyter-widgets/controls",
          "model_name": "HTMLModel",
          "model_module_version": "1.5.0",
          "state": {
            "_dom_classes": [],
            "_model_module": "@jupyter-widgets/controls",
            "_model_module_version": "1.5.0",
            "_model_name": "HTMLModel",
            "_view_count": null,
            "_view_module": "@jupyter-widgets/controls",
            "_view_module_version": "1.5.0",
            "_view_name": "HTMLView",
            "description": "",
            "description_tooltip": null,
            "layout": "IPY_MODEL_e6565f20247f4ad388f106d11e721957",
            "placeholder": "​",
            "style": "IPY_MODEL_df5a1ea054ff490a9c4a4d2551565c30",
            "value": " 28709/28709 [1:17:45&lt;00:00,  5.45it/s]"
          }
        },
        "cb31c51b01b840b4848a1b7c1ab85c81": {
          "model_module": "@jupyter-widgets/base",
          "model_name": "LayoutModel",
          "model_module_version": "1.2.0",
          "state": {
            "_model_module": "@jupyter-widgets/base",
            "_model_module_version": "1.2.0",
            "_model_name": "LayoutModel",
            "_view_count": null,
            "_view_module": "@jupyter-widgets/base",
            "_view_module_version": "1.2.0",
            "_view_name": "LayoutView",
            "align_content": null,
            "align_items": null,
            "align_self": null,
            "border": null,
            "bottom": null,
            "display": null,
            "flex": null,
            "flex_flow": null,
            "grid_area": null,
            "grid_auto_columns": null,
            "grid_auto_flow": null,
            "grid_auto_rows": null,
            "grid_column": null,
            "grid_gap": null,
            "grid_row": null,
            "grid_template_areas": null,
            "grid_template_columns": null,
            "grid_template_rows": null,
            "height": null,
            "justify_content": null,
            "justify_items": null,
            "left": null,
            "margin": null,
            "max_height": null,
            "max_width": null,
            "min_height": null,
            "min_width": null,
            "object_fit": null,
            "object_position": null,
            "order": null,
            "overflow": null,
            "overflow_x": null,
            "overflow_y": null,
            "padding": null,
            "right": null,
            "top": null,
            "visibility": null,
            "width": null
          }
        },
        "a7489505be2a46479b3ad0dbefecfa99": {
          "model_module": "@jupyter-widgets/base",
          "model_name": "LayoutModel",
          "model_module_version": "1.2.0",
          "state": {
            "_model_module": "@jupyter-widgets/base",
            "_model_module_version": "1.2.0",
            "_model_name": "LayoutModel",
            "_view_count": null,
            "_view_module": "@jupyter-widgets/base",
            "_view_module_version": "1.2.0",
            "_view_name": "LayoutView",
            "align_content": null,
            "align_items": null,
            "align_self": null,
            "border": null,
            "bottom": null,
            "display": null,
            "flex": null,
            "flex_flow": null,
            "grid_area": null,
            "grid_auto_columns": null,
            "grid_auto_flow": null,
            "grid_auto_rows": null,
            "grid_column": null,
            "grid_gap": null,
            "grid_row": null,
            "grid_template_areas": null,
            "grid_template_columns": null,
            "grid_template_rows": null,
            "height": null,
            "justify_content": null,
            "justify_items": null,
            "left": null,
            "margin": null,
            "max_height": null,
            "max_width": null,
            "min_height": null,
            "min_width": null,
            "object_fit": null,
            "object_position": null,
            "order": null,
            "overflow": null,
            "overflow_x": null,
            "overflow_y": null,
            "padding": null,
            "right": null,
            "top": null,
            "visibility": null,
            "width": null
          }
        },
        "154765457cdb44518984a5f5f5bb1bd4": {
          "model_module": "@jupyter-widgets/controls",
          "model_name": "DescriptionStyleModel",
          "model_module_version": "1.5.0",
          "state": {
            "_model_module": "@jupyter-widgets/controls",
            "_model_module_version": "1.5.0",
            "_model_name": "DescriptionStyleModel",
            "_view_count": null,
            "_view_module": "@jupyter-widgets/base",
            "_view_module_version": "1.2.0",
            "_view_name": "StyleView",
            "description_width": ""
          }
        },
        "b70044e54d2e448ebad7afb4be1f3be0": {
          "model_module": "@jupyter-widgets/base",
          "model_name": "LayoutModel",
          "model_module_version": "1.2.0",
          "state": {
            "_model_module": "@jupyter-widgets/base",
            "_model_module_version": "1.2.0",
            "_model_name": "LayoutModel",
            "_view_count": null,
            "_view_module": "@jupyter-widgets/base",
            "_view_module_version": "1.2.0",
            "_view_name": "LayoutView",
            "align_content": null,
            "align_items": null,
            "align_self": null,
            "border": null,
            "bottom": null,
            "display": null,
            "flex": null,
            "flex_flow": null,
            "grid_area": null,
            "grid_auto_columns": null,
            "grid_auto_flow": null,
            "grid_auto_rows": null,
            "grid_column": null,
            "grid_gap": null,
            "grid_row": null,
            "grid_template_areas": null,
            "grid_template_columns": null,
            "grid_template_rows": null,
            "height": null,
            "justify_content": null,
            "justify_items": null,
            "left": null,
            "margin": null,
            "max_height": null,
            "max_width": null,
            "min_height": null,
            "min_width": null,
            "object_fit": null,
            "object_position": null,
            "order": null,
            "overflow": null,
            "overflow_x": null,
            "overflow_y": null,
            "padding": null,
            "right": null,
            "top": null,
            "visibility": null,
            "width": null
          }
        },
        "79002a2384964f3989ef4d96eb1ce380": {
          "model_module": "@jupyter-widgets/controls",
          "model_name": "ProgressStyleModel",
          "model_module_version": "1.5.0",
          "state": {
            "_model_module": "@jupyter-widgets/controls",
            "_model_module_version": "1.5.0",
            "_model_name": "ProgressStyleModel",
            "_view_count": null,
            "_view_module": "@jupyter-widgets/base",
            "_view_module_version": "1.2.0",
            "_view_name": "StyleView",
            "bar_color": null,
            "description_width": ""
          }
        },
        "e6565f20247f4ad388f106d11e721957": {
          "model_module": "@jupyter-widgets/base",
          "model_name": "LayoutModel",
          "model_module_version": "1.2.0",
          "state": {
            "_model_module": "@jupyter-widgets/base",
            "_model_module_version": "1.2.0",
            "_model_name": "LayoutModel",
            "_view_count": null,
            "_view_module": "@jupyter-widgets/base",
            "_view_module_version": "1.2.0",
            "_view_name": "LayoutView",
            "align_content": null,
            "align_items": null,
            "align_self": null,
            "border": null,
            "bottom": null,
            "display": null,
            "flex": null,
            "flex_flow": null,
            "grid_area": null,
            "grid_auto_columns": null,
            "grid_auto_flow": null,
            "grid_auto_rows": null,
            "grid_column": null,
            "grid_gap": null,
            "grid_row": null,
            "grid_template_areas": null,
            "grid_template_columns": null,
            "grid_template_rows": null,
            "height": null,
            "justify_content": null,
            "justify_items": null,
            "left": null,
            "margin": null,
            "max_height": null,
            "max_width": null,
            "min_height": null,
            "min_width": null,
            "object_fit": null,
            "object_position": null,
            "order": null,
            "overflow": null,
            "overflow_x": null,
            "overflow_y": null,
            "padding": null,
            "right": null,
            "top": null,
            "visibility": null,
            "width": null
          }
        },
        "df5a1ea054ff490a9c4a4d2551565c30": {
          "model_module": "@jupyter-widgets/controls",
          "model_name": "DescriptionStyleModel",
          "model_module_version": "1.5.0",
          "state": {
            "_model_module": "@jupyter-widgets/controls",
            "_model_module_version": "1.5.0",
            "_model_name": "DescriptionStyleModel",
            "_view_count": null,
            "_view_module": "@jupyter-widgets/base",
            "_view_module_version": "1.2.0",
            "_view_name": "StyleView",
            "description_width": ""
          }
        },
        "3239618df2464076b14f7ee9e2b673d5": {
          "model_module": "@jupyter-widgets/controls",
          "model_name": "HBoxModel",
          "model_module_version": "1.5.0",
          "state": {
            "_dom_classes": [],
            "_model_module": "@jupyter-widgets/controls",
            "_model_module_version": "1.5.0",
            "_model_name": "HBoxModel",
            "_view_count": null,
            "_view_module": "@jupyter-widgets/controls",
            "_view_module_version": "1.5.0",
            "_view_name": "HBoxView",
            "box_style": "",
            "children": [
              "IPY_MODEL_3441b794f3494e25b9c16650ad2541a6",
              "IPY_MODEL_937ded2c3930406ea0635b3b0e226fec",
              "IPY_MODEL_6cd4b302f2184647a4864a2d236e1750"
            ],
            "layout": "IPY_MODEL_4c3f412dc44542a9895dd6c53f5fbbaa"
          }
        },
        "3441b794f3494e25b9c16650ad2541a6": {
          "model_module": "@jupyter-widgets/controls",
          "model_name": "HTMLModel",
          "model_module_version": "1.5.0",
          "state": {
            "_dom_classes": [],
            "_model_module": "@jupyter-widgets/controls",
            "_model_module_version": "1.5.0",
            "_model_name": "HTMLModel",
            "_view_count": null,
            "_view_module": "@jupyter-widgets/controls",
            "_view_module_version": "1.5.0",
            "_view_name": "HTMLView",
            "description": "",
            "description_tooltip": null,
            "layout": "IPY_MODEL_44cf9c50b87c426083f79e29a6f71bc4",
            "placeholder": "​",
            "style": "IPY_MODEL_d224ba634ea6467097aa8003a85af7bc",
            "value": "100%"
          }
        },
        "937ded2c3930406ea0635b3b0e226fec": {
          "model_module": "@jupyter-widgets/controls",
          "model_name": "FloatProgressModel",
          "model_module_version": "1.5.0",
          "state": {
            "_dom_classes": [],
            "_model_module": "@jupyter-widgets/controls",
            "_model_module_version": "1.5.0",
            "_model_name": "FloatProgressModel",
            "_view_count": null,
            "_view_module": "@jupyter-widgets/controls",
            "_view_module_version": "1.5.0",
            "_view_name": "ProgressView",
            "bar_style": "success",
            "description": "",
            "description_tooltip": null,
            "layout": "IPY_MODEL_51f521abe7ac445b93e471040ddafa1a",
            "max": 7171,
            "min": 0,
            "orientation": "horizontal",
            "style": "IPY_MODEL_9decde0da35b41edbb158796a5fb17ef",
            "value": 7171
          }
        },
        "6cd4b302f2184647a4864a2d236e1750": {
          "model_module": "@jupyter-widgets/controls",
          "model_name": "HTMLModel",
          "model_module_version": "1.5.0",
          "state": {
            "_dom_classes": [],
            "_model_module": "@jupyter-widgets/controls",
            "_model_module_version": "1.5.0",
            "_model_name": "HTMLModel",
            "_view_count": null,
            "_view_module": "@jupyter-widgets/controls",
            "_view_module_version": "1.5.0",
            "_view_name": "HTMLView",
            "description": "",
            "description_tooltip": null,
            "layout": "IPY_MODEL_4c616c46553d45f4b918e92a9f15565b",
            "placeholder": "​",
            "style": "IPY_MODEL_f0fa572b1e3a4a41a20726612b88d60c",
            "value": " 7171/7171 [19:22&lt;00:00,  5.52it/s]"
          }
        },
        "4c3f412dc44542a9895dd6c53f5fbbaa": {
          "model_module": "@jupyter-widgets/base",
          "model_name": "LayoutModel",
          "model_module_version": "1.2.0",
          "state": {
            "_model_module": "@jupyter-widgets/base",
            "_model_module_version": "1.2.0",
            "_model_name": "LayoutModel",
            "_view_count": null,
            "_view_module": "@jupyter-widgets/base",
            "_view_module_version": "1.2.0",
            "_view_name": "LayoutView",
            "align_content": null,
            "align_items": null,
            "align_self": null,
            "border": null,
            "bottom": null,
            "display": null,
            "flex": null,
            "flex_flow": null,
            "grid_area": null,
            "grid_auto_columns": null,
            "grid_auto_flow": null,
            "grid_auto_rows": null,
            "grid_column": null,
            "grid_gap": null,
            "grid_row": null,
            "grid_template_areas": null,
            "grid_template_columns": null,
            "grid_template_rows": null,
            "height": null,
            "justify_content": null,
            "justify_items": null,
            "left": null,
            "margin": null,
            "max_height": null,
            "max_width": null,
            "min_height": null,
            "min_width": null,
            "object_fit": null,
            "object_position": null,
            "order": null,
            "overflow": null,
            "overflow_x": null,
            "overflow_y": null,
            "padding": null,
            "right": null,
            "top": null,
            "visibility": null,
            "width": null
          }
        },
        "44cf9c50b87c426083f79e29a6f71bc4": {
          "model_module": "@jupyter-widgets/base",
          "model_name": "LayoutModel",
          "model_module_version": "1.2.0",
          "state": {
            "_model_module": "@jupyter-widgets/base",
            "_model_module_version": "1.2.0",
            "_model_name": "LayoutModel",
            "_view_count": null,
            "_view_module": "@jupyter-widgets/base",
            "_view_module_version": "1.2.0",
            "_view_name": "LayoutView",
            "align_content": null,
            "align_items": null,
            "align_self": null,
            "border": null,
            "bottom": null,
            "display": null,
            "flex": null,
            "flex_flow": null,
            "grid_area": null,
            "grid_auto_columns": null,
            "grid_auto_flow": null,
            "grid_auto_rows": null,
            "grid_column": null,
            "grid_gap": null,
            "grid_row": null,
            "grid_template_areas": null,
            "grid_template_columns": null,
            "grid_template_rows": null,
            "height": null,
            "justify_content": null,
            "justify_items": null,
            "left": null,
            "margin": null,
            "max_height": null,
            "max_width": null,
            "min_height": null,
            "min_width": null,
            "object_fit": null,
            "object_position": null,
            "order": null,
            "overflow": null,
            "overflow_x": null,
            "overflow_y": null,
            "padding": null,
            "right": null,
            "top": null,
            "visibility": null,
            "width": null
          }
        },
        "d224ba634ea6467097aa8003a85af7bc": {
          "model_module": "@jupyter-widgets/controls",
          "model_name": "DescriptionStyleModel",
          "model_module_version": "1.5.0",
          "state": {
            "_model_module": "@jupyter-widgets/controls",
            "_model_module_version": "1.5.0",
            "_model_name": "DescriptionStyleModel",
            "_view_count": null,
            "_view_module": "@jupyter-widgets/base",
            "_view_module_version": "1.2.0",
            "_view_name": "StyleView",
            "description_width": ""
          }
        },
        "51f521abe7ac445b93e471040ddafa1a": {
          "model_module": "@jupyter-widgets/base",
          "model_name": "LayoutModel",
          "model_module_version": "1.2.0",
          "state": {
            "_model_module": "@jupyter-widgets/base",
            "_model_module_version": "1.2.0",
            "_model_name": "LayoutModel",
            "_view_count": null,
            "_view_module": "@jupyter-widgets/base",
            "_view_module_version": "1.2.0",
            "_view_name": "LayoutView",
            "align_content": null,
            "align_items": null,
            "align_self": null,
            "border": null,
            "bottom": null,
            "display": null,
            "flex": null,
            "flex_flow": null,
            "grid_area": null,
            "grid_auto_columns": null,
            "grid_auto_flow": null,
            "grid_auto_rows": null,
            "grid_column": null,
            "grid_gap": null,
            "grid_row": null,
            "grid_template_areas": null,
            "grid_template_columns": null,
            "grid_template_rows": null,
            "height": null,
            "justify_content": null,
            "justify_items": null,
            "left": null,
            "margin": null,
            "max_height": null,
            "max_width": null,
            "min_height": null,
            "min_width": null,
            "object_fit": null,
            "object_position": null,
            "order": null,
            "overflow": null,
            "overflow_x": null,
            "overflow_y": null,
            "padding": null,
            "right": null,
            "top": null,
            "visibility": null,
            "width": null
          }
        },
        "9decde0da35b41edbb158796a5fb17ef": {
          "model_module": "@jupyter-widgets/controls",
          "model_name": "ProgressStyleModel",
          "model_module_version": "1.5.0",
          "state": {
            "_model_module": "@jupyter-widgets/controls",
            "_model_module_version": "1.5.0",
            "_model_name": "ProgressStyleModel",
            "_view_count": null,
            "_view_module": "@jupyter-widgets/base",
            "_view_module_version": "1.2.0",
            "_view_name": "StyleView",
            "bar_color": null,
            "description_width": ""
          }
        },
        "4c616c46553d45f4b918e92a9f15565b": {
          "model_module": "@jupyter-widgets/base",
          "model_name": "LayoutModel",
          "model_module_version": "1.2.0",
          "state": {
            "_model_module": "@jupyter-widgets/base",
            "_model_module_version": "1.2.0",
            "_model_name": "LayoutModel",
            "_view_count": null,
            "_view_module": "@jupyter-widgets/base",
            "_view_module_version": "1.2.0",
            "_view_name": "LayoutView",
            "align_content": null,
            "align_items": null,
            "align_self": null,
            "border": null,
            "bottom": null,
            "display": null,
            "flex": null,
            "flex_flow": null,
            "grid_area": null,
            "grid_auto_columns": null,
            "grid_auto_flow": null,
            "grid_auto_rows": null,
            "grid_column": null,
            "grid_gap": null,
            "grid_row": null,
            "grid_template_areas": null,
            "grid_template_columns": null,
            "grid_template_rows": null,
            "height": null,
            "justify_content": null,
            "justify_items": null,
            "left": null,
            "margin": null,
            "max_height": null,
            "max_width": null,
            "min_height": null,
            "min_width": null,
            "object_fit": null,
            "object_position": null,
            "order": null,
            "overflow": null,
            "overflow_x": null,
            "overflow_y": null,
            "padding": null,
            "right": null,
            "top": null,
            "visibility": null,
            "width": null
          }
        },
        "f0fa572b1e3a4a41a20726612b88d60c": {
          "model_module": "@jupyter-widgets/controls",
          "model_name": "DescriptionStyleModel",
          "model_module_version": "1.5.0",
          "state": {
            "_model_module": "@jupyter-widgets/controls",
            "_model_module_version": "1.5.0",
            "_model_name": "DescriptionStyleModel",
            "_view_count": null,
            "_view_module": "@jupyter-widgets/base",
            "_view_module_version": "1.2.0",
            "_view_name": "StyleView",
            "description_width": ""
          }
        }
      }
    }
  },
  "nbformat": 4,
  "nbformat_minor": 5
}